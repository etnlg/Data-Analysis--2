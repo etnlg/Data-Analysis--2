{
 "cells": [
  {
   "cell_type": "markdown",
   "id": "c619a800-7d86-4628-bbd5-de1830a68b9b",
   "metadata": {},
   "source": [
    "A: An overview of the dataset."
   ]
  },
  {
   "cell_type": "markdown",
   "id": "ad50b7b4-54de-4d43-920c-09798d5ead82",
   "metadata": {},
   "source": [
    "Here, we aim to gain some general information about the dataset before starting our exploration journey."
   ]
  },
  {
   "cell_type": "markdown",
   "id": "d06a26d7-90c9-4ca5-8e1d-de5f4bb0f8d5",
   "metadata": {},
   "source": [
    "First let's import the file into a dataframe."
   ]
  },
  {
   "cell_type": "code",
   "execution_count": 1,
   "id": "278fc6f7-2def-4875-8e72-d3bb5a682af4",
   "metadata": {},
   "outputs": [],
   "source": [
    "import pandas as pd\n",
    "import numpy as np\n",
    "import matplotlib.pyplot as plt\n",
    "import seaborn as sns\n",
    "import re\n",
    "from collections import Counter\n",
    "from matplotlib.colors import LogNorm, Normalize"
   ]
  },
  {
   "cell_type": "code",
   "execution_count": 2,
   "id": "f5a61281-c8b1-460c-8cf8-03aa7941db94",
   "metadata": {},
   "outputs": [
    {
     "data": {
      "text/html": [
       "<div>\n",
       "<style scoped>\n",
       "    .dataframe tbody tr th:only-of-type {\n",
       "        vertical-align: middle;\n",
       "    }\n",
       "\n",
       "    .dataframe tbody tr th {\n",
       "        vertical-align: top;\n",
       "    }\n",
       "\n",
       "    .dataframe thead th {\n",
       "        text-align: right;\n",
       "    }\n",
       "</style>\n",
       "<table border=\"1\" class=\"dataframe\">\n",
       "  <thead>\n",
       "    <tr style=\"text-align: right;\">\n",
       "      <th></th>\n",
       "      <th>alcohol_by_volume</th>\n",
       "      <th>barcode</th>\n",
       "      <th>calcium_per_hundred</th>\n",
       "      <th>calcium_unit</th>\n",
       "      <th>carbohydrates_per_hundred</th>\n",
       "      <th>carbohydrates_per_portion</th>\n",
       "      <th>carbohydrates_unit</th>\n",
       "      <th>cholesterol_per_hundred</th>\n",
       "      <th>cholesterol_unit</th>\n",
       "      <th>copper_cu_per_hundred</th>\n",
       "      <th>...</th>\n",
       "      <th>vitamin_b5_panthothenic_acid_per_hundred</th>\n",
       "      <th>vitamin_b5_panthothenic_acid_unit</th>\n",
       "      <th>vitamin_b6_pyridoxin_per_hundred</th>\n",
       "      <th>vitamin_b6_pyridoxin_unit</th>\n",
       "      <th>vitamin_c_ascorbic_acid_per_hundred</th>\n",
       "      <th>vitamin_c_ascorbic_acid_unit</th>\n",
       "      <th>vitamin_d_d2_d3_international_units_per_hundred</th>\n",
       "      <th>vitamin_d_d2_d3_international_units_unit</th>\n",
       "      <th>zinc_per_hundred</th>\n",
       "      <th>zinc_unit</th>\n",
       "    </tr>\n",
       "  </thead>\n",
       "  <tbody>\n",
       "    <tr>\n",
       "      <th>0</th>\n",
       "      <td>0.0</td>\n",
       "      <td>8001772000030</td>\n",
       "      <td>NaN</td>\n",
       "      <td>NaN</td>\n",
       "      <td>75.00</td>\n",
       "      <td>37.50</td>\n",
       "      <td>g</td>\n",
       "      <td>NaN</td>\n",
       "      <td>NaN</td>\n",
       "      <td>NaN</td>\n",
       "      <td>...</td>\n",
       "      <td>NaN</td>\n",
       "      <td>NaN</td>\n",
       "      <td>NaN</td>\n",
       "      <td>NaN</td>\n",
       "      <td>NaN</td>\n",
       "      <td>NaN</td>\n",
       "      <td>NaN</td>\n",
       "      <td>NaN</td>\n",
       "      <td>NaN</td>\n",
       "      <td>NaN</td>\n",
       "    </tr>\n",
       "    <tr>\n",
       "      <th>1</th>\n",
       "      <td>0.0</td>\n",
       "      <td>7610809001066</td>\n",
       "      <td>NaN</td>\n",
       "      <td>NaN</td>\n",
       "      <td>1.50</td>\n",
       "      <td>1.13</td>\n",
       "      <td>g</td>\n",
       "      <td>NaN</td>\n",
       "      <td>NaN</td>\n",
       "      <td>NaN</td>\n",
       "      <td>...</td>\n",
       "      <td>NaN</td>\n",
       "      <td>NaN</td>\n",
       "      <td>NaN</td>\n",
       "      <td>NaN</td>\n",
       "      <td>NaN</td>\n",
       "      <td>NaN</td>\n",
       "      <td>NaN</td>\n",
       "      <td>NaN</td>\n",
       "      <td>NaN</td>\n",
       "      <td>NaN</td>\n",
       "    </tr>\n",
       "    <tr>\n",
       "      <th>2</th>\n",
       "      <td>0.0</td>\n",
       "      <td>8002530159021</td>\n",
       "      <td>NaN</td>\n",
       "      <td>NaN</td>\n",
       "      <td>52.68</td>\n",
       "      <td>NaN</td>\n",
       "      <td>g</td>\n",
       "      <td>NaN</td>\n",
       "      <td>NaN</td>\n",
       "      <td>NaN</td>\n",
       "      <td>...</td>\n",
       "      <td>NaN</td>\n",
       "      <td>NaN</td>\n",
       "      <td>NaN</td>\n",
       "      <td>NaN</td>\n",
       "      <td>NaN</td>\n",
       "      <td>NaN</td>\n",
       "      <td>NaN</td>\n",
       "      <td>NaN</td>\n",
       "      <td>NaN</td>\n",
       "      <td>NaN</td>\n",
       "    </tr>\n",
       "    <tr>\n",
       "      <th>3</th>\n",
       "      <td>0.0</td>\n",
       "      <td>3033715065788</td>\n",
       "      <td>NaN</td>\n",
       "      <td>NaN</td>\n",
       "      <td>70.40</td>\n",
       "      <td>11.97</td>\n",
       "      <td>g</td>\n",
       "      <td>NaN</td>\n",
       "      <td>NaN</td>\n",
       "      <td>NaN</td>\n",
       "      <td>...</td>\n",
       "      <td>NaN</td>\n",
       "      <td>NaN</td>\n",
       "      <td>NaN</td>\n",
       "      <td>NaN</td>\n",
       "      <td>NaN</td>\n",
       "      <td>NaN</td>\n",
       "      <td>NaN</td>\n",
       "      <td>NaN</td>\n",
       "      <td>NaN</td>\n",
       "      <td>NaN</td>\n",
       "    </tr>\n",
       "    <tr>\n",
       "      <th>4</th>\n",
       "      <td>0.0</td>\n",
       "      <td>7610848492740</td>\n",
       "      <td>NaN</td>\n",
       "      <td>NaN</td>\n",
       "      <td>37.00</td>\n",
       "      <td>7.40</td>\n",
       "      <td>g</td>\n",
       "      <td>NaN</td>\n",
       "      <td>NaN</td>\n",
       "      <td>NaN</td>\n",
       "      <td>...</td>\n",
       "      <td>NaN</td>\n",
       "      <td>NaN</td>\n",
       "      <td>NaN</td>\n",
       "      <td>NaN</td>\n",
       "      <td>NaN</td>\n",
       "      <td>NaN</td>\n",
       "      <td>NaN</td>\n",
       "      <td>NaN</td>\n",
       "      <td>NaN</td>\n",
       "      <td>NaN</td>\n",
       "    </tr>\n",
       "    <tr>\n",
       "      <th>...</th>\n",
       "      <td>...</td>\n",
       "      <td>...</td>\n",
       "      <td>...</td>\n",
       "      <td>...</td>\n",
       "      <td>...</td>\n",
       "      <td>...</td>\n",
       "      <td>...</td>\n",
       "      <td>...</td>\n",
       "      <td>...</td>\n",
       "      <td>...</td>\n",
       "      <td>...</td>\n",
       "      <td>...</td>\n",
       "      <td>...</td>\n",
       "      <td>...</td>\n",
       "      <td>...</td>\n",
       "      <td>...</td>\n",
       "      <td>...</td>\n",
       "      <td>...</td>\n",
       "      <td>...</td>\n",
       "      <td>...</td>\n",
       "      <td>...</td>\n",
       "    </tr>\n",
       "    <tr>\n",
       "      <th>385379</th>\n",
       "      <td>0.0</td>\n",
       "      <td>7640145040283</td>\n",
       "      <td>NaN</td>\n",
       "      <td>NaN</td>\n",
       "      <td>NaN</td>\n",
       "      <td>NaN</td>\n",
       "      <td>NaN</td>\n",
       "      <td>NaN</td>\n",
       "      <td>NaN</td>\n",
       "      <td>NaN</td>\n",
       "      <td>...</td>\n",
       "      <td>NaN</td>\n",
       "      <td>NaN</td>\n",
       "      <td>NaN</td>\n",
       "      <td>NaN</td>\n",
       "      <td>NaN</td>\n",
       "      <td>NaN</td>\n",
       "      <td>NaN</td>\n",
       "      <td>NaN</td>\n",
       "      <td>NaN</td>\n",
       "      <td>NaN</td>\n",
       "    </tr>\n",
       "    <tr>\n",
       "      <th>385380</th>\n",
       "      <td>0.0</td>\n",
       "      <td>7640147023628</td>\n",
       "      <td>850.0</td>\n",
       "      <td>mg</td>\n",
       "      <td>48.60</td>\n",
       "      <td>9.72</td>\n",
       "      <td>g</td>\n",
       "      <td>NaN</td>\n",
       "      <td>NaN</td>\n",
       "      <td>NaN</td>\n",
       "      <td>...</td>\n",
       "      <td>45.0</td>\n",
       "      <td>mg</td>\n",
       "      <td>10.5</td>\n",
       "      <td>mg</td>\n",
       "      <td>500.0</td>\n",
       "      <td>mg</td>\n",
       "      <td>NaN</td>\n",
       "      <td>NaN</td>\n",
       "      <td>37.5</td>\n",
       "      <td>mg</td>\n",
       "    </tr>\n",
       "    <tr>\n",
       "      <th>385381</th>\n",
       "      <td>0.0</td>\n",
       "      <td>3046920021593</td>\n",
       "      <td>NaN</td>\n",
       "      <td>NaN</td>\n",
       "      <td>22.00</td>\n",
       "      <td>NaN</td>\n",
       "      <td>g</td>\n",
       "      <td>NaN</td>\n",
       "      <td>NaN</td>\n",
       "      <td>NaN</td>\n",
       "      <td>...</td>\n",
       "      <td>NaN</td>\n",
       "      <td>NaN</td>\n",
       "      <td>NaN</td>\n",
       "      <td>NaN</td>\n",
       "      <td>NaN</td>\n",
       "      <td>NaN</td>\n",
       "      <td>NaN</td>\n",
       "      <td>NaN</td>\n",
       "      <td>NaN</td>\n",
       "      <td>NaN</td>\n",
       "    </tr>\n",
       "    <tr>\n",
       "      <th>385382</th>\n",
       "      <td>0.0</td>\n",
       "      <td>4044889004335</td>\n",
       "      <td>NaN</td>\n",
       "      <td>NaN</td>\n",
       "      <td>NaN</td>\n",
       "      <td>NaN</td>\n",
       "      <td>NaN</td>\n",
       "      <td>NaN</td>\n",
       "      <td>NaN</td>\n",
       "      <td>NaN</td>\n",
       "      <td>...</td>\n",
       "      <td>NaN</td>\n",
       "      <td>NaN</td>\n",
       "      <td>NaN</td>\n",
       "      <td>NaN</td>\n",
       "      <td>NaN</td>\n",
       "      <td>NaN</td>\n",
       "      <td>NaN</td>\n",
       "      <td>NaN</td>\n",
       "      <td>NaN</td>\n",
       "      <td>NaN</td>\n",
       "    </tr>\n",
       "    <tr>\n",
       "      <th>385383</th>\n",
       "      <td>0.0</td>\n",
       "      <td>7613379866622</td>\n",
       "      <td>NaN</td>\n",
       "      <td>NaN</td>\n",
       "      <td>NaN</td>\n",
       "      <td>NaN</td>\n",
       "      <td>NaN</td>\n",
       "      <td>NaN</td>\n",
       "      <td>NaN</td>\n",
       "      <td>NaN</td>\n",
       "      <td>...</td>\n",
       "      <td>NaN</td>\n",
       "      <td>NaN</td>\n",
       "      <td>NaN</td>\n",
       "      <td>NaN</td>\n",
       "      <td>NaN</td>\n",
       "      <td>NaN</td>\n",
       "      <td>NaN</td>\n",
       "      <td>NaN</td>\n",
       "      <td>NaN</td>\n",
       "      <td>NaN</td>\n",
       "    </tr>\n",
       "  </tbody>\n",
       "</table>\n",
       "<p>385384 rows × 99 columns</p>\n",
       "</div>"
      ],
      "text/plain": [
       "        alcohol_by_volume        barcode  calcium_per_hundred calcium_unit  \\\n",
       "0                     0.0  8001772000030                  NaN          NaN   \n",
       "1                     0.0  7610809001066                  NaN          NaN   \n",
       "2                     0.0  8002530159021                  NaN          NaN   \n",
       "3                     0.0  3033715065788                  NaN          NaN   \n",
       "4                     0.0  7610848492740                  NaN          NaN   \n",
       "...                   ...            ...                  ...          ...   \n",
       "385379                0.0  7640145040283                  NaN          NaN   \n",
       "385380                0.0  7640147023628                850.0           mg   \n",
       "385381                0.0  3046920021593                  NaN          NaN   \n",
       "385382                0.0  4044889004335                  NaN          NaN   \n",
       "385383                0.0  7613379866622                  NaN          NaN   \n",
       "\n",
       "        carbohydrates_per_hundred  carbohydrates_per_portion  \\\n",
       "0                           75.00                      37.50   \n",
       "1                            1.50                       1.13   \n",
       "2                           52.68                        NaN   \n",
       "3                           70.40                      11.97   \n",
       "4                           37.00                       7.40   \n",
       "...                           ...                        ...   \n",
       "385379                        NaN                        NaN   \n",
       "385380                      48.60                       9.72   \n",
       "385381                      22.00                        NaN   \n",
       "385382                        NaN                        NaN   \n",
       "385383                        NaN                        NaN   \n",
       "\n",
       "       carbohydrates_unit  cholesterol_per_hundred cholesterol_unit  \\\n",
       "0                       g                      NaN              NaN   \n",
       "1                       g                      NaN              NaN   \n",
       "2                       g                      NaN              NaN   \n",
       "3                       g                      NaN              NaN   \n",
       "4                       g                      NaN              NaN   \n",
       "...                   ...                      ...              ...   \n",
       "385379                NaN                      NaN              NaN   \n",
       "385380                  g                      NaN              NaN   \n",
       "385381                  g                      NaN              NaN   \n",
       "385382                NaN                      NaN              NaN   \n",
       "385383                NaN                      NaN              NaN   \n",
       "\n",
       "        copper_cu_per_hundred  ... vitamin_b5_panthothenic_acid_per_hundred  \\\n",
       "0                         NaN  ...                                      NaN   \n",
       "1                         NaN  ...                                      NaN   \n",
       "2                         NaN  ...                                      NaN   \n",
       "3                         NaN  ...                                      NaN   \n",
       "4                         NaN  ...                                      NaN   \n",
       "...                       ...  ...                                      ...   \n",
       "385379                    NaN  ...                                      NaN   \n",
       "385380                    NaN  ...                                     45.0   \n",
       "385381                    NaN  ...                                      NaN   \n",
       "385382                    NaN  ...                                      NaN   \n",
       "385383                    NaN  ...                                      NaN   \n",
       "\n",
       "       vitamin_b5_panthothenic_acid_unit vitamin_b6_pyridoxin_per_hundred  \\\n",
       "0                                    NaN                              NaN   \n",
       "1                                    NaN                              NaN   \n",
       "2                                    NaN                              NaN   \n",
       "3                                    NaN                              NaN   \n",
       "4                                    NaN                              NaN   \n",
       "...                                  ...                              ...   \n",
       "385379                               NaN                              NaN   \n",
       "385380                                mg                             10.5   \n",
       "385381                               NaN                              NaN   \n",
       "385382                               NaN                              NaN   \n",
       "385383                               NaN                              NaN   \n",
       "\n",
       "        vitamin_b6_pyridoxin_unit  vitamin_c_ascorbic_acid_per_hundred  \\\n",
       "0                             NaN                                  NaN   \n",
       "1                             NaN                                  NaN   \n",
       "2                             NaN                                  NaN   \n",
       "3                             NaN                                  NaN   \n",
       "4                             NaN                                  NaN   \n",
       "...                           ...                                  ...   \n",
       "385379                        NaN                                  NaN   \n",
       "385380                         mg                                500.0   \n",
       "385381                        NaN                                  NaN   \n",
       "385382                        NaN                                  NaN   \n",
       "385383                        NaN                                  NaN   \n",
       "\n",
       "       vitamin_c_ascorbic_acid_unit  \\\n",
       "0                               NaN   \n",
       "1                               NaN   \n",
       "2                               NaN   \n",
       "3                               NaN   \n",
       "4                               NaN   \n",
       "...                             ...   \n",
       "385379                          NaN   \n",
       "385380                           mg   \n",
       "385381                          NaN   \n",
       "385382                          NaN   \n",
       "385383                          NaN   \n",
       "\n",
       "        vitamin_d_d2_d3_international_units_per_hundred  \\\n",
       "0                                                   NaN   \n",
       "1                                                   NaN   \n",
       "2                                                   NaN   \n",
       "3                                                   NaN   \n",
       "4                                                   NaN   \n",
       "...                                                 ...   \n",
       "385379                                              NaN   \n",
       "385380                                              NaN   \n",
       "385381                                              NaN   \n",
       "385382                                              NaN   \n",
       "385383                                              NaN   \n",
       "\n",
       "        vitamin_d_d2_d3_international_units_unit zinc_per_hundred  zinc_unit  \n",
       "0                                            NaN              NaN        NaN  \n",
       "1                                            NaN              NaN        NaN  \n",
       "2                                            NaN              NaN        NaN  \n",
       "3                                            NaN              NaN        NaN  \n",
       "4                                            NaN              NaN        NaN  \n",
       "...                                          ...              ...        ...  \n",
       "385379                                       NaN              NaN        NaN  \n",
       "385380                                       NaN             37.5         mg  \n",
       "385381                                       NaN              NaN        NaN  \n",
       "385382                                       NaN              NaN        NaN  \n",
       "385383                                       NaN              NaN        NaN  \n",
       "\n",
       "[385384 rows x 99 columns]"
      ]
     },
     "execution_count": 2,
     "metadata": {},
     "output_type": "execute_result"
    }
   ],
   "source": [
    "data=pd.read_pickle('data_385k.pkl',compression='zip')\n",
    "data"
   ]
  },
  {
   "cell_type": "markdown",
   "id": "bb033e27-e8b7-4b0f-a600-25633f1ff913",
   "metadata": {},
   "source": [
    "Now that we have imported the dataset, let's check the number of rows and columns:"
   ]
  },
  {
   "cell_type": "code",
   "execution_count": 3,
   "id": "96f78760-4b08-4fdd-9e6e-7983f45ecf17",
   "metadata": {},
   "outputs": [
    {
     "data": {
      "text/plain": [
       "(385384, 99)"
      ]
     },
     "execution_count": 3,
     "metadata": {},
     "output_type": "execute_result"
    }
   ],
   "source": [
    "data.shape"
   ]
  },
  {
   "cell_type": "code",
   "execution_count": 4,
   "id": "6170968b-b28e-4c4f-8ea3-6705e5107302",
   "metadata": {},
   "outputs": [
    {
     "data": {
      "text/html": [
       "<div>\n",
       "<style scoped>\n",
       "    .dataframe tbody tr th:only-of-type {\n",
       "        vertical-align: middle;\n",
       "    }\n",
       "\n",
       "    .dataframe tbody tr th {\n",
       "        vertical-align: top;\n",
       "    }\n",
       "\n",
       "    .dataframe thead th {\n",
       "        text-align: right;\n",
       "    }\n",
       "</style>\n",
       "<table border=\"1\" class=\"dataframe\">\n",
       "  <thead>\n",
       "    <tr style=\"text-align: right;\">\n",
       "      <th></th>\n",
       "      <th>alcohol_by_volume</th>\n",
       "      <th>barcode</th>\n",
       "      <th>calcium_per_hundred</th>\n",
       "      <th>calcium_unit</th>\n",
       "      <th>carbohydrates_per_hundred</th>\n",
       "      <th>carbohydrates_per_portion</th>\n",
       "      <th>carbohydrates_unit</th>\n",
       "      <th>cholesterol_per_hundred</th>\n",
       "      <th>cholesterol_unit</th>\n",
       "      <th>copper_cu_per_hundred</th>\n",
       "      <th>...</th>\n",
       "      <th>vitamin_b5_panthothenic_acid_per_hundred</th>\n",
       "      <th>vitamin_b5_panthothenic_acid_unit</th>\n",
       "      <th>vitamin_b6_pyridoxin_per_hundred</th>\n",
       "      <th>vitamin_b6_pyridoxin_unit</th>\n",
       "      <th>vitamin_c_ascorbic_acid_per_hundred</th>\n",
       "      <th>vitamin_c_ascorbic_acid_unit</th>\n",
       "      <th>vitamin_d_d2_d3_international_units_per_hundred</th>\n",
       "      <th>vitamin_d_d2_d3_international_units_unit</th>\n",
       "      <th>zinc_per_hundred</th>\n",
       "      <th>zinc_unit</th>\n",
       "    </tr>\n",
       "  </thead>\n",
       "  <tbody>\n",
       "    <tr>\n",
       "      <th>0</th>\n",
       "      <td>0.0</td>\n",
       "      <td>8001772000030</td>\n",
       "      <td>NaN</td>\n",
       "      <td>NaN</td>\n",
       "      <td>75.00</td>\n",
       "      <td>37.50</td>\n",
       "      <td>g</td>\n",
       "      <td>NaN</td>\n",
       "      <td>NaN</td>\n",
       "      <td>NaN</td>\n",
       "      <td>...</td>\n",
       "      <td>NaN</td>\n",
       "      <td>NaN</td>\n",
       "      <td>NaN</td>\n",
       "      <td>NaN</td>\n",
       "      <td>NaN</td>\n",
       "      <td>NaN</td>\n",
       "      <td>NaN</td>\n",
       "      <td>NaN</td>\n",
       "      <td>NaN</td>\n",
       "      <td>NaN</td>\n",
       "    </tr>\n",
       "    <tr>\n",
       "      <th>1</th>\n",
       "      <td>0.0</td>\n",
       "      <td>7610809001066</td>\n",
       "      <td>NaN</td>\n",
       "      <td>NaN</td>\n",
       "      <td>1.50</td>\n",
       "      <td>1.13</td>\n",
       "      <td>g</td>\n",
       "      <td>NaN</td>\n",
       "      <td>NaN</td>\n",
       "      <td>NaN</td>\n",
       "      <td>...</td>\n",
       "      <td>NaN</td>\n",
       "      <td>NaN</td>\n",
       "      <td>NaN</td>\n",
       "      <td>NaN</td>\n",
       "      <td>NaN</td>\n",
       "      <td>NaN</td>\n",
       "      <td>NaN</td>\n",
       "      <td>NaN</td>\n",
       "      <td>NaN</td>\n",
       "      <td>NaN</td>\n",
       "    </tr>\n",
       "    <tr>\n",
       "      <th>2</th>\n",
       "      <td>0.0</td>\n",
       "      <td>8002530159021</td>\n",
       "      <td>NaN</td>\n",
       "      <td>NaN</td>\n",
       "      <td>52.68</td>\n",
       "      <td>NaN</td>\n",
       "      <td>g</td>\n",
       "      <td>NaN</td>\n",
       "      <td>NaN</td>\n",
       "      <td>NaN</td>\n",
       "      <td>...</td>\n",
       "      <td>NaN</td>\n",
       "      <td>NaN</td>\n",
       "      <td>NaN</td>\n",
       "      <td>NaN</td>\n",
       "      <td>NaN</td>\n",
       "      <td>NaN</td>\n",
       "      <td>NaN</td>\n",
       "      <td>NaN</td>\n",
       "      <td>NaN</td>\n",
       "      <td>NaN</td>\n",
       "    </tr>\n",
       "    <tr>\n",
       "      <th>3</th>\n",
       "      <td>0.0</td>\n",
       "      <td>3033715065788</td>\n",
       "      <td>NaN</td>\n",
       "      <td>NaN</td>\n",
       "      <td>70.40</td>\n",
       "      <td>11.97</td>\n",
       "      <td>g</td>\n",
       "      <td>NaN</td>\n",
       "      <td>NaN</td>\n",
       "      <td>NaN</td>\n",
       "      <td>...</td>\n",
       "      <td>NaN</td>\n",
       "      <td>NaN</td>\n",
       "      <td>NaN</td>\n",
       "      <td>NaN</td>\n",
       "      <td>NaN</td>\n",
       "      <td>NaN</td>\n",
       "      <td>NaN</td>\n",
       "      <td>NaN</td>\n",
       "      <td>NaN</td>\n",
       "      <td>NaN</td>\n",
       "    </tr>\n",
       "    <tr>\n",
       "      <th>4</th>\n",
       "      <td>0.0</td>\n",
       "      <td>7610848492740</td>\n",
       "      <td>NaN</td>\n",
       "      <td>NaN</td>\n",
       "      <td>37.00</td>\n",
       "      <td>7.40</td>\n",
       "      <td>g</td>\n",
       "      <td>NaN</td>\n",
       "      <td>NaN</td>\n",
       "      <td>NaN</td>\n",
       "      <td>...</td>\n",
       "      <td>NaN</td>\n",
       "      <td>NaN</td>\n",
       "      <td>NaN</td>\n",
       "      <td>NaN</td>\n",
       "      <td>NaN</td>\n",
       "      <td>NaN</td>\n",
       "      <td>NaN</td>\n",
       "      <td>NaN</td>\n",
       "      <td>NaN</td>\n",
       "      <td>NaN</td>\n",
       "    </tr>\n",
       "  </tbody>\n",
       "</table>\n",
       "<p>5 rows × 99 columns</p>\n",
       "</div>"
      ],
      "text/plain": [
       "   alcohol_by_volume        barcode  calcium_per_hundred calcium_unit  \\\n",
       "0                0.0  8001772000030                  NaN          NaN   \n",
       "1                0.0  7610809001066                  NaN          NaN   \n",
       "2                0.0  8002530159021                  NaN          NaN   \n",
       "3                0.0  3033715065788                  NaN          NaN   \n",
       "4                0.0  7610848492740                  NaN          NaN   \n",
       "\n",
       "   carbohydrates_per_hundred  carbohydrates_per_portion carbohydrates_unit  \\\n",
       "0                      75.00                      37.50                  g   \n",
       "1                       1.50                       1.13                  g   \n",
       "2                      52.68                        NaN                  g   \n",
       "3                      70.40                      11.97                  g   \n",
       "4                      37.00                       7.40                  g   \n",
       "\n",
       "   cholesterol_per_hundred cholesterol_unit  copper_cu_per_hundred  ...  \\\n",
       "0                      NaN              NaN                    NaN  ...   \n",
       "1                      NaN              NaN                    NaN  ...   \n",
       "2                      NaN              NaN                    NaN  ...   \n",
       "3                      NaN              NaN                    NaN  ...   \n",
       "4                      NaN              NaN                    NaN  ...   \n",
       "\n",
       "  vitamin_b5_panthothenic_acid_per_hundred vitamin_b5_panthothenic_acid_unit  \\\n",
       "0                                      NaN                               NaN   \n",
       "1                                      NaN                               NaN   \n",
       "2                                      NaN                               NaN   \n",
       "3                                      NaN                               NaN   \n",
       "4                                      NaN                               NaN   \n",
       "\n",
       "  vitamin_b6_pyridoxin_per_hundred  vitamin_b6_pyridoxin_unit  \\\n",
       "0                              NaN                        NaN   \n",
       "1                              NaN                        NaN   \n",
       "2                              NaN                        NaN   \n",
       "3                              NaN                        NaN   \n",
       "4                              NaN                        NaN   \n",
       "\n",
       "   vitamin_c_ascorbic_acid_per_hundred vitamin_c_ascorbic_acid_unit  \\\n",
       "0                                  NaN                          NaN   \n",
       "1                                  NaN                          NaN   \n",
       "2                                  NaN                          NaN   \n",
       "3                                  NaN                          NaN   \n",
       "4                                  NaN                          NaN   \n",
       "\n",
       "   vitamin_d_d2_d3_international_units_per_hundred  \\\n",
       "0                                              NaN   \n",
       "1                                              NaN   \n",
       "2                                              NaN   \n",
       "3                                              NaN   \n",
       "4                                              NaN   \n",
       "\n",
       "   vitamin_d_d2_d3_international_units_unit zinc_per_hundred  zinc_unit  \n",
       "0                                       NaN              NaN        NaN  \n",
       "1                                       NaN              NaN        NaN  \n",
       "2                                       NaN              NaN        NaN  \n",
       "3                                       NaN              NaN        NaN  \n",
       "4                                       NaN              NaN        NaN  \n",
       "\n",
       "[5 rows x 99 columns]"
      ]
     },
     "execution_count": 4,
     "metadata": {},
     "output_type": "execute_result"
    }
   ],
   "source": [
    "data.head() # Displaying first entries"
   ]
  },
  {
   "cell_type": "code",
   "execution_count": 5,
   "id": "3c336727-95f4-4a1a-ac62-0bef1060e7c3",
   "metadata": {},
   "outputs": [
    {
     "data": {
      "text/plain": [
       "array([dtype('float64'), dtype('O'), dtype('int64')], dtype=object)"
      ]
     },
     "execution_count": 5,
     "metadata": {},
     "output_type": "execute_result"
    }
   ],
   "source": [
    "data_type=data.dtypes.unique() # Check the different data types\n",
    "data_type"
   ]
  },
  {
   "cell_type": "code",
   "execution_count": 6,
   "id": "c30bcb25-729d-4ee0-976c-c13dfd014cea",
   "metadata": {},
   "outputs": [],
   "source": [
    "list_float=list(data.select_dtypes(include=['float64'])) # Creating list for all dtype\n",
    "list_int=list(data.select_dtypes(include=['int64']))\n",
    "list_object=list(data.select_dtypes(include=['O']))"
   ]
  },
  {
   "cell_type": "markdown",
   "id": "4e2b06f8-1be2-431d-a0af-95421634db03",
   "metadata": {},
   "source": [
    "B. Preliminary Exploratory Data Analysis"
   ]
  },
  {
   "cell_type": "code",
   "execution_count": 7,
   "id": "0a7c23d0-87c8-4e59-9abe-a260ebeab11e",
   "metadata": {},
   "outputs": [
    {
     "data": {
      "text/html": [
       "<div>\n",
       "<style scoped>\n",
       "    .dataframe tbody tr th:only-of-type {\n",
       "        vertical-align: middle;\n",
       "    }\n",
       "\n",
       "    .dataframe tbody tr th {\n",
       "        vertical-align: top;\n",
       "    }\n",
       "\n",
       "    .dataframe thead th {\n",
       "        text-align: right;\n",
       "    }\n",
       "</style>\n",
       "<table border=\"1\" class=\"dataframe\">\n",
       "  <thead>\n",
       "    <tr style=\"text-align: right;\">\n",
       "      <th></th>\n",
       "      <th>alcohol_by_volume</th>\n",
       "      <th>barcode</th>\n",
       "      <th>calcium_per_hundred</th>\n",
       "      <th>calcium_unit</th>\n",
       "      <th>carbohydrates_per_hundred</th>\n",
       "      <th>carbohydrates_per_portion</th>\n",
       "      <th>carbohydrates_unit</th>\n",
       "      <th>cholesterol_per_hundred</th>\n",
       "      <th>cholesterol_unit</th>\n",
       "      <th>copper_cu_per_hundred</th>\n",
       "      <th>...</th>\n",
       "      <th>vitamin_b5_panthothenic_acid_per_hundred</th>\n",
       "      <th>vitamin_b5_panthothenic_acid_unit</th>\n",
       "      <th>vitamin_b6_pyridoxin_per_hundred</th>\n",
       "      <th>vitamin_b6_pyridoxin_unit</th>\n",
       "      <th>vitamin_c_ascorbic_acid_per_hundred</th>\n",
       "      <th>vitamin_c_ascorbic_acid_unit</th>\n",
       "      <th>vitamin_d_d2_d3_international_units_per_hundred</th>\n",
       "      <th>vitamin_d_d2_d3_international_units_unit</th>\n",
       "      <th>zinc_per_hundred</th>\n",
       "      <th>zinc_unit</th>\n",
       "    </tr>\n",
       "  </thead>\n",
       "  <tbody>\n",
       "    <tr>\n",
       "      <th>374884</th>\n",
       "      <td>0.0</td>\n",
       "      <td>7613404363317</td>\n",
       "      <td>NaN</td>\n",
       "      <td>NaN</td>\n",
       "      <td>17.0</td>\n",
       "      <td>60.00</td>\n",
       "      <td>g</td>\n",
       "      <td>NaN</td>\n",
       "      <td>NaN</td>\n",
       "      <td>NaN</td>\n",
       "      <td>...</td>\n",
       "      <td>NaN</td>\n",
       "      <td>NaN</td>\n",
       "      <td>NaN</td>\n",
       "      <td>NaN</td>\n",
       "      <td>NaN</td>\n",
       "      <td>NaN</td>\n",
       "      <td>NaN</td>\n",
       "      <td>NaN</td>\n",
       "      <td>NaN</td>\n",
       "      <td>NaN</td>\n",
       "    </tr>\n",
       "    <tr>\n",
       "      <th>374885</th>\n",
       "      <td>0.0</td>\n",
       "      <td>7613269343509</td>\n",
       "      <td>NaN</td>\n",
       "      <td>NaN</td>\n",
       "      <td>1.0</td>\n",
       "      <td>1.80</td>\n",
       "      <td>g</td>\n",
       "      <td>NaN</td>\n",
       "      <td>NaN</td>\n",
       "      <td>NaN</td>\n",
       "      <td>...</td>\n",
       "      <td>NaN</td>\n",
       "      <td>NaN</td>\n",
       "      <td>NaN</td>\n",
       "      <td>NaN</td>\n",
       "      <td>NaN</td>\n",
       "      <td>NaN</td>\n",
       "      <td>NaN</td>\n",
       "      <td>NaN</td>\n",
       "      <td>NaN</td>\n",
       "      <td>NaN</td>\n",
       "    </tr>\n",
       "    <tr>\n",
       "      <th>374886</th>\n",
       "      <td>0.0</td>\n",
       "      <td>2110012004502</td>\n",
       "      <td>NaN</td>\n",
       "      <td>NaN</td>\n",
       "      <td>NaN</td>\n",
       "      <td>NaN</td>\n",
       "      <td>NaN</td>\n",
       "      <td>NaN</td>\n",
       "      <td>NaN</td>\n",
       "      <td>NaN</td>\n",
       "      <td>...</td>\n",
       "      <td>NaN</td>\n",
       "      <td>NaN</td>\n",
       "      <td>NaN</td>\n",
       "      <td>NaN</td>\n",
       "      <td>NaN</td>\n",
       "      <td>NaN</td>\n",
       "      <td>NaN</td>\n",
       "      <td>NaN</td>\n",
       "      <td>NaN</td>\n",
       "      <td>NaN</td>\n",
       "    </tr>\n",
       "    <tr>\n",
       "      <th>374887</th>\n",
       "      <td>0.0</td>\n",
       "      <td>2159171001007</td>\n",
       "      <td>NaN</td>\n",
       "      <td>NaN</td>\n",
       "      <td>NaN</td>\n",
       "      <td>NaN</td>\n",
       "      <td>NaN</td>\n",
       "      <td>NaN</td>\n",
       "      <td>NaN</td>\n",
       "      <td>NaN</td>\n",
       "      <td>...</td>\n",
       "      <td>NaN</td>\n",
       "      <td>NaN</td>\n",
       "      <td>NaN</td>\n",
       "      <td>NaN</td>\n",
       "      <td>NaN</td>\n",
       "      <td>NaN</td>\n",
       "      <td>NaN</td>\n",
       "      <td>NaN</td>\n",
       "      <td>NaN</td>\n",
       "      <td>NaN</td>\n",
       "    </tr>\n",
       "    <tr>\n",
       "      <th>374888</th>\n",
       "      <td>0.0</td>\n",
       "      <td>7624841230186</td>\n",
       "      <td>NaN</td>\n",
       "      <td>NaN</td>\n",
       "      <td>NaN</td>\n",
       "      <td>NaN</td>\n",
       "      <td>NaN</td>\n",
       "      <td>NaN</td>\n",
       "      <td>NaN</td>\n",
       "      <td>NaN</td>\n",
       "      <td>...</td>\n",
       "      <td>NaN</td>\n",
       "      <td>NaN</td>\n",
       "      <td>NaN</td>\n",
       "      <td>NaN</td>\n",
       "      <td>NaN</td>\n",
       "      <td>NaN</td>\n",
       "      <td>NaN</td>\n",
       "      <td>NaN</td>\n",
       "      <td>NaN</td>\n",
       "      <td>NaN</td>\n",
       "    </tr>\n",
       "    <tr>\n",
       "      <th>...</th>\n",
       "      <td>...</td>\n",
       "      <td>...</td>\n",
       "      <td>...</td>\n",
       "      <td>...</td>\n",
       "      <td>...</td>\n",
       "      <td>...</td>\n",
       "      <td>...</td>\n",
       "      <td>...</td>\n",
       "      <td>...</td>\n",
       "      <td>...</td>\n",
       "      <td>...</td>\n",
       "      <td>...</td>\n",
       "      <td>...</td>\n",
       "      <td>...</td>\n",
       "      <td>...</td>\n",
       "      <td>...</td>\n",
       "      <td>...</td>\n",
       "      <td>...</td>\n",
       "      <td>...</td>\n",
       "      <td>...</td>\n",
       "      <td>...</td>\n",
       "    </tr>\n",
       "    <tr>\n",
       "      <th>385379</th>\n",
       "      <td>0.0</td>\n",
       "      <td>7640145040283</td>\n",
       "      <td>NaN</td>\n",
       "      <td>NaN</td>\n",
       "      <td>NaN</td>\n",
       "      <td>NaN</td>\n",
       "      <td>NaN</td>\n",
       "      <td>NaN</td>\n",
       "      <td>NaN</td>\n",
       "      <td>NaN</td>\n",
       "      <td>...</td>\n",
       "      <td>NaN</td>\n",
       "      <td>NaN</td>\n",
       "      <td>NaN</td>\n",
       "      <td>NaN</td>\n",
       "      <td>NaN</td>\n",
       "      <td>NaN</td>\n",
       "      <td>NaN</td>\n",
       "      <td>NaN</td>\n",
       "      <td>NaN</td>\n",
       "      <td>NaN</td>\n",
       "    </tr>\n",
       "    <tr>\n",
       "      <th>385380</th>\n",
       "      <td>0.0</td>\n",
       "      <td>7640147023628</td>\n",
       "      <td>850.0</td>\n",
       "      <td>mg</td>\n",
       "      <td>48.6</td>\n",
       "      <td>9.72</td>\n",
       "      <td>g</td>\n",
       "      <td>NaN</td>\n",
       "      <td>NaN</td>\n",
       "      <td>NaN</td>\n",
       "      <td>...</td>\n",
       "      <td>45.0</td>\n",
       "      <td>mg</td>\n",
       "      <td>10.5</td>\n",
       "      <td>mg</td>\n",
       "      <td>500.0</td>\n",
       "      <td>mg</td>\n",
       "      <td>NaN</td>\n",
       "      <td>NaN</td>\n",
       "      <td>37.5</td>\n",
       "      <td>mg</td>\n",
       "    </tr>\n",
       "    <tr>\n",
       "      <th>385381</th>\n",
       "      <td>0.0</td>\n",
       "      <td>3046920021593</td>\n",
       "      <td>NaN</td>\n",
       "      <td>NaN</td>\n",
       "      <td>22.0</td>\n",
       "      <td>NaN</td>\n",
       "      <td>g</td>\n",
       "      <td>NaN</td>\n",
       "      <td>NaN</td>\n",
       "      <td>NaN</td>\n",
       "      <td>...</td>\n",
       "      <td>NaN</td>\n",
       "      <td>NaN</td>\n",
       "      <td>NaN</td>\n",
       "      <td>NaN</td>\n",
       "      <td>NaN</td>\n",
       "      <td>NaN</td>\n",
       "      <td>NaN</td>\n",
       "      <td>NaN</td>\n",
       "      <td>NaN</td>\n",
       "      <td>NaN</td>\n",
       "    </tr>\n",
       "    <tr>\n",
       "      <th>385382</th>\n",
       "      <td>0.0</td>\n",
       "      <td>4044889004335</td>\n",
       "      <td>NaN</td>\n",
       "      <td>NaN</td>\n",
       "      <td>NaN</td>\n",
       "      <td>NaN</td>\n",
       "      <td>NaN</td>\n",
       "      <td>NaN</td>\n",
       "      <td>NaN</td>\n",
       "      <td>NaN</td>\n",
       "      <td>...</td>\n",
       "      <td>NaN</td>\n",
       "      <td>NaN</td>\n",
       "      <td>NaN</td>\n",
       "      <td>NaN</td>\n",
       "      <td>NaN</td>\n",
       "      <td>NaN</td>\n",
       "      <td>NaN</td>\n",
       "      <td>NaN</td>\n",
       "      <td>NaN</td>\n",
       "      <td>NaN</td>\n",
       "    </tr>\n",
       "    <tr>\n",
       "      <th>385383</th>\n",
       "      <td>0.0</td>\n",
       "      <td>7613379866622</td>\n",
       "      <td>NaN</td>\n",
       "      <td>NaN</td>\n",
       "      <td>NaN</td>\n",
       "      <td>NaN</td>\n",
       "      <td>NaN</td>\n",
       "      <td>NaN</td>\n",
       "      <td>NaN</td>\n",
       "      <td>NaN</td>\n",
       "      <td>...</td>\n",
       "      <td>NaN</td>\n",
       "      <td>NaN</td>\n",
       "      <td>NaN</td>\n",
       "      <td>NaN</td>\n",
       "      <td>NaN</td>\n",
       "      <td>NaN</td>\n",
       "      <td>NaN</td>\n",
       "      <td>NaN</td>\n",
       "      <td>NaN</td>\n",
       "      <td>NaN</td>\n",
       "    </tr>\n",
       "  </tbody>\n",
       "</table>\n",
       "<p>10500 rows × 99 columns</p>\n",
       "</div>"
      ],
      "text/plain": [
       "        alcohol_by_volume        barcode  calcium_per_hundred calcium_unit  \\\n",
       "374884                0.0  7613404363317                  NaN          NaN   \n",
       "374885                0.0  7613269343509                  NaN          NaN   \n",
       "374886                0.0  2110012004502                  NaN          NaN   \n",
       "374887                0.0  2159171001007                  NaN          NaN   \n",
       "374888                0.0  7624841230186                  NaN          NaN   \n",
       "...                   ...            ...                  ...          ...   \n",
       "385379                0.0  7640145040283                  NaN          NaN   \n",
       "385380                0.0  7640147023628                850.0           mg   \n",
       "385381                0.0  3046920021593                  NaN          NaN   \n",
       "385382                0.0  4044889004335                  NaN          NaN   \n",
       "385383                0.0  7613379866622                  NaN          NaN   \n",
       "\n",
       "        carbohydrates_per_hundred  carbohydrates_per_portion  \\\n",
       "374884                       17.0                      60.00   \n",
       "374885                        1.0                       1.80   \n",
       "374886                        NaN                        NaN   \n",
       "374887                        NaN                        NaN   \n",
       "374888                        NaN                        NaN   \n",
       "...                           ...                        ...   \n",
       "385379                        NaN                        NaN   \n",
       "385380                       48.6                       9.72   \n",
       "385381                       22.0                        NaN   \n",
       "385382                        NaN                        NaN   \n",
       "385383                        NaN                        NaN   \n",
       "\n",
       "       carbohydrates_unit  cholesterol_per_hundred cholesterol_unit  \\\n",
       "374884                  g                      NaN              NaN   \n",
       "374885                  g                      NaN              NaN   \n",
       "374886                NaN                      NaN              NaN   \n",
       "374887                NaN                      NaN              NaN   \n",
       "374888                NaN                      NaN              NaN   \n",
       "...                   ...                      ...              ...   \n",
       "385379                NaN                      NaN              NaN   \n",
       "385380                  g                      NaN              NaN   \n",
       "385381                  g                      NaN              NaN   \n",
       "385382                NaN                      NaN              NaN   \n",
       "385383                NaN                      NaN              NaN   \n",
       "\n",
       "        copper_cu_per_hundred  ... vitamin_b5_panthothenic_acid_per_hundred  \\\n",
       "374884                    NaN  ...                                      NaN   \n",
       "374885                    NaN  ...                                      NaN   \n",
       "374886                    NaN  ...                                      NaN   \n",
       "374887                    NaN  ...                                      NaN   \n",
       "374888                    NaN  ...                                      NaN   \n",
       "...                       ...  ...                                      ...   \n",
       "385379                    NaN  ...                                      NaN   \n",
       "385380                    NaN  ...                                     45.0   \n",
       "385381                    NaN  ...                                      NaN   \n",
       "385382                    NaN  ...                                      NaN   \n",
       "385383                    NaN  ...                                      NaN   \n",
       "\n",
       "       vitamin_b5_panthothenic_acid_unit vitamin_b6_pyridoxin_per_hundred  \\\n",
       "374884                               NaN                              NaN   \n",
       "374885                               NaN                              NaN   \n",
       "374886                               NaN                              NaN   \n",
       "374887                               NaN                              NaN   \n",
       "374888                               NaN                              NaN   \n",
       "...                                  ...                              ...   \n",
       "385379                               NaN                              NaN   \n",
       "385380                                mg                             10.5   \n",
       "385381                               NaN                              NaN   \n",
       "385382                               NaN                              NaN   \n",
       "385383                               NaN                              NaN   \n",
       "\n",
       "        vitamin_b6_pyridoxin_unit  vitamin_c_ascorbic_acid_per_hundred  \\\n",
       "374884                        NaN                                  NaN   \n",
       "374885                        NaN                                  NaN   \n",
       "374886                        NaN                                  NaN   \n",
       "374887                        NaN                                  NaN   \n",
       "374888                        NaN                                  NaN   \n",
       "...                           ...                                  ...   \n",
       "385379                        NaN                                  NaN   \n",
       "385380                         mg                                500.0   \n",
       "385381                        NaN                                  NaN   \n",
       "385382                        NaN                                  NaN   \n",
       "385383                        NaN                                  NaN   \n",
       "\n",
       "       vitamin_c_ascorbic_acid_unit  \\\n",
       "374884                          NaN   \n",
       "374885                          NaN   \n",
       "374886                          NaN   \n",
       "374887                          NaN   \n",
       "374888                          NaN   \n",
       "...                             ...   \n",
       "385379                          NaN   \n",
       "385380                           mg   \n",
       "385381                          NaN   \n",
       "385382                          NaN   \n",
       "385383                          NaN   \n",
       "\n",
       "        vitamin_d_d2_d3_international_units_per_hundred  \\\n",
       "374884                                              NaN   \n",
       "374885                                              NaN   \n",
       "374886                                              NaN   \n",
       "374887                                              NaN   \n",
       "374888                                              NaN   \n",
       "...                                                 ...   \n",
       "385379                                              NaN   \n",
       "385380                                              NaN   \n",
       "385381                                              NaN   \n",
       "385382                                              NaN   \n",
       "385383                                              NaN   \n",
       "\n",
       "        vitamin_d_d2_d3_international_units_unit zinc_per_hundred  zinc_unit  \n",
       "374884                                       NaN              NaN        NaN  \n",
       "374885                                       NaN              NaN        NaN  \n",
       "374886                                       NaN              NaN        NaN  \n",
       "374887                                       NaN              NaN        NaN  \n",
       "374888                                       NaN              NaN        NaN  \n",
       "...                                          ...              ...        ...  \n",
       "385379                                       NaN              NaN        NaN  \n",
       "385380                                       NaN             37.5         mg  \n",
       "385381                                       NaN              NaN        NaN  \n",
       "385382                                       NaN              NaN        NaN  \n",
       "385383                                       NaN              NaN        NaN  \n",
       "\n",
       "[10500 rows x 99 columns]"
      ]
     },
     "execution_count": 7,
     "metadata": {},
     "output_type": "execute_result"
    }
   ],
   "source": [
    "# Checking duplicated rows \n",
    "data.loc[data.duplicated(), :]"
   ]
  },
  {
   "cell_type": "markdown",
   "id": "59ada2ed-2cc6-4216-996c-8066c0999e8b",
   "metadata": {},
   "source": [
    "Indeed, we can see that there are many dupliacted rows, so now let's remove them"
   ]
  },
  {
   "cell_type": "code",
   "execution_count": 8,
   "id": "585a4c77-98ba-491d-82e1-979c084d2102",
   "metadata": {},
   "outputs": [
    {
     "data": {
      "text/plain": [
       "(374884, 100)"
      ]
     },
     "execution_count": 8,
     "metadata": {},
     "output_type": "execute_result"
    }
   ],
   "source": [
    "# Removing the rows\n",
    "df=data.drop_duplicates().reset_index() # Resetting the index after dropping the rows\n",
    "df.shape"
   ]
  },
  {
   "cell_type": "markdown",
   "id": "df7e06e8-dc8d-47dd-ae7f-9ab998512363",
   "metadata": {},
   "source": [
    "As expected, the shape of this new Data Frame is quite different. Now let's show the proportion of missing values in the data using appropriate visualizations and numerical summaries."
   ]
  },
  {
   "cell_type": "code",
   "execution_count": 9,
   "id": "a83b80b2-235e-41c4-b6e7-6932b7f6d14e",
   "metadata": {},
   "outputs": [
    {
     "data": {
      "text/html": [
       "<div>\n",
       "<style scoped>\n",
       "    .dataframe tbody tr th:only-of-type {\n",
       "        vertical-align: middle;\n",
       "    }\n",
       "\n",
       "    .dataframe tbody tr th {\n",
       "        vertical-align: top;\n",
       "    }\n",
       "\n",
       "    .dataframe thead th {\n",
       "        text-align: right;\n",
       "    }\n",
       "</style>\n",
       "<table border=\"1\" class=\"dataframe\">\n",
       "  <thead>\n",
       "    <tr style=\"text-align: right;\">\n",
       "      <th></th>\n",
       "      <th>Percentage of null values</th>\n",
       "    </tr>\n",
       "  </thead>\n",
       "  <tbody>\n",
       "    <tr>\n",
       "      <th>index</th>\n",
       "      <td>0.000000</td>\n",
       "    </tr>\n",
       "    <tr>\n",
       "      <th>alcohol_by_volume</th>\n",
       "      <td>0.000000</td>\n",
       "    </tr>\n",
       "    <tr>\n",
       "      <th>barcode</th>\n",
       "      <td>0.000000</td>\n",
       "    </tr>\n",
       "    <tr>\n",
       "      <th>calcium_per_hundred</th>\n",
       "      <td>29.350412</td>\n",
       "    </tr>\n",
       "    <tr>\n",
       "      <th>calcium_unit</th>\n",
       "      <td>29.321870</td>\n",
       "    </tr>\n",
       "    <tr>\n",
       "      <th>...</th>\n",
       "      <td>...</td>\n",
       "    </tr>\n",
       "    <tr>\n",
       "      <th>vitamin_c_ascorbic_acid_unit</th>\n",
       "      <td>46.634426</td>\n",
       "    </tr>\n",
       "    <tr>\n",
       "      <th>vitamin_d_d2_d3_international_units_per_hundred</th>\n",
       "      <td>82.121403</td>\n",
       "    </tr>\n",
       "    <tr>\n",
       "      <th>vitamin_d_d2_d3_international_units_unit</th>\n",
       "      <td>82.121136</td>\n",
       "    </tr>\n",
       "    <tr>\n",
       "      <th>zinc_per_hundred</th>\n",
       "      <td>97.728631</td>\n",
       "    </tr>\n",
       "    <tr>\n",
       "      <th>zinc_unit</th>\n",
       "      <td>97.723829</td>\n",
       "    </tr>\n",
       "  </tbody>\n",
       "</table>\n",
       "<p>100 rows × 1 columns</p>\n",
       "</div>"
      ],
      "text/plain": [
       "                                                 Percentage of null values\n",
       "index                                                             0.000000\n",
       "alcohol_by_volume                                                 0.000000\n",
       "barcode                                                           0.000000\n",
       "calcium_per_hundred                                              29.350412\n",
       "calcium_unit                                                     29.321870\n",
       "...                                                                    ...\n",
       "vitamin_c_ascorbic_acid_unit                                     46.634426\n",
       "vitamin_d_d2_d3_international_units_per_hundred                  82.121403\n",
       "vitamin_d_d2_d3_international_units_unit                         82.121136\n",
       "zinc_per_hundred                                                 97.728631\n",
       "zinc_unit                                                        97.723829\n",
       "\n",
       "[100 rows x 1 columns]"
      ]
     },
     "execution_count": 9,
     "metadata": {},
     "output_type": "execute_result"
    }
   ],
   "source": [
    "percent=(df.isnull().sum()/df.shape[0]*100).to_frame() # Computing the percentage of null valuesin each columns\n",
    "percent.columns=['Percentage of null values']\n",
    "percent"
   ]
  },
  {
   "cell_type": "markdown",
   "id": "7732653c-2871-4983-a80f-8627773bc0e1",
   "metadata": {},
   "source": [
    "We now have a DataFrame with the proportion of null values in each columns."
   ]
  },
  {
   "cell_type": "markdown",
   "id": "87dd0c86-bc98-4ed2-80b4-16fb92b850fe",
   "metadata": {},
   "source": [
    "Now, let's see the percentage of null values in the whole dataframe."
   ]
  },
  {
   "cell_type": "code",
   "execution_count": 10,
   "id": "3b38c66c-9d9e-4c8f-a827-ea03fdeef799",
   "metadata": {},
   "outputs": [
    {
     "data": {
      "text/plain": [
       "59.7651673584362"
      ]
     },
     "execution_count": 10,
     "metadata": {},
     "output_type": "execute_result"
    }
   ],
   "source": [
    "percent['Percentage of null values'].mean()"
   ]
  },
  {
   "cell_type": "markdown",
   "id": "82da098e-ae0e-491e-897d-e82625ed766f",
   "metadata": {},
   "source": [
    "As you can see above, there is approxivatively 60% of null values in the dataframe.\n"
   ]
  },
  {
   "cell_type": "markdown",
   "id": "d2f37a6a-ca90-4308-b83d-8771547cdf8f",
   "metadata": {},
   "source": [
    "So our goal will be to replace those null values. We can suppose that in the numerical columns, the nul values can be replaced by the median of the whole column. And for the 'unit' columns we can replace the null values with the other unit of the columns"
   ]
  },
  {
   "cell_type": "code",
   "execution_count": 11,
   "id": "436209bb-243e-4076-966f-5ebb51328cf9",
   "metadata": {},
   "outputs": [],
   "source": [
    "for column in df:\n",
    "    df[list_object]=df[list_object].fillna(method='ffill')\n",
    "for column in df:\n",
    "    df[list_object]=df[list_object].fillna(method='bfill')"
   ]
  },
  {
   "cell_type": "code",
   "execution_count": 12,
   "id": "87f7dc27-7029-49e3-b09e-3da5fdc6a063",
   "metadata": {},
   "outputs": [],
   "source": [
    "df[list_float]=df[list_float].fillna(value=df[list_float].median())"
   ]
  },
  {
   "cell_type": "code",
   "execution_count": 13,
   "id": "a92b424f-038d-4e96-9651-abe829356dee",
   "metadata": {},
   "outputs": [
    {
     "data": {
      "text/html": [
       "<div>\n",
       "<style scoped>\n",
       "    .dataframe tbody tr th:only-of-type {\n",
       "        vertical-align: middle;\n",
       "    }\n",
       "\n",
       "    .dataframe tbody tr th {\n",
       "        vertical-align: top;\n",
       "    }\n",
       "\n",
       "    .dataframe thead th {\n",
       "        text-align: right;\n",
       "    }\n",
       "</style>\n",
       "<table border=\"1\" class=\"dataframe\">\n",
       "  <thead>\n",
       "    <tr style=\"text-align: right;\">\n",
       "      <th></th>\n",
       "      <th>index</th>\n",
       "      <th>alcohol_by_volume</th>\n",
       "      <th>barcode</th>\n",
       "      <th>calcium_per_hundred</th>\n",
       "      <th>calcium_unit</th>\n",
       "      <th>carbohydrates_per_hundred</th>\n",
       "      <th>carbohydrates_per_portion</th>\n",
       "      <th>carbohydrates_unit</th>\n",
       "      <th>cholesterol_per_hundred</th>\n",
       "      <th>cholesterol_unit</th>\n",
       "      <th>...</th>\n",
       "      <th>vitamin_b5_panthothenic_acid_per_hundred</th>\n",
       "      <th>vitamin_b5_panthothenic_acid_unit</th>\n",
       "      <th>vitamin_b6_pyridoxin_per_hundred</th>\n",
       "      <th>vitamin_b6_pyridoxin_unit</th>\n",
       "      <th>vitamin_c_ascorbic_acid_per_hundred</th>\n",
       "      <th>vitamin_c_ascorbic_acid_unit</th>\n",
       "      <th>vitamin_d_d2_d3_international_units_per_hundred</th>\n",
       "      <th>vitamin_d_d2_d3_international_units_unit</th>\n",
       "      <th>zinc_per_hundred</th>\n",
       "      <th>zinc_unit</th>\n",
       "    </tr>\n",
       "  </thead>\n",
       "  <tbody>\n",
       "    <tr>\n",
       "      <th>0</th>\n",
       "      <td>0</td>\n",
       "      <td>0.0</td>\n",
       "      <td>8001772000030</td>\n",
       "      <td>36.0</td>\n",
       "      <td>mg</td>\n",
       "      <td>75.00</td>\n",
       "      <td>37.50</td>\n",
       "      <td>g</td>\n",
       "      <td>0.0</td>\n",
       "      <td>mg</td>\n",
       "      <td>...</td>\n",
       "      <td>1.43</td>\n",
       "      <td>mg</td>\n",
       "      <td>0.52</td>\n",
       "      <td>mg</td>\n",
       "      <td>0.0</td>\n",
       "      <td>mg</td>\n",
       "      <td>0.0</td>\n",
       "      <td>IU</td>\n",
       "      <td>2.73</td>\n",
       "      <td>mg</td>\n",
       "    </tr>\n",
       "    <tr>\n",
       "      <th>1</th>\n",
       "      <td>1</td>\n",
       "      <td>0.0</td>\n",
       "      <td>7610809001066</td>\n",
       "      <td>36.0</td>\n",
       "      <td>mg</td>\n",
       "      <td>1.50</td>\n",
       "      <td>1.13</td>\n",
       "      <td>g</td>\n",
       "      <td>0.0</td>\n",
       "      <td>mg</td>\n",
       "      <td>...</td>\n",
       "      <td>1.43</td>\n",
       "      <td>mg</td>\n",
       "      <td>0.52</td>\n",
       "      <td>mg</td>\n",
       "      <td>0.0</td>\n",
       "      <td>mg</td>\n",
       "      <td>0.0</td>\n",
       "      <td>IU</td>\n",
       "      <td>2.73</td>\n",
       "      <td>mg</td>\n",
       "    </tr>\n",
       "    <tr>\n",
       "      <th>2</th>\n",
       "      <td>2</td>\n",
       "      <td>0.0</td>\n",
       "      <td>8002530159021</td>\n",
       "      <td>36.0</td>\n",
       "      <td>mg</td>\n",
       "      <td>52.68</td>\n",
       "      <td>15.60</td>\n",
       "      <td>g</td>\n",
       "      <td>0.0</td>\n",
       "      <td>mg</td>\n",
       "      <td>...</td>\n",
       "      <td>1.43</td>\n",
       "      <td>mg</td>\n",
       "      <td>0.52</td>\n",
       "      <td>mg</td>\n",
       "      <td>0.0</td>\n",
       "      <td>mg</td>\n",
       "      <td>0.0</td>\n",
       "      <td>IU</td>\n",
       "      <td>2.73</td>\n",
       "      <td>mg</td>\n",
       "    </tr>\n",
       "    <tr>\n",
       "      <th>3</th>\n",
       "      <td>3</td>\n",
       "      <td>0.0</td>\n",
       "      <td>3033715065788</td>\n",
       "      <td>36.0</td>\n",
       "      <td>mg</td>\n",
       "      <td>70.40</td>\n",
       "      <td>11.97</td>\n",
       "      <td>g</td>\n",
       "      <td>0.0</td>\n",
       "      <td>mg</td>\n",
       "      <td>...</td>\n",
       "      <td>1.43</td>\n",
       "      <td>mg</td>\n",
       "      <td>0.52</td>\n",
       "      <td>mg</td>\n",
       "      <td>0.0</td>\n",
       "      <td>mg</td>\n",
       "      <td>0.0</td>\n",
       "      <td>IU</td>\n",
       "      <td>2.73</td>\n",
       "      <td>mg</td>\n",
       "    </tr>\n",
       "    <tr>\n",
       "      <th>4</th>\n",
       "      <td>4</td>\n",
       "      <td>0.0</td>\n",
       "      <td>7610848492740</td>\n",
       "      <td>36.0</td>\n",
       "      <td>mg</td>\n",
       "      <td>37.00</td>\n",
       "      <td>7.40</td>\n",
       "      <td>g</td>\n",
       "      <td>0.0</td>\n",
       "      <td>mg</td>\n",
       "      <td>...</td>\n",
       "      <td>1.43</td>\n",
       "      <td>mg</td>\n",
       "      <td>0.52</td>\n",
       "      <td>mg</td>\n",
       "      <td>0.0</td>\n",
       "      <td>mg</td>\n",
       "      <td>0.0</td>\n",
       "      <td>IU</td>\n",
       "      <td>2.73</td>\n",
       "      <td>mg</td>\n",
       "    </tr>\n",
       "  </tbody>\n",
       "</table>\n",
       "<p>5 rows × 100 columns</p>\n",
       "</div>"
      ],
      "text/plain": [
       "   index  alcohol_by_volume        barcode  calcium_per_hundred calcium_unit  \\\n",
       "0      0                0.0  8001772000030                 36.0           mg   \n",
       "1      1                0.0  7610809001066                 36.0           mg   \n",
       "2      2                0.0  8002530159021                 36.0           mg   \n",
       "3      3                0.0  3033715065788                 36.0           mg   \n",
       "4      4                0.0  7610848492740                 36.0           mg   \n",
       "\n",
       "   carbohydrates_per_hundred  carbohydrates_per_portion carbohydrates_unit  \\\n",
       "0                      75.00                      37.50                  g   \n",
       "1                       1.50                       1.13                  g   \n",
       "2                      52.68                      15.60                  g   \n",
       "3                      70.40                      11.97                  g   \n",
       "4                      37.00                       7.40                  g   \n",
       "\n",
       "   cholesterol_per_hundred cholesterol_unit  ...  \\\n",
       "0                      0.0               mg  ...   \n",
       "1                      0.0               mg  ...   \n",
       "2                      0.0               mg  ...   \n",
       "3                      0.0               mg  ...   \n",
       "4                      0.0               mg  ...   \n",
       "\n",
       "   vitamin_b5_panthothenic_acid_per_hundred vitamin_b5_panthothenic_acid_unit  \\\n",
       "0                                      1.43                                mg   \n",
       "1                                      1.43                                mg   \n",
       "2                                      1.43                                mg   \n",
       "3                                      1.43                                mg   \n",
       "4                                      1.43                                mg   \n",
       "\n",
       "  vitamin_b6_pyridoxin_per_hundred vitamin_b6_pyridoxin_unit  \\\n",
       "0                             0.52                        mg   \n",
       "1                             0.52                        mg   \n",
       "2                             0.52                        mg   \n",
       "3                             0.52                        mg   \n",
       "4                             0.52                        mg   \n",
       "\n",
       "   vitamin_c_ascorbic_acid_per_hundred  vitamin_c_ascorbic_acid_unit  \\\n",
       "0                                  0.0                            mg   \n",
       "1                                  0.0                            mg   \n",
       "2                                  0.0                            mg   \n",
       "3                                  0.0                            mg   \n",
       "4                                  0.0                            mg   \n",
       "\n",
       "  vitamin_d_d2_d3_international_units_per_hundred  \\\n",
       "0                                             0.0   \n",
       "1                                             0.0   \n",
       "2                                             0.0   \n",
       "3                                             0.0   \n",
       "4                                             0.0   \n",
       "\n",
       "   vitamin_d_d2_d3_international_units_unit  zinc_per_hundred zinc_unit  \n",
       "0                                        IU              2.73        mg  \n",
       "1                                        IU              2.73        mg  \n",
       "2                                        IU              2.73        mg  \n",
       "3                                        IU              2.73        mg  \n",
       "4                                        IU              2.73        mg  \n",
       "\n",
       "[5 rows x 100 columns]"
      ]
     },
     "execution_count": 13,
     "metadata": {},
     "output_type": "execute_result"
    }
   ],
   "source": [
    "df.head()"
   ]
  },
  {
   "cell_type": "code",
   "execution_count": 14,
   "id": "cd6c4e30-c517-487d-8cc9-d54afab75afa",
   "metadata": {},
   "outputs": [
    {
     "data": {
      "text/plain": [
       "(374884, 100)"
      ]
     },
     "execution_count": 14,
     "metadata": {},
     "output_type": "execute_result"
    }
   ],
   "source": [
    "df.shape # Checking the shape of the new DataFrame"
   ]
  },
  {
   "cell_type": "markdown",
   "id": "1b103f42-7765-4a5d-a556-ed43c786f519",
   "metadata": {},
   "source": [
    "The shape remains the same, as we just replaced the null values and we didn't drop any rows or columns."
   ]
  },
  {
   "cell_type": "markdown",
   "id": "98d421bd-b95a-4ee5-8c6b-be58fb627c14",
   "metadata": {},
   "source": [
    "Let's now plot the proportion of different Country and Unit."
   ]
  },
  {
   "cell_type": "code",
   "execution_count": 15,
   "id": "36061f96-a25c-437e-974e-488c2404e22c",
   "metadata": {},
   "outputs": [],
   "source": [
    "total_country=df.groupby(['country']).country.count()\n",
    "total_unit=df.groupby(['unit']).unit.count()"
   ]
  },
  {
   "cell_type": "code",
   "execution_count": null,
   "id": "e42fde79-6100-406c-bc28-a69a902df810",
   "metadata": {},
   "outputs": [],
   "source": []
  },
  {
   "cell_type": "code",
   "execution_count": 16,
   "id": "956fc111-0199-4a9e-a2c1-c2a64a7bba4f",
   "metadata": {},
   "outputs": [
    {
     "data": {
      "image/png": "[encoded data removed]",
      "text/plain": [
       "<Figure size 1008x1008 with 2 Axes>"
      ]
     },
     "metadata": {
      "needs_background": "light"
     },
     "output_type": "display_data"
    }
   ],
   "source": [
    "country=df['country'].unique()\n",
    "unit=df.unit.unique()\n",
    "\n",
    "fig, (ax1,ax2)=plt.subplots(1,2, figsize=(14,14))\n",
    "fig.suptitle('Proportion of different Country and Unit')\n",
    "\n",
    "ax1.bar(country,total_country)\n",
    "ax2.bar(unit,total_unit)\n",
    "\n",
    "plt.show()"
   ]
  },
  {
   "cell_type": "markdown",
   "id": "a5277dde-0391-413a-b4cc-0d69ea8ae289",
   "metadata": {},
   "source": [
    "As we can see above, we plotted well those statistics. "
   ]
  },
  {
   "cell_type": "markdown",
   "id": "eb99472b-1a35-4050-8416-bd808787f571",
   "metadata": {},
   "source": [
    "So now, let's provide descriptive statistics and informative plots of the numerical variables."
   ]
  },
  {
   "cell_type": "code",
   "execution_count": 17,
   "id": "15ac8742-c4ae-4e8e-aae0-4f878e4b702d",
   "metadata": {},
   "outputs": [
    {
     "data": {
      "text/html": [
       "<div>\n",
       "<style scoped>\n",
       "    .dataframe tbody tr th:only-of-type {\n",
       "        vertical-align: middle;\n",
       "    }\n",
       "\n",
       "    .dataframe tbody tr th {\n",
       "        vertical-align: top;\n",
       "    }\n",
       "\n",
       "    .dataframe thead th {\n",
       "        text-align: right;\n",
       "    }\n",
       "</style>\n",
       "<table border=\"1\" class=\"dataframe\">\n",
       "  <thead>\n",
       "    <tr style=\"text-align: right;\">\n",
       "      <th></th>\n",
       "      <th>mean</th>\n",
       "      <th>min</th>\n",
       "      <th>max</th>\n",
       "    </tr>\n",
       "  </thead>\n",
       "  <tbody>\n",
       "    <tr>\n",
       "      <th>alcohol_by_volume</th>\n",
       "      <td>0.027911</td>\n",
       "      <td>0.0</td>\n",
       "      <td>57.90</td>\n",
       "    </tr>\n",
       "    <tr>\n",
       "      <th>calcium_per_hundred</th>\n",
       "      <td>92.977059</td>\n",
       "      <td>0.0</td>\n",
       "      <td>684000.00</td>\n",
       "    </tr>\n",
       "    <tr>\n",
       "      <th>carbohydrates_per_hundred</th>\n",
       "      <td>33.269419</td>\n",
       "      <td>0.0</td>\n",
       "      <td>6400.00</td>\n",
       "    </tr>\n",
       "    <tr>\n",
       "      <th>carbohydrates_per_portion</th>\n",
       "      <td>15.701742</td>\n",
       "      <td>0.0</td>\n",
       "      <td>150.50</td>\n",
       "    </tr>\n",
       "    <tr>\n",
       "      <th>cholesterol_per_hundred</th>\n",
       "      <td>42.524086</td>\n",
       "      <td>0.0</td>\n",
       "      <td>250000.00</td>\n",
       "    </tr>\n",
       "    <tr>\n",
       "      <th>copper_cu_per_hundred</th>\n",
       "      <td>0.528046</td>\n",
       "      <td>0.0</td>\n",
       "      <td>16483.52</td>\n",
       "    </tr>\n",
       "    <tr>\n",
       "      <th>energy_kcal_per_hundred</th>\n",
       "      <td>271.953047</td>\n",
       "      <td>0.0</td>\n",
       "      <td>39600.00</td>\n",
       "    </tr>\n",
       "    <tr>\n",
       "      <th>energy_kcal_per_portion</th>\n",
       "      <td>127.852935</td>\n",
       "      <td>0.0</td>\n",
       "      <td>1508.00</td>\n",
       "    </tr>\n",
       "    <tr>\n",
       "      <th>energy_per_hundred</th>\n",
       "      <td>1137.344686</td>\n",
       "      <td>0.0</td>\n",
       "      <td>165686.40</td>\n",
       "    </tr>\n",
       "    <tr>\n",
       "      <th>energy_per_portion</th>\n",
       "      <td>533.353441</td>\n",
       "      <td>0.0</td>\n",
       "      <td>5212.00</td>\n",
       "    </tr>\n",
       "    <tr>\n",
       "      <th>fat_per_hundred</th>\n",
       "      <td>12.132052</td>\n",
       "      <td>0.0</td>\n",
       "      <td>3200.00</td>\n",
       "    </tr>\n",
       "    <tr>\n",
       "      <th>fat_per_portion</th>\n",
       "      <td>4.548487</td>\n",
       "      <td>0.0</td>\n",
       "      <td>212.00</td>\n",
       "    </tr>\n",
       "    <tr>\n",
       "      <th>fatty_acids_total_saturated_per_hundred</th>\n",
       "      <td>4.191701</td>\n",
       "      <td>0.0</td>\n",
       "      <td>1000.00</td>\n",
       "    </tr>\n",
       "    <tr>\n",
       "      <th>fatty_acids_total_trans_per_hundred</th>\n",
       "      <td>0.025071</td>\n",
       "      <td>0.0</td>\n",
       "      <td>615.38</td>\n",
       "    </tr>\n",
       "    <tr>\n",
       "      <th>fiber_insoluble_per_hundred</th>\n",
       "      <td>3.011852</td>\n",
       "      <td>0.0</td>\n",
       "      <td>43.00</td>\n",
       "    </tr>\n",
       "    <tr>\n",
       "      <th>fiber_per_hundred</th>\n",
       "      <td>2.605942</td>\n",
       "      <td>0.0</td>\n",
       "      <td>1730.00</td>\n",
       "    </tr>\n",
       "    <tr>\n",
       "      <th>fiber_per_portion</th>\n",
       "      <td>1.016973</td>\n",
       "      <td>0.0</td>\n",
       "      <td>42.70</td>\n",
       "    </tr>\n",
       "    <tr>\n",
       "      <th>fiber_soluble_per_hundred</th>\n",
       "      <td>2.004657</td>\n",
       "      <td>0.0</td>\n",
       "      <td>61.00</td>\n",
       "    </tr>\n",
       "    <tr>\n",
       "      <th>folate_total_per_hundred</th>\n",
       "      <td>103.596569</td>\n",
       "      <td>0.0</td>\n",
       "      <td>311111.00</td>\n",
       "    </tr>\n",
       "    <tr>\n",
       "      <th>folic_acid_per_hundred</th>\n",
       "      <td>103.083782</td>\n",
       "      <td>0.0</td>\n",
       "      <td>261364.00</td>\n",
       "    </tr>\n",
       "    <tr>\n",
       "      <th>iron_per_hundred</th>\n",
       "      <td>5.669622</td>\n",
       "      <td>0.0</td>\n",
       "      <td>769230.77</td>\n",
       "    </tr>\n",
       "    <tr>\n",
       "      <th>magnesium_per_hundred</th>\n",
       "      <td>61.251384</td>\n",
       "      <td>0.0</td>\n",
       "      <td>585714.00</td>\n",
       "    </tr>\n",
       "    <tr>\n",
       "      <th>manganese_mn_per_hundred</th>\n",
       "      <td>1.004002</td>\n",
       "      <td>0.0</td>\n",
       "      <td>67.00</td>\n",
       "    </tr>\n",
       "    <tr>\n",
       "      <th>monounsaturated_fatty_acids_per_hundred</th>\n",
       "      <td>3.810096</td>\n",
       "      <td>0.0</td>\n",
       "      <td>200.00</td>\n",
       "    </tr>\n",
       "    <tr>\n",
       "      <th>phosphorus_per_hundred</th>\n",
       "      <td>186.307246</td>\n",
       "      <td>0.0</td>\n",
       "      <td>559459.00</td>\n",
       "    </tr>\n",
       "    <tr>\n",
       "      <th>polyunsaturated_fatty_acids_per_hundred</th>\n",
       "      <td>2.242995</td>\n",
       "      <td>0.0</td>\n",
       "      <td>100.00</td>\n",
       "    </tr>\n",
       "    <tr>\n",
       "      <th>portion_quantity</th>\n",
       "      <td>3.729814</td>\n",
       "      <td>0.0</td>\n",
       "      <td>3000.00</td>\n",
       "    </tr>\n",
       "    <tr>\n",
       "      <th>potassium_k_per_hundred</th>\n",
       "      <td>272.582302</td>\n",
       "      <td>0.0</td>\n",
       "      <td>925000.00</td>\n",
       "    </tr>\n",
       "    <tr>\n",
       "      <th>protein_per_hundred</th>\n",
       "      <td>7.071990</td>\n",
       "      <td>0.0</td>\n",
       "      <td>5747.00</td>\n",
       "    </tr>\n",
       "    <tr>\n",
       "      <th>protein_per_portion</th>\n",
       "      <td>2.876068</td>\n",
       "      <td>0.0</td>\n",
       "      <td>118.00</td>\n",
       "    </tr>\n",
       "    <tr>\n",
       "      <th>quantity</th>\n",
       "      <td>97.626803</td>\n",
       "      <td>0.0</td>\n",
       "      <td>230000.00</td>\n",
       "    </tr>\n",
       "    <tr>\n",
       "      <th>salt_per_hundred</th>\n",
       "      <td>0.292143</td>\n",
       "      <td>0.0</td>\n",
       "      <td>99.80</td>\n",
       "    </tr>\n",
       "    <tr>\n",
       "      <th>salt_per_portion</th>\n",
       "      <td>0.212160</td>\n",
       "      <td>0.0</td>\n",
       "      <td>28.30</td>\n",
       "    </tr>\n",
       "    <tr>\n",
       "      <th>saturated_fat_per_hundred</th>\n",
       "      <td>2.217765</td>\n",
       "      <td>0.0</td>\n",
       "      <td>100.00</td>\n",
       "    </tr>\n",
       "    <tr>\n",
       "      <th>saturated_fat_per_portion</th>\n",
       "      <td>1.332457</td>\n",
       "      <td>0.0</td>\n",
       "      <td>59.00</td>\n",
       "    </tr>\n",
       "    <tr>\n",
       "      <th>sodium_per_hundred</th>\n",
       "      <td>1.246604</td>\n",
       "      <td>0.0</td>\n",
       "      <td>25833.33</td>\n",
       "    </tr>\n",
       "    <tr>\n",
       "      <th>sodium_per_portion</th>\n",
       "      <td>0.092251</td>\n",
       "      <td>0.0</td>\n",
       "      <td>250.00</td>\n",
       "    </tr>\n",
       "    <tr>\n",
       "      <th>sugars_added_per_hundred</th>\n",
       "      <td>16.905744</td>\n",
       "      <td>0.0</td>\n",
       "      <td>1100.00</td>\n",
       "    </tr>\n",
       "    <tr>\n",
       "      <th>sugars_per_hundred</th>\n",
       "      <td>15.734169</td>\n",
       "      <td>0.0</td>\n",
       "      <td>5800.00</td>\n",
       "    </tr>\n",
       "    <tr>\n",
       "      <th>sugars_per_portion</th>\n",
       "      <td>5.077710</td>\n",
       "      <td>0.0</td>\n",
       "      <td>177.00</td>\n",
       "    </tr>\n",
       "    <tr>\n",
       "      <th>vitamin_a_iu_per_hundred</th>\n",
       "      <td>253.250104</td>\n",
       "      <td>0.0</td>\n",
       "      <td>333333.00</td>\n",
       "    </tr>\n",
       "    <tr>\n",
       "      <th>vitamin_b12_cobalamin_per_hundred</th>\n",
       "      <td>2.031993</td>\n",
       "      <td>0.0</td>\n",
       "      <td>33898.31</td>\n",
       "    </tr>\n",
       "    <tr>\n",
       "      <th>vitamin_b1_thiamin_per_hundred</th>\n",
       "      <td>0.050358</td>\n",
       "      <td>0.0</td>\n",
       "      <td>1111.00</td>\n",
       "    </tr>\n",
       "    <tr>\n",
       "      <th>vitamin_b2_riboflavin_per_hundred</th>\n",
       "      <td>0.400886</td>\n",
       "      <td>0.0</td>\n",
       "      <td>20000.00</td>\n",
       "    </tr>\n",
       "    <tr>\n",
       "      <th>vitamin_b3_niacin_per_hundred</th>\n",
       "      <td>5.159759</td>\n",
       "      <td>0.0</td>\n",
       "      <td>6785.71</td>\n",
       "    </tr>\n",
       "    <tr>\n",
       "      <th>vitamin_b5_panthothenic_acid_per_hundred</th>\n",
       "      <td>1.575282</td>\n",
       "      <td>0.0</td>\n",
       "      <td>16920.47</td>\n",
       "    </tr>\n",
       "    <tr>\n",
       "      <th>vitamin_b6_pyridoxin_per_hundred</th>\n",
       "      <td>0.550920</td>\n",
       "      <td>0.0</td>\n",
       "      <td>420.00</td>\n",
       "    </tr>\n",
       "    <tr>\n",
       "      <th>vitamin_c_ascorbic_acid_per_hundred</th>\n",
       "      <td>8.378676</td>\n",
       "      <td>0.0</td>\n",
       "      <td>210000.00</td>\n",
       "    </tr>\n",
       "    <tr>\n",
       "      <th>vitamin_d_d2_d3_international_units_per_hundred</th>\n",
       "      <td>2.536350</td>\n",
       "      <td>0.0</td>\n",
       "      <td>5000.00</td>\n",
       "    </tr>\n",
       "    <tr>\n",
       "      <th>zinc_per_hundred</th>\n",
       "      <td>2.806064</td>\n",
       "      <td>0.0</td>\n",
       "      <td>10000.00</td>\n",
       "    </tr>\n",
       "  </tbody>\n",
       "</table>\n",
       "</div>"
      ],
      "text/plain": [
       "                                                        mean  min        max\n",
       "alcohol_by_volume                                   0.027911  0.0      57.90\n",
       "calcium_per_hundred                                92.977059  0.0  684000.00\n",
       "carbohydrates_per_hundred                          33.269419  0.0    6400.00\n",
       "carbohydrates_per_portion                          15.701742  0.0     150.50\n",
       "cholesterol_per_hundred                            42.524086  0.0  250000.00\n",
       "copper_cu_per_hundred                               0.528046  0.0   16483.52\n",
       "energy_kcal_per_hundred                           271.953047  0.0   39600.00\n",
       "energy_kcal_per_portion                           127.852935  0.0    1508.00\n",
       "energy_per_hundred                               1137.344686  0.0  165686.40\n",
       "energy_per_portion                                533.353441  0.0    5212.00\n",
       "fat_per_hundred                                    12.132052  0.0    3200.00\n",
       "fat_per_portion                                     4.548487  0.0     212.00\n",
       "fatty_acids_total_saturated_per_hundred             4.191701  0.0    1000.00\n",
       "fatty_acids_total_trans_per_hundred                 0.025071  0.0     615.38\n",
       "fiber_insoluble_per_hundred                         3.011852  0.0      43.00\n",
       "fiber_per_hundred                                   2.605942  0.0    1730.00\n",
       "fiber_per_portion                                   1.016973  0.0      42.70\n",
       "fiber_soluble_per_hundred                           2.004657  0.0      61.00\n",
       "folate_total_per_hundred                          103.596569  0.0  311111.00\n",
       "folic_acid_per_hundred                            103.083782  0.0  261364.00\n",
       "iron_per_hundred                                    5.669622  0.0  769230.77\n",
       "magnesium_per_hundred                              61.251384  0.0  585714.00\n",
       "manganese_mn_per_hundred                            1.004002  0.0      67.00\n",
       "monounsaturated_fatty_acids_per_hundred             3.810096  0.0     200.00\n",
       "phosphorus_per_hundred                            186.307246  0.0  559459.00\n",
       "polyunsaturated_fatty_acids_per_hundred             2.242995  0.0     100.00\n",
       "portion_quantity                                    3.729814  0.0    3000.00\n",
       "potassium_k_per_hundred                           272.582302  0.0  925000.00\n",
       "protein_per_hundred                                 7.071990  0.0    5747.00\n",
       "protein_per_portion                                 2.876068  0.0     118.00\n",
       "quantity                                           97.626803  0.0  230000.00\n",
       "salt_per_hundred                                    0.292143  0.0      99.80\n",
       "salt_per_portion                                    0.212160  0.0      28.30\n",
       "saturated_fat_per_hundred                           2.217765  0.0     100.00\n",
       "saturated_fat_per_portion                           1.332457  0.0      59.00\n",
       "sodium_per_hundred                                  1.246604  0.0   25833.33\n",
       "sodium_per_portion                                  0.092251  0.0     250.00\n",
       "sugars_added_per_hundred                           16.905744  0.0    1100.00\n",
       "sugars_per_hundred                                 15.734169  0.0    5800.00\n",
       "sugars_per_portion                                  5.077710  0.0     177.00\n",
       "vitamin_a_iu_per_hundred                          253.250104  0.0  333333.00\n",
       "vitamin_b12_cobalamin_per_hundred                   2.031993  0.0   33898.31\n",
       "vitamin_b1_thiamin_per_hundred                      0.050358  0.0    1111.00\n",
       "vitamin_b2_riboflavin_per_hundred                   0.400886  0.0   20000.00\n",
       "vitamin_b3_niacin_per_hundred                       5.159759  0.0    6785.71\n",
       "vitamin_b5_panthothenic_acid_per_hundred            1.575282  0.0   16920.47\n",
       "vitamin_b6_pyridoxin_per_hundred                    0.550920  0.0     420.00\n",
       "vitamin_c_ascorbic_acid_per_hundred                 8.378676  0.0  210000.00\n",
       "vitamin_d_d2_d3_international_units_per_hundred     2.536350  0.0    5000.00\n",
       "zinc_per_hundred                                    2.806064  0.0   10000.00"
      ]
     },
     "execution_count": 17,
     "metadata": {},
     "output_type": "execute_result"
    }
   ],
   "source": [
    "# First let's see the max min and mean values for eache colulmns\n",
    "described=df[list_float].describe().loc[['mean','min','max']].T\n",
    "described"
   ]
  },
  {
   "cell_type": "markdown",
   "id": "ba50c122-f669-43a3-ae1d-d04eb3f3892d",
   "metadata": {},
   "source": [
    "Now, we will try to adress unrealistic errors, that we will find in the per hundred columns."
   ]
  },
  {
   "cell_type": "code",
   "execution_count": 18,
   "id": "c1461332-199c-4b2b-970c-6cb9ebd17bdd",
   "metadata": {},
   "outputs": [
    {
     "data": {
      "text/plain": [
       "37"
      ]
     },
     "execution_count": 18,
     "metadata": {},
     "output_type": "execute_result"
    }
   ],
   "source": [
    "per_hundred=pd.Series(list_float)\n",
    "per_hundred_list=per_hundred[per_hundred.str.contains('_per_hundred')].tolist()\n",
    "len(per_hundred_list)"
   ]
  },
  {
   "cell_type": "code",
   "execution_count": 19,
   "id": "09f11e9c-b7e4-47ee-96e0-4b1166c370d0",
   "metadata": {},
   "outputs": [
    {
     "data": {
      "text/plain": [
       "37"
      ]
     },
     "execution_count": 19,
     "metadata": {},
     "output_type": "execute_result"
    }
   ],
   "source": [
    "unit=pd.Series(list_object)\n",
    "unit_list=unit[unit.str.contains('_unit')].tolist()\n",
    "del(unit_list[14])\n",
    "del(unit_list[21])\n",
    "len(unit_list)"
   ]
  },
  {
   "cell_type": "markdown",
   "id": "b93d095d-28b5-4d3f-825a-a0b4cd22a5d7",
   "metadata": {},
   "source": [
    "We can see that the length of each lists are now the same. Let's create pairs of unit and per_hundred columns."
   ]
  },
  {
   "cell_type": "code",
   "execution_count": 20,
   "id": "65707c15-a171-494a-94ce-bf8e4babb900",
   "metadata": {},
   "outputs": [
    {
     "data": {
      "text/plain": [
       "[('calcium_per_hundred', 'calcium_unit'),\n",
       " ('carbohydrates_per_hundred', 'carbohydrates_unit'),\n",
       " ('cholesterol_per_hundred', 'cholesterol_unit'),\n",
       " ('copper_cu_per_hundred', 'copper_cu_unit'),\n",
       " ('energy_kcal_per_hundred', 'energy_kcal_unit'),\n",
       " ('energy_per_hundred', 'energy_unit'),\n",
       " ('fat_per_hundred', 'fat_unit'),\n",
       " ('fatty_acids_total_saturated_per_hundred',\n",
       "  'fatty_acids_total_saturated_unit'),\n",
       " ('fatty_acids_total_trans_per_hundred', 'fatty_acids_total_trans_unit'),\n",
       " ('fiber_insoluble_per_hundred', 'fiber_insoluble_unit'),\n",
       " ('fiber_per_hundred', 'fiber_soluble_unit'),\n",
       " ('fiber_soluble_per_hundred', 'fiber_unit'),\n",
       " ('folate_total_per_hundred', 'folate_total_unit'),\n",
       " ('folic_acid_per_hundred', 'folic_acid_unit'),\n",
       " ('iron_per_hundred', 'iron_unit'),\n",
       " ('magnesium_per_hundred', 'magnesium_unit'),\n",
       " ('manganese_mn_per_hundred', 'manganese_mn_unit'),\n",
       " ('monounsaturated_fatty_acids_per_hundred',\n",
       "  'monounsaturated_fatty_acids_unit'),\n",
       " ('phosphorus_per_hundred', 'phosphorus_unit'),\n",
       " ('polyunsaturated_fatty_acids_per_hundred',\n",
       "  'polyunsaturated_fatty_acids_unit'),\n",
       " ('potassium_k_per_hundred', 'portion_unit'),\n",
       " ('protein_per_hundred', 'protein_unit'),\n",
       " ('salt_per_hundred', 'salt_unit'),\n",
       " ('saturated_fat_per_hundred', 'saturated_fat_unit'),\n",
       " ('sodium_per_hundred', 'sodium_unit'),\n",
       " ('sugars_added_per_hundred', 'sugars_added_unit'),\n",
       " ('sugars_per_hundred', 'sugars_unit'),\n",
       " ('vitamin_a_iu_per_hundred', 'vitamin_a_iu_unit'),\n",
       " ('vitamin_b12_cobalamin_per_hundred', 'vitamin_b12_cobalamin_unit'),\n",
       " ('vitamin_b1_thiamin_per_hundred', 'vitamin_b1_thiamin_unit'),\n",
       " ('vitamin_b2_riboflavin_per_hundred', 'vitamin_b2_riboflavin_unit'),\n",
       " ('vitamin_b3_niacin_per_hundred', 'vitamin_b3_niacin_unit'),\n",
       " ('vitamin_b5_panthothenic_acid_per_hundred',\n",
       "  'vitamin_b5_panthothenic_acid_unit'),\n",
       " ('vitamin_b6_pyridoxin_per_hundred', 'vitamin_b6_pyridoxin_unit'),\n",
       " ('vitamin_c_ascorbic_acid_per_hundred', 'vitamin_c_ascorbic_acid_unit'),\n",
       " ('vitamin_d_d2_d3_international_units_per_hundred',\n",
       "  'vitamin_d_d2_d3_international_units_unit'),\n",
       " ('zinc_per_hundred', 'zinc_unit')]"
      ]
     },
     "execution_count": 20,
     "metadata": {},
     "output_type": "execute_result"
    }
   ],
   "source": [
    "zipped=zip(per_hundred_list,unit_list)\n",
    "pairs=list(zipped)\n",
    "pairs"
   ]
  },
  {
   "cell_type": "code",
   "execution_count": 21,
   "id": "02f75ba4-88ce-4e5d-8cf1-7523587270cd",
   "metadata": {},
   "outputs": [],
   "source": [
    "for i in range (len(pairs)):\n",
    "    df.loc[(df[pairs[i][1]]== \"g\") & (df[pairs[i][0]] >100),[pairs[i][0]]]=df[pairs[i][0]].median()\n",
    "    df.loc[(df[pairs[i][1]]== \"mg\") & (df[pairs[i][0]] >10**5),[pairs[i][0]]]=df[pairs[i][0]].median()\n",
    "    df.loc[(df[pairs[i][1]]== \"µg\") & (df[pairs[i][0]] >10**8),[pairs[i][0]]]=df[pairs[i][0]].median()\n",
    "    df.loc[(df[pairs[i][1]]== \"kJ\") & (df[pairs[i][0]] >3700),[pairs[i][0]]]=df[pairs[i][0]].median()\n",
    "    df.loc[(df[pairs[i][1]]== 'IU') & (df[pairs[i][0]] >4*10**9),[pairs[i][0]]]=df[pairs[i][0]].median()\n",
    "    "
   ]
  },
  {
   "cell_type": "markdown",
   "id": "62b255ab-a368-4274-bde4-9b95ea3c8bd9",
   "metadata": {},
   "source": [
    "III: Now let's start an in depth analysis."
   ]
  },
  {
   "cell_type": "markdown",
   "id": "406d9fa7-cc3e-4264-ae78-a6f9ffbe5268",
   "metadata": {},
   "source": [
    "First, let's take a look at the distrubution of the vitamins per country"
   ]
  },
  {
   "cell_type": "code",
   "execution_count": 23,
   "id": "b4f5e521-5496-44f7-a9ec-08ebe5d3cfbb",
   "metadata": {},
   "outputs": [
    {
     "data": {
      "text/plain": [
       "['vitamin_a_iu_per_hundred',\n",
       " 'vitamin_b12_cobalamin_per_hundred',\n",
       " 'vitamin_b1_thiamin_per_hundred',\n",
       " 'vitamin_b2_riboflavin_per_hundred',\n",
       " 'vitamin_b3_niacin_per_hundred',\n",
       " 'vitamin_b5_panthothenic_acid_per_hundred',\n",
       " 'vitamin_b6_pyridoxin_per_hundred',\n",
       " 'vitamin_c_ascorbic_acid_per_hundred',\n",
       " 'vitamin_d_d2_d3_international_units_per_hundred']"
      ]
     },
     "execution_count": 23,
     "metadata": {},
     "output_type": "execute_result"
    }
   ],
   "source": [
    "per_hundred_serie=pd.Series(per_hundred_list) # Creting a list holding the vitamin per hundred\n",
    "vitamin_list=per_hundred_serie[per_hundred_serie.str.contains('vitamin')].tolist()\n",
    "vitamin_list"
   ]
  },
  {
   "cell_type": "markdown",
   "id": "dbfeffc1-60b3-4f8e-887b-769dd88fd5b7",
   "metadata": {},
   "source": [
    "We can see that we in this case have 9 different vitamins. Let's see the proportion of those vitamin in each country, by plotting the mean values vitamins per amliments of each vitamins for every country."
   ]
  },
  {
   "cell_type": "code",
   "execution_count": 24,
   "id": "321b6b8d-3fb3-45fc-b59f-5e842c112b34",
   "metadata": {},
   "outputs": [
    {
     "data": {
      "text/plain": [
       "array(['CH', 'FR', 'IT', 'DE', 'AT', 'UK', 'US'], dtype=object)"
      ]
     },
     "execution_count": 24,
     "metadata": {},
     "output_type": "execute_result"
    }
   ],
   "source": [
    "df.country.unique() # Reminder of the different country"
   ]
  },
  {
   "cell_type": "code",
   "execution_count": 25,
   "id": "30b7054d-0d03-4f60-a93e-d9380159e3df",
   "metadata": {},
   "outputs": [
    {
     "data": {
      "text/plain": [
       "7"
      ]
     },
     "execution_count": 25,
     "metadata": {},
     "output_type": "execute_result"
    }
   ],
   "source": [
    "len(country)"
   ]
  },
  {
   "cell_type": "markdown",
   "id": "58f817a8-33d7-4be6-8a7b-4059a09158e8",
   "metadata": {},
   "source": [
    "We will therefore plot seven differents subplots"
   ]
  },
  {
   "cell_type": "code",
   "execution_count": 26,
   "id": "5c1de6e6-5a06-4bb8-941e-6ad1f6460c63",
   "metadata": {},
   "outputs": [
    {
     "data": {
      "text/html": [
       "<div>\n",
       "<style scoped>\n",
       "    .dataframe tbody tr th:only-of-type {\n",
       "        vertical-align: middle;\n",
       "    }\n",
       "\n",
       "    .dataframe tbody tr th {\n",
       "        vertical-align: top;\n",
       "    }\n",
       "\n",
       "    .dataframe thead th {\n",
       "        text-align: right;\n",
       "    }\n",
       "</style>\n",
       "<table border=\"1\" class=\"dataframe\">\n",
       "  <thead>\n",
       "    <tr style=\"text-align: right;\">\n",
       "      <th>country</th>\n",
       "      <th>AT</th>\n",
       "      <th>CH</th>\n",
       "      <th>DE</th>\n",
       "      <th>FR</th>\n",
       "      <th>IT</th>\n",
       "      <th>UK</th>\n",
       "      <th>US</th>\n",
       "    </tr>\n",
       "  </thead>\n",
       "  <tbody>\n",
       "    <tr>\n",
       "      <th>vitamin_a_iu_per_hundred</th>\n",
       "      <td>0.00</td>\n",
       "      <td>0.000000</td>\n",
       "      <td>0.000000</td>\n",
       "      <td>0.000000</td>\n",
       "      <td>0.000000</td>\n",
       "      <td>0.00</td>\n",
       "      <td>289.194618</td>\n",
       "    </tr>\n",
       "    <tr>\n",
       "      <th>vitamin_b12_cobalamin_per_hundred</th>\n",
       "      <td>1.62</td>\n",
       "      <td>1.620342</td>\n",
       "      <td>1.619848</td>\n",
       "      <td>1.622797</td>\n",
       "      <td>1.620839</td>\n",
       "      <td>1.62</td>\n",
       "      <td>2.090431</td>\n",
       "    </tr>\n",
       "    <tr>\n",
       "      <th>vitamin_b1_thiamin_per_hundred</th>\n",
       "      <td>0.00</td>\n",
       "      <td>0.011117</td>\n",
       "      <td>0.001145</td>\n",
       "      <td>0.009746</td>\n",
       "      <td>0.001839</td>\n",
       "      <td>0.00</td>\n",
       "      <td>0.056328</td>\n",
       "    </tr>\n",
       "    <tr>\n",
       "      <th>vitamin_b2_riboflavin_per_hundred</th>\n",
       "      <td>0.33</td>\n",
       "      <td>0.337258</td>\n",
       "      <td>0.330220</td>\n",
       "      <td>0.337797</td>\n",
       "      <td>0.332085</td>\n",
       "      <td>0.33</td>\n",
       "      <td>0.410188</td>\n",
       "    </tr>\n",
       "    <tr>\n",
       "      <th>vitamin_b3_niacin_per_hundred</th>\n",
       "      <td>4.88</td>\n",
       "      <td>4.924077</td>\n",
       "      <td>4.884138</td>\n",
       "      <td>4.947373</td>\n",
       "      <td>4.893579</td>\n",
       "      <td>4.88</td>\n",
       "      <td>5.194749</td>\n",
       "    </tr>\n",
       "    <tr>\n",
       "      <th>vitamin_b5_panthothenic_acid_per_hundred</th>\n",
       "      <td>1.43</td>\n",
       "      <td>1.445967</td>\n",
       "      <td>1.431292</td>\n",
       "      <td>1.430000</td>\n",
       "      <td>1.432644</td>\n",
       "      <td>1.43</td>\n",
       "      <td>1.594228</td>\n",
       "    </tr>\n",
       "    <tr>\n",
       "      <th>vitamin_b6_pyridoxin_per_hundred</th>\n",
       "      <td>0.52</td>\n",
       "      <td>0.537980</td>\n",
       "      <td>0.520360</td>\n",
       "      <td>0.526356</td>\n",
       "      <td>0.521258</td>\n",
       "      <td>0.52</td>\n",
       "      <td>0.553470</td>\n",
       "    </tr>\n",
       "    <tr>\n",
       "      <th>vitamin_c_ascorbic_acid_per_hundred</th>\n",
       "      <td>0.00</td>\n",
       "      <td>0.870672</td>\n",
       "      <td>0.039853</td>\n",
       "      <td>0.670339</td>\n",
       "      <td>0.000000</td>\n",
       "      <td>0.00</td>\n",
       "      <td>8.838842</td>\n",
       "    </tr>\n",
       "    <tr>\n",
       "      <th>vitamin_d_d2_d3_international_units_per_hundred</th>\n",
       "      <td>0.00</td>\n",
       "      <td>0.000000</td>\n",
       "      <td>0.000000</td>\n",
       "      <td>0.000000</td>\n",
       "      <td>0.000000</td>\n",
       "      <td>0.00</td>\n",
       "      <td>2.896341</td>\n",
       "    </tr>\n",
       "  </tbody>\n",
       "</table>\n",
       "</div>"
      ],
      "text/plain": [
       "country                                            AT        CH        DE  \\\n",
       "vitamin_a_iu_per_hundred                         0.00  0.000000  0.000000   \n",
       "vitamin_b12_cobalamin_per_hundred                1.62  1.620342  1.619848   \n",
       "vitamin_b1_thiamin_per_hundred                   0.00  0.011117  0.001145   \n",
       "vitamin_b2_riboflavin_per_hundred                0.33  0.337258  0.330220   \n",
       "vitamin_b3_niacin_per_hundred                    4.88  4.924077  4.884138   \n",
       "vitamin_b5_panthothenic_acid_per_hundred         1.43  1.445967  1.431292   \n",
       "vitamin_b6_pyridoxin_per_hundred                 0.52  0.537980  0.520360   \n",
       "vitamin_c_ascorbic_acid_per_hundred              0.00  0.870672  0.039853   \n",
       "vitamin_d_d2_d3_international_units_per_hundred  0.00  0.000000  0.000000   \n",
       "\n",
       "country                                                FR        IT    UK  \\\n",
       "vitamin_a_iu_per_hundred                         0.000000  0.000000  0.00   \n",
       "vitamin_b12_cobalamin_per_hundred                1.622797  1.620839  1.62   \n",
       "vitamin_b1_thiamin_per_hundred                   0.009746  0.001839  0.00   \n",
       "vitamin_b2_riboflavin_per_hundred                0.337797  0.332085  0.33   \n",
       "vitamin_b3_niacin_per_hundred                    4.947373  4.893579  4.88   \n",
       "vitamin_b5_panthothenic_acid_per_hundred         1.430000  1.432644  1.43   \n",
       "vitamin_b6_pyridoxin_per_hundred                 0.526356  0.521258  0.52   \n",
       "vitamin_c_ascorbic_acid_per_hundred              0.670339  0.000000  0.00   \n",
       "vitamin_d_d2_d3_international_units_per_hundred  0.000000  0.000000  0.00   \n",
       "\n",
       "country                                                  US  \n",
       "vitamin_a_iu_per_hundred                         289.194618  \n",
       "vitamin_b12_cobalamin_per_hundred                  2.090431  \n",
       "vitamin_b1_thiamin_per_hundred                     0.056328  \n",
       "vitamin_b2_riboflavin_per_hundred                  0.410188  \n",
       "vitamin_b3_niacin_per_hundred                      5.194749  \n",
       "vitamin_b5_panthothenic_acid_per_hundred           1.594228  \n",
       "vitamin_b6_pyridoxin_per_hundred                   0.553470  \n",
       "vitamin_c_ascorbic_acid_per_hundred                8.838842  \n",
       "vitamin_d_d2_d3_international_units_per_hundred    2.896341  "
      ]
     },
     "execution_count": 26,
     "metadata": {},
     "output_type": "execute_result"
    }
   ],
   "source": [
    "mean_df=df[vitamin_list].groupby(df['country']).mean().T\n",
    "mean_df"
   ]
  },
  {
   "cell_type": "code",
   "execution_count": 27,
   "id": "1d2bf32e-181f-4f87-84b9-b590d7f37d84",
   "metadata": {},
   "outputs": [],
   "source": [
    "mean_matrix=mean_df.to_numpy()"
   ]
  },
  {
   "cell_type": "code",
   "execution_count": 28,
   "id": "2b0fc717-0e1e-467f-b4ff-45e8f705ead3",
   "metadata": {},
   "outputs": [
    {
     "data": {
      "text/plain": [
       "['CH', 'FR', 'IT', 'DE', 'AT', 'UK', 'US']"
      ]
     },
     "execution_count": 28,
     "metadata": {},
     "output_type": "execute_result"
    }
   ],
   "source": [
    "country_list=country.tolist()\n",
    "country_list"
   ]
  },
  {
   "cell_type": "code",
   "execution_count": 29,
   "id": "b66a5d7c-0e29-4f55-a300-a7fa3b4d66e3",
   "metadata": {},
   "outputs": [
    {
     "data": {
      "image/png": "[encoded data removed]",
      "text/plain": [
       "<Figure size 1296x720 with 7 Axes>"
      ]
     },
     "metadata": {
      "needs_background": "light"
     },
     "output_type": "display_data"
    }
   ],
   "source": [
    "x_cor=['a','b12','b1','b2','b3','b5','b6','c','d']\n",
    "f = plt.figure(figsize=(18, 10))\n",
    "\n",
    "for country in (country_list):\n",
    "    subplot = f.add_subplot(3, 3, country_list.index(country)+1)\n",
    "    plt.bar(x_cor, mean_df[country])\n",
    "    plt.title('Distribution of vitamin in '+ country)\n",
    "\n",
    "plt.suptitle(\n",
    "    \"Distribution of vitamin for each country\",\n",
    "    fontsize=20,\n",
    ")\n",
    "f.tight_layout()\n",
    "\n",
    "plt.show()"
   ]
  },
  {
   "cell_type": "markdown",
   "id": "9fff1a9d-18a3-498e-9bb0-62ef76c9166f",
   "metadata": {},
   "source": [
    "We can observe that the a vitamin is very very used in the US, while in other country, it is absolutely not. In the other country, the most common vitamin is the b3 vitamin"
   ]
  },
  {
   "cell_type": "markdown",
   "id": "d22c986d-001c-4c3d-96bb-1f486df78c6d",
   "metadata": {},
   "source": [
    "Now let's take a look at the most cmmon additives in the database."
   ]
  },
  {
   "cell_type": "code",
   "execution_count": 30,
   "id": "185814c3-58e7-4f7d-9579-70b2966e9e0a",
   "metadata": {},
   "outputs": [
    {
     "data": {
      "text/plain": [
       "0    Superior quality durum wheat Pasta\\r\\n\\r\\nIngr...\n",
       "1                 Bio Milk (Switzerland), kitchen salt\n",
       "2                                 100%  coffee Arabica\n",
       "3    Powdered chocolate 99% (sugar, cocoa), emulsif...\n",
       "4    cocoa paste * (Honduras), raw cane sugar * (Pa...\n",
       "Name: ingredients_en, dtype: object"
      ]
     },
     "execution_count": 30,
     "metadata": {},
     "output_type": "execute_result"
    }
   ],
   "source": [
    "df['ingredients_en'].head()"
   ]
  },
  {
   "cell_type": "markdown",
   "id": "94b3ec84-c41e-4534-9226-5eb490f3fae6",
   "metadata": {},
   "source": [
    "Let's focus on one entrie in order to have an idea."
   ]
  },
  {
   "cell_type": "code",
   "execution_count": 31,
   "id": "48f8b6bd-a1ca-4f57-8943-703b2223f831",
   "metadata": {},
   "outputs": [
    {
     "data": {
      "text/plain": [
       "171807    SUGAR, ENRICHED BLEACHED WHEAT FLOUR (WHEAT FL...\n",
       "Name: ingredients_en, dtype: object"
      ]
     },
     "execution_count": 31,
     "metadata": {},
     "output_type": "execute_result"
    }
   ],
   "source": [
    "df['ingredients_en'].sample()"
   ]
  },
  {
   "cell_type": "markdown",
   "id": "64bafa75-88c6-48bc-a5ed-428bbb76b4e9",
   "metadata": {},
   "source": [
    "So we can see that this s what compose the product. Now let's look for addidtives. for example, let's look for the e415."
   ]
  },
  {
   "cell_type": "code",
   "execution_count": 32,
   "id": "d893b661-0d63-4a53-aeea-5fe2ddb752d5",
   "metadata": {},
   "outputs": [
    {
     "data": {
      "text/html": [
       "<div>\n",
       "<style scoped>\n",
       "    .dataframe tbody tr th:only-of-type {\n",
       "        vertical-align: middle;\n",
       "    }\n",
       "\n",
       "    .dataframe tbody tr th {\n",
       "        vertical-align: top;\n",
       "    }\n",
       "\n",
       "    .dataframe thead th {\n",
       "        text-align: right;\n",
       "    }\n",
       "</style>\n",
       "<table border=\"1\" class=\"dataframe\">\n",
       "  <thead>\n",
       "    <tr style=\"text-align: right;\">\n",
       "      <th></th>\n",
       "      <th>index</th>\n",
       "      <th>alcohol_by_volume</th>\n",
       "      <th>barcode</th>\n",
       "      <th>calcium_per_hundred</th>\n",
       "      <th>calcium_unit</th>\n",
       "      <th>carbohydrates_per_hundred</th>\n",
       "      <th>carbohydrates_per_portion</th>\n",
       "      <th>carbohydrates_unit</th>\n",
       "      <th>cholesterol_per_hundred</th>\n",
       "      <th>cholesterol_unit</th>\n",
       "      <th>...</th>\n",
       "      <th>vitamin_b5_panthothenic_acid_per_hundred</th>\n",
       "      <th>vitamin_b5_panthothenic_acid_unit</th>\n",
       "      <th>vitamin_b6_pyridoxin_per_hundred</th>\n",
       "      <th>vitamin_b6_pyridoxin_unit</th>\n",
       "      <th>vitamin_c_ascorbic_acid_per_hundred</th>\n",
       "      <th>vitamin_c_ascorbic_acid_unit</th>\n",
       "      <th>vitamin_d_d2_d3_international_units_per_hundred</th>\n",
       "      <th>vitamin_d_d2_d3_international_units_unit</th>\n",
       "      <th>zinc_per_hundred</th>\n",
       "      <th>zinc_unit</th>\n",
       "    </tr>\n",
       "  </thead>\n",
       "  <tbody>\n",
       "    <tr>\n",
       "      <th>52901</th>\n",
       "      <td>52901</td>\n",
       "      <td>0.0</td>\n",
       "      <td>00075391010570</td>\n",
       "      <td>49.0</td>\n",
       "      <td>mg</td>\n",
       "      <td>16.96</td>\n",
       "      <td>15.6</td>\n",
       "      <td>g</td>\n",
       "      <td>58.0</td>\n",
       "      <td>mg</td>\n",
       "      <td>...</td>\n",
       "      <td>1.43</td>\n",
       "      <td>mg</td>\n",
       "      <td>0.52</td>\n",
       "      <td>mg</td>\n",
       "      <td>1.8</td>\n",
       "      <td>mg</td>\n",
       "      <td>0.0</td>\n",
       "      <td>IU</td>\n",
       "      <td>2.73</td>\n",
       "      <td>mg</td>\n",
       "    </tr>\n",
       "  </tbody>\n",
       "</table>\n",
       "<p>1 rows × 100 columns</p>\n",
       "</div>"
      ],
      "text/plain": [
       "       index  alcohol_by_volume         barcode  calcium_per_hundred  \\\n",
       "52901  52901                0.0  00075391010570                 49.0   \n",
       "\n",
       "      calcium_unit  carbohydrates_per_hundred  carbohydrates_per_portion  \\\n",
       "52901           mg                      16.96                       15.6   \n",
       "\n",
       "      carbohydrates_unit  cholesterol_per_hundred cholesterol_unit  ...  \\\n",
       "52901                  g                     58.0               mg  ...   \n",
       "\n",
       "       vitamin_b5_panthothenic_acid_per_hundred  \\\n",
       "52901                                      1.43   \n",
       "\n",
       "      vitamin_b5_panthothenic_acid_unit vitamin_b6_pyridoxin_per_hundred  \\\n",
       "52901                                mg                             0.52   \n",
       "\n",
       "      vitamin_b6_pyridoxin_unit  vitamin_c_ascorbic_acid_per_hundred  \\\n",
       "52901                        mg                                  1.8   \n",
       "\n",
       "       vitamin_c_ascorbic_acid_unit  \\\n",
       "52901                            mg   \n",
       "\n",
       "      vitamin_d_d2_d3_international_units_per_hundred  \\\n",
       "52901                                             0.0   \n",
       "\n",
       "       vitamin_d_d2_d3_international_units_unit  zinc_per_hundred zinc_unit  \n",
       "52901                                        IU              2.73        mg  \n",
       "\n",
       "[1 rows x 100 columns]"
      ]
     },
     "execution_count": 32,
     "metadata": {},
     "output_type": "execute_result"
    }
   ],
   "source": [
    "df[df['ingredients_en'].str.contains('e415')]"
   ]
  },
  {
   "cell_type": "markdown",
   "id": "9926fce4-a3d1-40c8-ae47-863e803196d6",
   "metadata": {},
   "source": [
    "New let's look for every additives that matches."
   ]
  },
  {
   "cell_type": "code",
   "execution_count": 33,
   "id": "38dd9e96-68a5-4d75-abc0-0fe06a7366d0",
   "metadata": {},
   "outputs": [
    {
     "data": {
      "text/plain": [
       "(4080, 100)"
      ]
     },
     "execution_count": 33,
     "metadata": {},
     "output_type": "execute_result"
    }
   ],
   "source": [
    "df[df['ingredients_en'].str.contains('e{1}\\s?\\d+a?')].shape"
   ]
  },
  {
   "cell_type": "code",
   "execution_count": 34,
   "id": "59c6bbe8-778f-4f8d-8c2b-c2d79de19d8c",
   "metadata": {},
   "outputs": [
    {
     "data": {
      "text/plain": [
       "374884"
      ]
     },
     "execution_count": 34,
     "metadata": {},
     "output_type": "execute_result"
    }
   ],
   "source": [
    "df['ingredients_en'].shape[0]"
   ]
  },
  {
   "cell_type": "markdown",
   "id": "0f5f2790-60a8-4350-890e-f84d0b505011",
   "metadata": {},
   "source": [
    "We can see that we have 4080 rows with additives inside."
   ]
  },
  {
   "cell_type": "markdown",
   "id": "e673c7ef-7ead-4b31-8b2d-21a7d2a0018b",
   "metadata": {},
   "source": [
    "We now will find ever additivs of the dataframe."
   ]
  },
  {
   "cell_type": "code",
   "execution_count": 35,
   "id": "19ace9dc-9a90-43d0-98e2-20d6a71f0026",
   "metadata": {},
   "outputs": [
    {
     "data": {
      "text/plain": [
       "5020"
      ]
     },
     "execution_count": 35,
     "metadata": {},
     "output_type": "execute_result"
    }
   ],
   "source": [
    "additive_list=[]\n",
    "\n",
    "for i in range (df['ingredients_en'].shape[0]):\n",
    "    additive=re.findall('e{1}\\s?\\d+a?',df['ingredients_en'][i])\n",
    "    additive_list=additive_list+additive\n",
    "len(additive_list)"
   ]
  },
  {
   "cell_type": "code",
   "execution_count": 36,
   "id": "d2c8bb40-e5ef-4029-9fd0-4e2e63f3799d",
   "metadata": {},
   "outputs": [
    {
     "data": {
      "text/plain": [
       "array(['e 99', 'e 0', 'e 2', 'e 25', 'e 9', 'e 4', 'e 51', 'e 42', 'e 33',\n",
       "       'e 7', 'e 17', 'e 15', 'e 3', 'e 1', 'e 13', 'e 71', 'e 39',\n",
       "       'e 21', 'e 10', 'e 19', 'e 35', 'e 96', 'e 75', 'e 72', 'e 43',\n",
       "       'e 6', 'e 30', 'e 27', 'e 22', 'e 28', 'e 70', 'e 34', 'e 45',\n",
       "       'e 20', 'e 5', 'e 40', 'e 37', 'e 41', 'e 32', 'e 48', 'e 49',\n",
       "       'e 24', 'e 11', 'e 79', 'e 23', 'e 16', 'e 12', 'e 47', 'e13',\n",
       "       'e 100', 'e 65', 'e 38', 'e 55', 'e 69', 'e 31', 'e 14', 'e 18',\n",
       "       'e300', 'e 54', 'e2', 'e 8', 'e 50', 'e 80', 'e 59', 'e 60',\n",
       "       'e 52', 'e 26', 'e 68', 'e 95', 'e 89', 'e 36', 'e 61', 'e 78',\n",
       "       'e 67', 'e 262', 'e 53', 'e 63', 'e 200', 'e 450', 'e 93', 'e 90',\n",
       "       'e 237', 'e 165', 'e 215', 'e 185', 'e 197', 'e 220', 'e 204',\n",
       "       'e 196', 'e 250', 'e 240', 'e 255', 'e 150', 'e 190', 'e 62',\n",
       "       'e 57', 'e 74', 'e 235', 'e 260', 'e 140', 'e 135', 'e 64', 'e471',\n",
       "       'e 87', 'e 94', 'e 58', 'e 98', 'e 46', 'e 812', 'e 630', 'e 1050',\n",
       "       'e 88', 'e7', 'e 85', 'e 29', 'e100', 'e 550', 'e0', 'e 73',\n",
       "       'e 56', 'e 86', 'e 160a', 'e330', 'e452', 'e 2888617', 'e 66',\n",
       "       'e 1028141', 'e 31568', 'e 00', 'e 405', 'e333', 'e 83', 'e412',\n",
       "       'e415', 'e450', 'e500', 'e34', 'e 420'], dtype=object)"
      ]
     },
     "execution_count": 36,
     "metadata": {},
     "output_type": "execute_result"
    }
   ],
   "source": [
    "additive_serie=pd.Series(additive_list)\n",
    "additive_serie.unique() # Checking different additives"
   ]
  },
  {
   "cell_type": "markdown",
   "id": "8369a5a3-75f5-4c33-9c4b-040ccef5e313",
   "metadata": {},
   "source": [
    "We now have seen all the different additives of the dataframe. Now let's see what are the most common ones."
   ]
  },
  {
   "cell_type": "code",
   "execution_count": 37,
   "id": "85d76b70-7490-41bc-8f12-73c6a18acb91",
   "metadata": {},
   "outputs": [
    {
     "data": {
      "text/plain": [
       "e 1      919\n",
       "e 0      292\n",
       "e 4      225\n",
       "e 5      210\n",
       "e 2      200\n",
       "e 3      175\n",
       "e 14     165\n",
       "e 20     147\n",
       "e 28     145\n",
       "e 23     127\n",
       "e 405    127\n",
       "e 8      126\n",
       "e 7      122\n",
       "e 13     115\n",
       "e 99      99\n",
       "dtype: int64"
      ]
     },
     "execution_count": 37,
     "metadata": {},
     "output_type": "execute_result"
    }
   ],
   "source": [
    "additive_serie.value_counts().head(15)"
   ]
  },
  {
   "cell_type": "markdown",
   "id": "90d50117-5571-43e4-b324-6a2324ee6f7b",
   "metadata": {},
   "source": [
    "We can clearly see that the e 1 is very use. We will now check if there are countries with more or less risky additives"
   ]
  },
  {
   "cell_type": "code",
   "execution_count": 38,
   "id": "3d3d8e46-c8d4-4211-8134-e7927dfd72f6",
   "metadata": {},
   "outputs": [
    {
     "data": {
      "text/plain": [
       "Additive      0\n",
       "Risk        507\n",
       "dtype: int64"
      ]
     },
     "execution_count": 38,
     "metadata": {},
     "output_type": "execute_result"
    }
   ],
   "source": [
    "risky_data=pd.read_csv('risky_additives.csv') # First look at the data\n",
    "risky_data.isnull().sum()"
   ]
  },
  {
   "cell_type": "code",
   "execution_count": 39,
   "id": "227d8b8b-a8f7-4159-a1ad-b58fbd178f15",
   "metadata": {},
   "outputs": [
    {
     "data": {
      "text/plain": [
       "(573, 2)"
      ]
     },
     "execution_count": 39,
     "metadata": {},
     "output_type": "execute_result"
    }
   ],
   "source": [
    "risky_data.shape # Check the shape"
   ]
  },
  {
   "cell_type": "markdown",
   "id": "65057f19-3b68-4e1b-8398-cbb4ab6d5457",
   "metadata": {},
   "source": [
    "We can see that there are null values, which give us no information, we therefore will drop them"
   ]
  },
  {
   "cell_type": "code",
   "execution_count": 40,
   "id": "a7a6296a-ea40-4a5d-8450-512edaf16af7",
   "metadata": {},
   "outputs": [
    {
     "data": {
      "text/html": [
       "<div>\n",
       "<style scoped>\n",
       "    .dataframe tbody tr th:only-of-type {\n",
       "        vertical-align: middle;\n",
       "    }\n",
       "\n",
       "    .dataframe tbody tr th {\n",
       "        vertical-align: top;\n",
       "    }\n",
       "\n",
       "    .dataframe thead th {\n",
       "        text-align: right;\n",
       "    }\n",
       "</style>\n",
       "<table border=\"1\" class=\"dataframe\">\n",
       "  <thead>\n",
       "    <tr style=\"text-align: right;\">\n",
       "      <th></th>\n",
       "      <th>Additive</th>\n",
       "      <th>Risk</th>\n",
       "    </tr>\n",
       "  </thead>\n",
       "  <tbody>\n",
       "    <tr>\n",
       "      <th>8</th>\n",
       "      <td>E202 - Potassium sorbate</td>\n",
       "      <td>High risk of over exposure</td>\n",
       "    </tr>\n",
       "    <tr>\n",
       "      <th>9</th>\n",
       "      <td>E450 - Diphosphates</td>\n",
       "      <td>High risk of over exposure</td>\n",
       "    </tr>\n",
       "    <tr>\n",
       "      <th>10</th>\n",
       "      <td>E407 - Carrageenan</td>\n",
       "      <td>High risk of over exposure</td>\n",
       "    </tr>\n",
       "    <tr>\n",
       "      <th>12</th>\n",
       "      <td>E250 - Sodium nitrite</td>\n",
       "      <td>High risk of over exposure</td>\n",
       "    </tr>\n",
       "    <tr>\n",
       "      <th>13</th>\n",
       "      <td>E129 - Allura red ac</td>\n",
       "      <td>No or very low risk of over exposure</td>\n",
       "    </tr>\n",
       "    <tr>\n",
       "      <th>...</th>\n",
       "      <td>...</td>\n",
       "      <td>...</td>\n",
       "    </tr>\n",
       "    <tr>\n",
       "      <th>481</th>\n",
       "      <td>E493 - Sorbitan monolaurate</td>\n",
       "      <td>High risk of over exposure</td>\n",
       "    </tr>\n",
       "    <tr>\n",
       "      <th>510</th>\n",
       "      <td>E213 - Calcium benzoate</td>\n",
       "      <td>High risk of over exposure</td>\n",
       "    </tr>\n",
       "    <tr>\n",
       "      <th>532</th>\n",
       "      <td>E434 - Polyoxyethylene sorbitan monopalmitate</td>\n",
       "      <td>Moderate risk of over exposure</td>\n",
       "    </tr>\n",
       "    <tr>\n",
       "      <th>545</th>\n",
       "      <td>E227 - Calcium bisulphite</td>\n",
       "      <td>High risk of over exposure</td>\n",
       "    </tr>\n",
       "    <tr>\n",
       "      <th>549</th>\n",
       "      <td>E495 - Sorbitan monopalmitate</td>\n",
       "      <td>High risk of over exposure</td>\n",
       "    </tr>\n",
       "  </tbody>\n",
       "</table>\n",
       "<p>66 rows × 2 columns</p>\n",
       "</div>"
      ],
      "text/plain": [
       "                                          Additive  \\\n",
       "8                         E202 - Potassium sorbate   \n",
       "9                              E450 - Diphosphates   \n",
       "10                              E407 - Carrageenan   \n",
       "12                           E250 - Sodium nitrite   \n",
       "13                            E129 - Allura red ac   \n",
       "..                                             ...   \n",
       "481                    E493 - Sorbitan monolaurate   \n",
       "510                        E213 - Calcium benzoate   \n",
       "532  E434 - Polyoxyethylene sorbitan monopalmitate   \n",
       "545                      E227 - Calcium bisulphite   \n",
       "549                  E495 - Sorbitan monopalmitate   \n",
       "\n",
       "                                     Risk  \n",
       "8              High risk of over exposure  \n",
       "9              High risk of over exposure  \n",
       "10             High risk of over exposure  \n",
       "12             High risk of over exposure  \n",
       "13   No or very low risk of over exposure  \n",
       "..                                    ...  \n",
       "481            High risk of over exposure  \n",
       "510            High risk of over exposure  \n",
       "532        Moderate risk of over exposure  \n",
       "545            High risk of over exposure  \n",
       "549            High risk of over exposure  \n",
       "\n",
       "[66 rows x 2 columns]"
      ]
     },
     "execution_count": 40,
     "metadata": {},
     "output_type": "execute_result"
    }
   ],
   "source": [
    "risky_data.dropna(inplace=True)\n",
    "risky_data"
   ]
  },
  {
   "cell_type": "code",
   "execution_count": 41,
   "id": "39d77afa-24cd-42a8-8cc3-61c9a5313aeb",
   "metadata": {},
   "outputs": [
    {
     "data": {
      "text/plain": [
       "(66, 2)"
      ]
     },
     "execution_count": 41,
     "metadata": {},
     "output_type": "execute_result"
    }
   ],
   "source": [
    "risky_data.shape"
   ]
  },
  {
   "cell_type": "markdown",
   "id": "25073e38-5ab3-4bed-89a5-c9086527aaf8",
   "metadata": {},
   "source": [
    "The new shape is really diferent as we drop about 500 rows on 573."
   ]
  },
  {
   "cell_type": "markdown",
   "id": "c45fcb5e-85ad-45bb-b795-45d80eb330e3",
   "metadata": {},
   "source": [
    "After taking a look at the 'risk' column, we will check the different level of risk."
   ]
  },
  {
   "cell_type": "code",
   "execution_count": 42,
   "id": "5058bc26-06ba-4670-91b7-7c73041ac793",
   "metadata": {},
   "outputs": [
    {
     "data": {
      "text/plain": [
       "array(['High risk of over exposure',\n",
       "       'No or very low risk of over exposure',\n",
       "       'Moderate risk of over exposure'], dtype=object)"
      ]
     },
     "execution_count": 42,
     "metadata": {},
     "output_type": "execute_result"
    }
   ],
   "source": [
    "unique=risky_data['Risk'].unique()\n",
    "unique"
   ]
  },
  {
   "cell_type": "markdown",
   "id": "327db819-3a26-4f5a-9a05-c841ae2656d4",
   "metadata": {},
   "source": [
    "So we have three different levels of risk, as you can see above. In order to do estimation about many additives, let's change thise into grades out of ten: the bigger the grade is, the more riskt the additive is."
   ]
  },
  {
   "cell_type": "code",
   "execution_count": 43,
   "id": "0bd2ad3c-17e6-4fcd-b868-ba8cb1fce338",
   "metadata": {},
   "outputs": [
    {
     "data": {
      "text/html": [
       "<div>\n",
       "<style scoped>\n",
       "    .dataframe tbody tr th:only-of-type {\n",
       "        vertical-align: middle;\n",
       "    }\n",
       "\n",
       "    .dataframe tbody tr th {\n",
       "        vertical-align: top;\n",
       "    }\n",
       "\n",
       "    .dataframe thead th {\n",
       "        text-align: right;\n",
       "    }\n",
       "</style>\n",
       "<table border=\"1\" class=\"dataframe\">\n",
       "  <thead>\n",
       "    <tr style=\"text-align: right;\">\n",
       "      <th></th>\n",
       "      <th>Additive</th>\n",
       "      <th>Risk</th>\n",
       "    </tr>\n",
       "  </thead>\n",
       "  <tbody>\n",
       "    <tr>\n",
       "      <th>8</th>\n",
       "      <td>E202 - Potassium sorbate</td>\n",
       "      <td>9</td>\n",
       "    </tr>\n",
       "    <tr>\n",
       "      <th>9</th>\n",
       "      <td>E450 - Diphosphates</td>\n",
       "      <td>9</td>\n",
       "    </tr>\n",
       "    <tr>\n",
       "      <th>10</th>\n",
       "      <td>E407 - Carrageenan</td>\n",
       "      <td>9</td>\n",
       "    </tr>\n",
       "    <tr>\n",
       "      <th>12</th>\n",
       "      <td>E250 - Sodium nitrite</td>\n",
       "      <td>9</td>\n",
       "    </tr>\n",
       "    <tr>\n",
       "      <th>13</th>\n",
       "      <td>E129 - Allura red ac</td>\n",
       "      <td>1</td>\n",
       "    </tr>\n",
       "    <tr>\n",
       "      <th>18</th>\n",
       "      <td>E150c - Ammonia caramel</td>\n",
       "      <td>5</td>\n",
       "    </tr>\n",
       "    <tr>\n",
       "      <th>21</th>\n",
       "      <td>E133 - Brilliant blue FCF</td>\n",
       "      <td>5</td>\n",
       "    </tr>\n",
       "    <tr>\n",
       "      <th>22</th>\n",
       "      <td>E341 - Calcium phosphates</td>\n",
       "      <td>9</td>\n",
       "    </tr>\n",
       "    <tr>\n",
       "      <th>23</th>\n",
       "      <td>E211 - Sodium benzoate</td>\n",
       "      <td>9</td>\n",
       "    </tr>\n",
       "    <tr>\n",
       "      <th>30</th>\n",
       "      <td>E621 - Monosodium glutamate</td>\n",
       "      <td>9</td>\n",
       "    </tr>\n",
       "    <tr>\n",
       "      <th>37</th>\n",
       "      <td>E316 - Sodium erythorbate</td>\n",
       "      <td>1</td>\n",
       "    </tr>\n",
       "    <tr>\n",
       "      <th>46</th>\n",
       "      <td>E200 - Sorbic acid</td>\n",
       "      <td>9</td>\n",
       "    </tr>\n",
       "    <tr>\n",
       "      <th>47</th>\n",
       "      <td>E452 - Polyphosphates</td>\n",
       "      <td>9</td>\n",
       "    </tr>\n",
       "    <tr>\n",
       "      <th>49</th>\n",
       "      <td>E481 - Sodium stearoyl-2-lactylate</td>\n",
       "      <td>9</td>\n",
       "    </tr>\n",
       "    <tr>\n",
       "      <th>58</th>\n",
       "      <td>E340 - Potassium phosphates</td>\n",
       "      <td>9</td>\n",
       "    </tr>\n",
       "  </tbody>\n",
       "</table>\n",
       "</div>"
      ],
      "text/plain": [
       "                              Additive  Risk\n",
       "8             E202 - Potassium sorbate     9\n",
       "9                  E450 - Diphosphates     9\n",
       "10                  E407 - Carrageenan     9\n",
       "12               E250 - Sodium nitrite     9\n",
       "13                E129 - Allura red ac     1\n",
       "18             E150c - Ammonia caramel     5\n",
       "21           E133 - Brilliant blue FCF     5\n",
       "22           E341 - Calcium phosphates     9\n",
       "23              E211 - Sodium benzoate     9\n",
       "30         E621 - Monosodium glutamate     9\n",
       "37           E316 - Sodium erythorbate     1\n",
       "46                  E200 - Sorbic acid     9\n",
       "47               E452 - Polyphosphates     9\n",
       "49  E481 - Sodium stearoyl-2-lactylate     9\n",
       "58         E340 - Potassium phosphates     9"
      ]
     },
     "execution_count": 43,
     "metadata": {},
     "output_type": "execute_result"
    }
   ],
   "source": [
    "risky_data.replace(unique[0], 9, inplace=True)\n",
    "risky_data.replace(unique[1], 1, inplace=True)\n",
    "risky_data.replace(unique[2], 5, inplace=True)\n",
    "risky_data.head(15)"
   ]
  },
  {
   "cell_type": "code",
   "execution_count": 44,
   "id": "ea67f698-1fa1-4da5-acdb-46bff17095c1",
   "metadata": {},
   "outputs": [
    {
     "data": {
      "text/html": [
       "<div>\n",
       "<style scoped>\n",
       "    .dataframe tbody tr th:only-of-type {\n",
       "        vertical-align: middle;\n",
       "    }\n",
       "\n",
       "    .dataframe tbody tr th {\n",
       "        vertical-align: top;\n",
       "    }\n",
       "\n",
       "    .dataframe thead th {\n",
       "        text-align: right;\n",
       "    }\n",
       "</style>\n",
       "<table border=\"1\" class=\"dataframe\">\n",
       "  <thead>\n",
       "    <tr style=\"text-align: right;\">\n",
       "      <th></th>\n",
       "      <th>Additive</th>\n",
       "      <th>Risk</th>\n",
       "    </tr>\n",
       "  </thead>\n",
       "  <tbody>\n",
       "    <tr>\n",
       "      <th>8</th>\n",
       "      <td>E202 - Potassium sorbate</td>\n",
       "      <td>9</td>\n",
       "    </tr>\n",
       "    <tr>\n",
       "      <th>9</th>\n",
       "      <td>E450 - Diphosphates</td>\n",
       "      <td>9</td>\n",
       "    </tr>\n",
       "    <tr>\n",
       "      <th>10</th>\n",
       "      <td>E407 - Carrageenan</td>\n",
       "      <td>9</td>\n",
       "    </tr>\n",
       "    <tr>\n",
       "      <th>12</th>\n",
       "      <td>E250 - Sodium nitrite</td>\n",
       "      <td>9</td>\n",
       "    </tr>\n",
       "    <tr>\n",
       "      <th>13</th>\n",
       "      <td>E129 - Allura red ac</td>\n",
       "      <td>1</td>\n",
       "    </tr>\n",
       "    <tr>\n",
       "      <th>18</th>\n",
       "      <td>E150c - Ammonia caramel</td>\n",
       "      <td>5</td>\n",
       "    </tr>\n",
       "    <tr>\n",
       "      <th>21</th>\n",
       "      <td>E133 - Brilliant blue FCF</td>\n",
       "      <td>5</td>\n",
       "    </tr>\n",
       "    <tr>\n",
       "      <th>22</th>\n",
       "      <td>E341 - Calcium phosphates</td>\n",
       "      <td>9</td>\n",
       "    </tr>\n",
       "    <tr>\n",
       "      <th>23</th>\n",
       "      <td>E211 - Sodium benzoate</td>\n",
       "      <td>9</td>\n",
       "    </tr>\n",
       "    <tr>\n",
       "      <th>30</th>\n",
       "      <td>E621 - Monosodium glutamate</td>\n",
       "      <td>9</td>\n",
       "    </tr>\n",
       "  </tbody>\n",
       "</table>\n",
       "</div>"
      ],
      "text/plain": [
       "                       Additive  Risk\n",
       "8      E202 - Potassium sorbate     9\n",
       "9           E450 - Diphosphates     9\n",
       "10           E407 - Carrageenan     9\n",
       "12        E250 - Sodium nitrite     9\n",
       "13         E129 - Allura red ac     1\n",
       "18      E150c - Ammonia caramel     5\n",
       "21    E133 - Brilliant blue FCF     5\n",
       "22    E341 - Calcium phosphates     9\n",
       "23       E211 - Sodium benzoate     9\n",
       "30  E621 - Monosodium glutamate     9"
      ]
     },
     "execution_count": 44,
     "metadata": {},
     "output_type": "execute_result"
    }
   ],
   "source": [
    "risky_data.head(10) # Taking a look at the new DataFrame"
   ]
  },
  {
   "cell_type": "markdown",
   "id": "86d1d458-4935-46ae-8369-b0803612ede7",
   "metadata": {},
   "source": [
    "Let's now create some lists with all the additives of a country inside them"
   ]
  },
  {
   "cell_type": "code",
   "execution_count": 45,
   "id": "1c4199ed-a72f-4abe-bb97-37d01c72bc53",
   "metadata": {},
   "outputs": [
    {
     "data": {
      "text/plain": [
       "country\n",
       "AT         1\n",
       "CH     33117\n",
       "DE     10639\n",
       "FR       118\n",
       "IT      2719\n",
       "UK         1\n",
       "US    328289\n",
       "dtype: int64"
      ]
     },
     "execution_count": 45,
     "metadata": {},
     "output_type": "execute_result"
    }
   ],
   "source": [
    "df.groupby('country').size() # Number of product per countries"
   ]
  },
  {
   "cell_type": "code",
   "execution_count": 46,
   "id": "68d61109-9ff1-4243-910e-ca225b403fce",
   "metadata": {},
   "outputs": [
    {
     "name": "stderr",
     "output_type": "stream",
     "text": [
      "/var/folders/mk/q507z2ts3294t2g0662rr7100000gn/T/ipykernel_40045/1567606780.py:10: DeprecationWarning: The default dtype for empty Series will be 'object' instead of 'float64' in a future version. Specify a dtype explicitly to silence this warning.\n",
      "  additif_liste=pd.Series(additif_liste)\n"
     ]
    }
   ],
   "source": [
    "additif_par_country=[]\n",
    "\n",
    "for countries in country_list:\n",
    "    df_per_country=df.groupby('country').get_group(countries).reset_index()\n",
    "    additif_liste=[]\n",
    "    \n",
    "    for i in range (df_per_country['ingredients_en'].shape[0]):\n",
    "        additives=re.findall('e{1}\\s?\\d+a?',df_per_country['ingredients_en'][i])\n",
    "        additif_liste=additif_liste+additives\n",
    "        additif_liste=pd.Series(additif_liste)\n",
    "        additif_liste=additif_liste.astype(str).str.replace(' ','')\n",
    "        additif_liste=additif_liste.str.upper()\n",
    "        additif_liste=additif_liste.tolist()\n",
    "    \n",
    "    additif_par_country.append(additif_liste)"
   ]
  },
  {
   "cell_type": "markdown",
   "id": "afc1d976-f8f1-4dd1-bfc7-22d5ba003b16",
   "metadata": {},
   "source": [
    "We now have a list containing 7 lists of every additives of the seven differents coountries"
   ]
  },
  {
   "cell_type": "markdown",
   "id": "6d987652-7af9-42eb-a90b-2ceb76d8f04c",
   "metadata": {},
   "source": [
    "As you can see above, Austria and UK just have one product. Therefore, we will not consider them for our analysis."
   ]
  },
  {
   "cell_type": "code",
   "execution_count": 47,
   "id": "ac045c5b-7e6e-4a34-b2bf-4455d521419c",
   "metadata": {},
   "outputs": [],
   "source": [
    "del(additif_par_country[4:6]) # Deleting UK and AT"
   ]
  },
  {
   "cell_type": "code",
   "execution_count": 48,
   "id": "a4cb93ff-8174-4b2b-a8bf-544fb637e1f3",
   "metadata": {},
   "outputs": [
    {
     "name": "stderr",
     "output_type": "stream",
     "text": [
      "/var/folders/mk/q507z2ts3294t2g0662rr7100000gn/T/ipykernel_40045/2285822140.py:2: FutureWarning: The default value of regex will change from True to False in a future version.\n",
      "  risky_df=risky_data['Additive'].str.replace('[^E0-9]','')\n"
     ]
    },
    {
     "data": {
      "text/plain": [
       "8      E202\n",
       "9      E450\n",
       "10     E407\n",
       "12     E250\n",
       "13     E129\n",
       "       ... \n",
       "481    E493\n",
       "510    E213\n",
       "532    E434\n",
       "545    E227\n",
       "549    E495\n",
       "Name: Additive, Length: 66, dtype: object"
      ]
     },
     "execution_count": 48,
     "metadata": {},
     "output_type": "execute_result"
    }
   ],
   "source": [
    "risky_df=risky_data['Additive'].str.replace('-','')\n",
    "risky_df=risky_data['Additive'].str.replace('[^E0-9]','')\n",
    "risky_df"
   ]
  },
  {
   "cell_type": "code",
   "execution_count": 49,
   "id": "06705474-cb1f-4705-9d4c-37152d3edacf",
   "metadata": {},
   "outputs": [],
   "source": [
    "dictionnaire=dict(zip(risky_df, risky_data['Risk']))"
   ]
  },
  {
   "cell_type": "code",
   "execution_count": 50,
   "id": "8f78d501-ed30-4050-a2a3-912381104b3a",
   "metadata": {},
   "outputs": [],
   "source": [
    "mean_list=[]\n",
    "\n",
    "for i in range(len(additif_par_country)):\n",
    "    mean_list+=pd.Series([*map(dictionnaire.get, additif_par_country[i])]).dropna().mean()"
   ]
  },
  {
   "cell_type": "code",
   "execution_count": 51,
   "id": "ec96ab2b-4a7c-4b99-9fa4-a4de105f72f8",
   "metadata": {},
   "outputs": [
    {
     "data": {
      "text/plain": [
       "array([], dtype=float64)"
      ]
     },
     "execution_count": 51,
     "metadata": {},
     "output_type": "execute_result"
    }
   ],
   "source": [
    "mean_list"
   ]
  },
  {
   "cell_type": "code",
   "execution_count": 52,
   "id": "cb2a09b8-a4ad-4aea-ac3d-1aee27a74cb5",
   "metadata": {},
   "outputs": [],
   "source": [
    "CH=pd.Series([*map(dictionnaire.get, additif_par_country[0])]).dropna().mean()\n",
    "FR=pd.Series([*map(dictionnaire.get, additif_par_country[1])]).dropna().mean()\n",
    "IT=pd.Series([*map(dictionnaire.get, additif_par_country[2])]).dropna().mean()\n",
    "DE=pd.Series([*map(dictionnaire.get, additif_par_country[3])]).dropna().mean()\n",
    "US=pd.Series([*map(dictionnaire.get, additif_par_country[4])]).dropna().mean()"
   ]
  },
  {
   "cell_type": "markdown",
   "id": "31149cca-3760-426e-a0da-238b848a4d09",
   "metadata": {},
   "source": [
    "Now let's create a dataframe holding all the 'risk grades' of each country."
   ]
  },
  {
   "cell_type": "code",
   "execution_count": 53,
   "id": "25835ffc-6afa-49b3-9996-e9fe0a28ee44",
   "metadata": {},
   "outputs": [
    {
     "data": {
      "text/html": [
       "<div>\n",
       "<style scoped>\n",
       "    .dataframe tbody tr th:only-of-type {\n",
       "        vertical-align: middle;\n",
       "    }\n",
       "\n",
       "    .dataframe tbody tr th {\n",
       "        vertical-align: top;\n",
       "    }\n",
       "\n",
       "    .dataframe thead th {\n",
       "        text-align: right;\n",
       "    }\n",
       "</style>\n",
       "<table border=\"1\" class=\"dataframe\">\n",
       "  <thead>\n",
       "    <tr style=\"text-align: right;\">\n",
       "      <th></th>\n",
       "      <th>0</th>\n",
       "    </tr>\n",
       "  </thead>\n",
       "  <tbody>\n",
       "    <tr>\n",
       "      <th>CH</th>\n",
       "      <td>8.811765</td>\n",
       "    </tr>\n",
       "    <tr>\n",
       "      <th>FR</th>\n",
       "      <td>NaN</td>\n",
       "    </tr>\n",
       "    <tr>\n",
       "      <th>IT</th>\n",
       "      <td>NaN</td>\n",
       "    </tr>\n",
       "    <tr>\n",
       "      <th>DE</th>\n",
       "      <td>NaN</td>\n",
       "    </tr>\n",
       "    <tr>\n",
       "      <th>US</th>\n",
       "      <td>9.000000</td>\n",
       "    </tr>\n",
       "  </tbody>\n",
       "</table>\n",
       "</div>"
      ],
      "text/plain": [
       "           0\n",
       "CH  8.811765\n",
       "FR       NaN\n",
       "IT       NaN\n",
       "DE       NaN\n",
       "US  9.000000"
      ]
     },
     "execution_count": 53,
     "metadata": {},
     "output_type": "execute_result"
    }
   ],
   "source": [
    "grades=[[CH],[FR],[IT],[DE],[US]]\n",
    "del(country_list[4:6])\n",
    "pd.DataFrame(grades, index=country_list)"
   ]
  },
  {
   "cell_type": "markdown",
   "id": "e5a1204f-ba26-4ea0-8501-d672e3e1dbe2",
   "metadata": {},
   "source": [
    "As we can see, the risky additives csv doesn't provide us enough information."
   ]
  },
  {
   "cell_type": "markdown",
   "id": "465af33c-0f6b-47b9-9309-dd361634bbab",
   "metadata": {},
   "source": [
    "D: Text Data"
   ]
  },
  {
   "cell_type": "markdown",
   "id": "fc617a2b-0889-410e-b32d-2fd01106d641",
   "metadata": {},
   "source": [
    "In this part, we will again focus on the ingredient column. Let's see what an ingredients lisyt look like.\n"
   ]
  },
  {
   "cell_type": "code",
   "execution_count": 54,
   "id": "26c93300-23aa-4de0-a069-cc2dc39c7695",
   "metadata": {},
   "outputs": [
    {
     "data": {
      "text/plain": [
       "369201    CHICKPEA TORTILLA CHIPS (CHICKPEAS, TAPIOCA FL...\n",
       "Name: ingredients_en, dtype: object"
      ]
     },
     "execution_count": 54,
     "metadata": {},
     "output_type": "execute_result"
    }
   ],
   "source": [
    "df['ingredients_en'].sample()"
   ]
  },
  {
   "cell_type": "markdown",
   "id": "62833b4d-207a-481e-a40d-001108659d1e",
   "metadata": {},
   "source": [
    "At the first look we can see that the ingredients are all separated by a comma"
   ]
  },
  {
   "cell_type": "markdown",
   "id": "8fa510c7-2cc1-49fc-8c64-7d0be57983da",
   "metadata": {},
   "source": [
    "First, let's look for the product has the longest ingredients list"
   ]
  },
  {
   "cell_type": "code",
   "execution_count": 55,
   "id": "c0e2aa8c-ecb5-4d6f-909f-f70fdb601c4b",
   "metadata": {},
   "outputs": [
    {
     "data": {
      "text/plain": [
       "350670    188\n",
       "Name: ingredients_en, dtype: int64"
      ]
     },
     "execution_count": 55,
     "metadata": {},
     "output_type": "execute_result"
    }
   ],
   "source": [
    "df['ingredients_en'].apply(lambda x: len(x.split(','))).sort_values(ascending=False).head(1)"
   ]
  },
  {
   "cell_type": "markdown",
   "id": "32677afd-86fc-42c1-8108-e2ee1e230f14",
   "metadata": {},
   "source": [
    "We can see that it is the product at the index 51629, with 536 words in the list. Let's discover which porduct it is."
   ]
  },
  {
   "cell_type": "code",
   "execution_count": 56,
   "id": "9deb2c6f-e992-4d6e-801c-dd7c77030e21",
   "metadata": {},
   "outputs": [
    {
     "data": {
      "text/plain": [
       "['Arcoiris: Enriched Flour (Wheat Flour',\n",
       " ' Niacinamide',\n",
       " ' Ferrous Fumarate',\n",
       " ' Thiamin Mononitrate',\n",
       " ' Riboflavin',\n",
       " ' Folic Acid)',\n",
       " ' Sugar',\n",
       " ' High Fructose Corn Syrup',\n",
       " ' Corn Syrup',\n",
       " ' Vegetable Oil Blend (Palm Oil',\n",
       " ' Sunflower Oil and/or Canola Oil and/or Soybean Oil',\n",
       " ' [Contains Ascorbyl Palmitate',\n",
       " ' Tocopherols and TBHQ as Preservatives])',\n",
       " ' Coconut (with Sodium Metabisulfite [Preservative])',\n",
       " ' Corn Starch',\n",
       " ' Contains 2% or Less of: Gelatin',\n",
       " ' Soy Flour',\n",
       " ' Salt',\n",
       " ' Leavening Agents (Sodium Bicarbonate',\n",
       " ' Ammonium Bicarbonate',\n",
       " ' Aluminum Sodium Sulfate)',\n",
       " ' Artificial Flavor',\n",
       " ' Soy Lecithin',\n",
       " ' Propylene Glycol Monostearate',\n",
       " ' FD&C Red 3',\n",
       " ' FD&C Red 40',\n",
       " ' FD&C Yellow 5',\n",
       " ' FD&C Yellow 6',\n",
       " ' FD&C Blue 1',\n",
       " ' Glyceryl Monostearate',\n",
       " ' Hydrolyzed Soy Protein',\n",
       " ' Sodium Stearoyl Lactylate',\n",
       " ' Calcium Sulfate',\n",
       " ' Zinc Oxide',\n",
       " ' Sodium Hexametaphosphate',\n",
       " ' Caramel Color. CONTAINS WHEAT',\n",
       " ' COCONUT',\n",
       " ' AND SOY INGREDIENTS. MAY CONTAIN TRACES OF MILK',\n",
       " ' EGG',\n",
       " ' PEANUTS AND TREE NUTS. Emperador Chocolate: Enriched Flour (Wheat Flour',\n",
       " ' Niacinamide',\n",
       " ' Ferrous Fumarate',\n",
       " ' Thiamin Mononitrate',\n",
       " ' Riboflavin',\n",
       " ' Folic Acid)',\n",
       " ' Sugar',\n",
       " ' Vegetable Oil Blend (Palm Oil',\n",
       " ' Sunflower Oil and/or Canola Oil and/or Soybean Oil',\n",
       " ' [Contains Ascorbyl Palmitate',\n",
       " ' Tocopherols and TBHQ as Preservatives])',\n",
       " ' Hydrogenated Palm Oil (with TBHQ [Preservative])',\n",
       " ' Cocoa',\n",
       " ' Contains 2% or Less of: Cocoa Processed with Alkali',\n",
       " ' High Fructose Corn Syrup',\n",
       " ' Milk',\n",
       " ' Corn Starch',\n",
       " ' Salt',\n",
       " ' Leavening Agents (Sodium Bicarbonate',\n",
       " ' Ammonium Bicarbonate',\n",
       " ' Aluminum Sodium Sulfate)',\n",
       " ' Eggs',\n",
       " ' Sodium Stearoyl Lactylate',\n",
       " ' Soy Lecithin',\n",
       " ' Natural and Artificial Flavor',\n",
       " ' FD&C Yellow 6',\n",
       " ' FD&C Red 40',\n",
       " ' Zinc Oxide',\n",
       " ' FD&C Yellow 5',\n",
       " ' FD&C Blue 1',\n",
       " ' Caramel Color. CONTAINS WHEAT',\n",
       " ' COCONUT',\n",
       " ' AND SOY INGREDIENTS. MAY CONTAIN TRACES OF MILK',\n",
       " ' EGG',\n",
       " ' PEANUTS AND TREE NUTS. Emperador Combinado: Enriched Flour (Wheat Flour',\n",
       " ' Niacinamide',\n",
       " ' Ferrous Fumarate',\n",
       " ' Thiamin Mononitrate',\n",
       " ' Riboflavin',\n",
       " ' Folic Acid)',\n",
       " ' Sugar',\n",
       " ' Vegetable Oil Blend (Palm Oil',\n",
       " ' Sunflower Oil and/or Canola Oil and/or Soybean Oil',\n",
       " ' [Contains Ascorbyl Palmitate',\n",
       " ' Tocopherols and TBHQ as Preservatives])',\n",
       " ' Hydrogenated Palm Oil (with TBHQ [Preservative])',\n",
       " ' High Fructose Corn Syrup',\n",
       " ' Contains 2% or Less of: Milk',\n",
       " ' Cocoa Processed with Alkali',\n",
       " ' Salt',\n",
       " ' Corn Starch',\n",
       " ' Leavening Agents (Sodium Bicarbonate',\n",
       " ' Ammonium Bicarbonate',\n",
       " ' Aluminum Sodium Sulfate]',\n",
       " ' Eggs',\n",
       " ' Soy Lecithin',\n",
       " ' Sodium Stearoyl Lactylate',\n",
       " ' Titanium Dioxide',\n",
       " ' Natural and Artificial Flavor',\n",
       " ' Citric Acid',\n",
       " ' FD&C Yellow 6',\n",
       " ' Zinc Oxide',\n",
       " ' FD&C Red 40',\n",
       " ' FD&C Yellow 5',\n",
       " ' FD&C Blue 1',\n",
       " ' Propylene Glycol',\n",
       " ' Polyglycerol Esters of Fatty Acids',\n",
       " ' FD&C Blue 1 Aluminum Lake',\n",
       " ' Caramel Color',\n",
       " ' Monosodium Glutamate. CONTAINS WHEAT',\n",
       " ' COCONUT',\n",
       " ' AND SOY INGREDIENTS. MAY CONTAIN TRACES OF MILK',\n",
       " ' EGG',\n",
       " ' PEANUTS AND TREE NUTS. Emperador Piruetas: Enriched Flour (Wheat Flour',\n",
       " ' Niacinamide',\n",
       " ' Ferrous Fumarate',\n",
       " ' Thiamin Mononitrate',\n",
       " ' Riboflavin',\n",
       " ' Folic Acid)',\n",
       " ' Sugar',\n",
       " ' Hydrogenated Palm Oil (with TBHQ [Preservative])',\n",
       " ' Vegetable Oil Blend (Palm Oil',\n",
       " ' Sunflower Oil and/or Canola Oil and/or Soybean Oil',\n",
       " ' [Contains Ascorbyl Palmitate',\n",
       " ' Tocopherols and TBHQ as Preservatives])',\n",
       " ' High Fructose Corn Syrup',\n",
       " ' Contains 2% or Less of: Leavening Agents (Sodium Bicarbonate',\n",
       " ' Ammonium Bicarbonate',\n",
       " ' Aluminum Sodium Sulfate)',\n",
       " ' Corn Starch',\n",
       " ' Salt',\n",
       " ' Artificial Flavor',\n",
       " ' Soy Lecithin',\n",
       " ' Citric Acid',\n",
       " ' Propylene Glycol Monostearate',\n",
       " ' Sodium Stearoyl Lactylate',\n",
       " ' Glyceryl Monostearate',\n",
       " ' Yeast',\n",
       " ' FD&C Yellow 5 Aluminum Lake',\n",
       " ' Calcium Sulfate',\n",
       " ' Zinc Oxide',\n",
       " ' Sodium Metabisulfite',\n",
       " ' Enzyme. CONTAINS WHEAT',\n",
       " ' COCONUT',\n",
       " ' AND SOY INGREDIENTS. MAY CONTAIN TRACES OF MILK',\n",
       " ' EGG',\n",
       " ' PEANUTS AND TREE NUTS. Merengue: Enriched Flour (Wheat Flour',\n",
       " ' Niacinamide',\n",
       " ' Ferrous Fumarate',\n",
       " ' Thiamin Mononitrate',\n",
       " ' Riboflavin',\n",
       " ' Folic Acid)',\n",
       " ' Sugar',\n",
       " ' High Fructose Corn Syrup',\n",
       " ' Corn Syrup',\n",
       " ' Vegetable Oil Blend (Palm Oil',\n",
       " ' Sunflower Oil and/or Canola Oil and/or Soybean Oil',\n",
       " ' [Contains Ascorbyl Palmitate',\n",
       " ' Tocopherols and TBHQ as Preservatives])',\n",
       " ' Contains 2% or Less of: Coconut (Contains Sodium Metabisulfite [Preservative])',\n",
       " ' Corn Starch',\n",
       " ' Gelatin',\n",
       " ' Salt',\n",
       " ' Leavening Agents (Sodium Bicarbonate',\n",
       " ' Aluminum Sodium Sulfate',\n",
       " ' Ammonium Bicarbonate)',\n",
       " ' Soy Lecithin',\n",
       " ' Propylene Glycol Monostearate',\n",
       " ' Sodium Metabi']"
      ]
     },
     "execution_count": 56,
     "metadata": {},
     "output_type": "execute_result"
    }
   ],
   "source": [
    "df['ingredients_en'][51629].split(',')"
   ]
  },
  {
   "cell_type": "markdown",
   "id": "49e0691a-4382-4dbe-9025-ae91760f5564",
   "metadata": {},
   "source": [
    "It is the product above, we now look for the shortest list"
   ]
  },
  {
   "cell_type": "code",
   "execution_count": 57,
   "id": "c618af13-967e-4431-ae5d-57678accdc52",
   "metadata": {},
   "outputs": [
    {
     "data": {
      "text/plain": [
       "177018    1\n",
       "122334    1\n",
       "122335    1\n",
       "171207    1\n",
       "171205    1\n",
       "57775     1\n",
       "347213    1\n",
       "366650    1\n",
       "171095    1\n",
       "122432    1\n",
       "366651    1\n",
       "57759     1\n",
       "57709     1\n",
       "57941     1\n",
       "279622    1\n",
       "279643    1\n",
       "366661    1\n",
       "57687     1\n",
       "366667    1\n",
       "366668    1\n",
       "Name: ingredients_en, dtype: int64"
      ]
     },
     "execution_count": 57,
     "metadata": {},
     "output_type": "execute_result"
    }
   ],
   "source": [
    "df['ingredients_en'].apply(lambda x: len(x.split())).sort_values().head(20)"
   ]
  },
  {
   "cell_type": "markdown",
   "id": "682d2aff-8592-4ce7-af05-9f0187233e43",
   "metadata": {},
   "source": [
    "We can see that there are many products with just one word in the ingredients list. Let's find how many we can find"
   ]
  },
  {
   "cell_type": "code",
   "execution_count": 58,
   "id": "927d0b64-c794-4b07-b6ba-b157e516f58a",
   "metadata": {},
   "outputs": [
    {
     "data": {
      "text/plain": [
       "6762"
      ]
     },
     "execution_count": 58,
     "metadata": {},
     "output_type": "execute_result"
    }
   ],
   "source": [
    "len(df['ingredients_en'][df['ingredients_en'].apply(lambda x: len(x.split())).sort_values()==1])"
   ]
  },
  {
   "cell_type": "markdown",
   "id": "f1711648-47a3-474c-8217-9ffb9a275889",
   "metadata": {},
   "source": [
    "There are 6762 product with just on word as a lis of ingredients."
   ]
  },
  {
   "cell_type": "markdown",
   "id": "adb34c64-5054-47ce-8ab5-10b05e37ac65",
   "metadata": {},
   "source": [
    "Now let's find what are the most common ingredients. In order to do this, we must first 'clear' the texts. We'll first need to remove all the words that we call 'stop word in english'. These words are words that give us no information. E.g: the, in..."
   ]
  },
  {
   "cell_type": "code",
   "execution_count": 59,
   "id": "ae0f64da-aea4-4609-a362-f570be7d4c6d",
   "metadata": {},
   "outputs": [],
   "source": [
    "import nltk\n",
    "\n",
    "nltk.download(\"stopwords\", quiet=True)\n",
    "\n",
    "from nltk.corpus import stopwords\n",
    "\n",
    "stopwords_english = stopwords.words(\"english\")"
   ]
  },
  {
   "cell_type": "code",
   "execution_count": 60,
   "id": "5005a060-a700-4a14-9a94-8dcc6c65c90a",
   "metadata": {},
   "outputs": [],
   "source": [
    "def preprocess_text(text):\n",
    "    clean_text = text.lower() # Converting all the word to lowercase\n",
    "    \n",
    "    clean_text = re.sub(r\"[,.()]\",\" \", clean_text) # Replacing ponctuation with whitespace\n",
    "    \n",
    "    clean_text = re.sub(r\"\\s-\\s\",\" \", clean_text) # Replacing hyphens with whitespace\n",
    "    \n",
    "    processed_sample_tokens = [tok for tok in clean_text.split() if tok not in stopwords_english] # Removing stop words\n",
    "    \n",
    "    return processed_sample_tokens"
   ]
  },
  {
   "cell_type": "code",
   "execution_count": 61,
   "id": "5fb8f605-7c58-4f73-a249-26ee1ccdd21c",
   "metadata": {},
   "outputs": [],
   "source": [
    "clean_df=[preprocess_text(text) for text in df['ingredients_en']]"
   ]
  },
  {
   "cell_type": "code",
   "execution_count": 62,
   "id": "7654d10f-bc67-43d4-b484-e9a98b7436f3",
   "metadata": {},
   "outputs": [
    {
     "data": {
      "text/plain": [
       "374884"
      ]
     },
     "execution_count": 62,
     "metadata": {},
     "output_type": "execute_result"
    }
   ],
   "source": [
    "len(clean_df)"
   ]
  },
  {
   "cell_type": "markdown",
   "id": "ca098253-162a-4d32-8345-4b9e0f339dc6",
   "metadata": {},
   "source": [
    "To find the most common ingrediens, we are just going to create a big 'list' of strings holding every ingredients of every product and then look for the most commons ingredients."
   ]
  },
  {
   "cell_type": "code",
   "execution_count": 63,
   "id": "64b6d938-4df0-4310-8a18-fd4f91966174",
   "metadata": {},
   "outputs": [],
   "source": [
    "big_list=[]\n",
    "\n",
    "for i in range (len(clean_df)):\n",
    "    big_list+=clean_df[i]"
   ]
  },
  {
   "cell_type": "code",
   "execution_count": 64,
   "id": "c8bb5469-823f-49ad-9b4a-c3a464258727",
   "metadata": {},
   "outputs": [
    {
     "data": {
      "text/plain": [
       "[('salt', 377566),\n",
       " ('sugar', 279107),\n",
       " ('oil', 263501),\n",
       " ('acid', 251941),\n",
       " ('water', 225417),\n",
       " ('flour', 212333),\n",
       " ('milk', 200384),\n",
       " ('natural', 188974),\n",
       " ('corn', 187268),\n",
       " ('organic', 171473),\n",
       " ('sodium', 164760),\n",
       " ('wheat', 155740),\n",
       " ('flavor', 135394),\n",
       " ('powder', 131201),\n",
       " ('syrup', 120369),\n",
       " ('soy', 113587),\n",
       " ('gum', 111976),\n",
       " ('starch', 109496),\n",
       " ('citric', 102847),\n",
       " ('vitamin', 90338),\n",
       " ('cheese', 90028),\n",
       " ('color', 84676),\n",
       " ('juice', 84597),\n",
       " ('lecithin', 82605),\n",
       " ('cocoa', 78024)]"
      ]
     },
     "execution_count": 64,
     "metadata": {},
     "output_type": "execute_result"
    }
   ],
   "source": [
    "Counter(big_list).most_common(25)"
   ]
  },
  {
   "cell_type": "markdown",
   "id": "347a0f1d-e0a1-421e-b2ae-e0cc0315c0d6",
   "metadata": {},
   "source": [
    "We can now see the 25 most common ingredients. It is pretty much normal that the most common ingredients are sugar, salt, oil..."
   ]
  },
  {
   "cell_type": "markdown",
   "id": "f49a9081-bd0d-40ff-b443-9f46ffb1d47b",
   "metadata": {},
   "source": [
    "E: TIME SERIE DATA"
   ]
  },
  {
   "cell_type": "markdown",
   "id": "9855f9e8-a46b-484c-9a69-b49627266837",
   "metadata": {},
   "source": [
    "Now we'll work on the time series data."
   ]
  },
  {
   "cell_type": "markdown",
   "id": "37811cc4-fb05-4c0d-9f73-625c0a446a43",
   "metadata": {},
   "source": [
    "Let's take a look at the 'created at' column."
   ]
  },
  {
   "cell_type": "code",
   "execution_count": 65,
   "id": "0ba03063-cb3a-4fec-9938-5f0859f83838",
   "metadata": {},
   "outputs": [
    {
     "data": {
      "text/plain": [
       "0         2016-06-01T11:42:22.908Z\n",
       "1         2016-06-01T11:42:25.111Z\n",
       "2         2016-06-01T11:42:25.900Z\n",
       "3         2016-06-01T11:42:26.184Z\n",
       "4         2016-06-01T11:42:26.350Z\n",
       "                    ...           \n",
       "374879    2021-10-04T14:08:42.215Z\n",
       "374880    2021-10-04T14:12:06.476Z\n",
       "374881    2021-10-04T14:22:10.685Z\n",
       "374882    2021-10-04T14:27:36.157Z\n",
       "374883    2021-10-04T16:10:49.085Z\n",
       "Name: created_at, Length: 374884, dtype: object"
      ]
     },
     "execution_count": 65,
     "metadata": {},
     "output_type": "execute_result"
    }
   ],
   "source": [
    "df['created_at']"
   ]
  },
  {
   "cell_type": "markdown",
   "id": "414fd673-0508-4b5e-b810-e6d61fb740d9",
   "metadata": {},
   "source": [
    "We can see that the dtypes is object. Therefore, we are going to change this to date time. "
   ]
  },
  {
   "cell_type": "code",
   "execution_count": 66,
   "id": "8cdec88a-60a6-4970-b948-911d6e6c01a4",
   "metadata": {},
   "outputs": [],
   "source": [
    "date_column=pd.to_datetime(df['created_at'].str.replace('T',' ').str.replace('Z',''))"
   ]
  },
  {
   "cell_type": "code",
   "execution_count": 122,
   "id": "8e973973-d815-4046-9fa4-5185991d83e5",
   "metadata": {},
   "outputs": [
    {
     "data": {
      "text/plain": [
       "0   2016-06-01 11:42:22.908\n",
       "1   2016-06-01 11:42:25.111\n",
       "2   2016-06-01 11:42:25.900\n",
       "3   2016-06-01 11:42:26.184\n",
       "4   2016-06-01 11:42:26.350\n",
       "Name: created_at, dtype: datetime64[ns]"
      ]
     },
     "execution_count": 129,
     "metadata": {},
     "output_type": "execute_result"
    }
   ],
   "source": [
    "date_column.head()"
   ]
  },
  {
   "cell_type": "markdown",
   "id": "4a1af9af-2a6b-4489-a0a3-f4f377bcd5c7",
   "metadata": {},
   "source": [
    "Great! Now that we have transformed this into date time series, let's draw a heatmap that show the number of items created at each month-hour pair."
   ]
  },
  {
   "cell_type": "code",
   "execution_count": 68,
   "id": "5955e554-1e58-4f6f-bc06-2d5c291e7659",
   "metadata": {},
   "outputs": [],
   "source": [
    "def to_hours(dates):\n",
    "    heures=dates.hour\n",
    "    return heures\n",
    "\n",
    "hours=[to_hours(dates) for dates in date_column]"
   ]
  },
  {
   "cell_type": "code",
   "execution_count": 69,
   "id": "73290635-f0f0-4c2c-befe-5c60144a5686",
   "metadata": {},
   "outputs": [],
   "source": [
    "def to_month(dates):\n",
    "    mois=dates.month\n",
    "    return mois\n",
    "\n",
    "month=[to_month(dates) for dates in date_column]"
   ]
  },
  {
   "cell_type": "code",
   "execution_count": 70,
   "id": "4e4593d5-0d62-4573-bdb1-2e8ab6d8b03d",
   "metadata": {},
   "outputs": [],
   "source": [
    "zipped_dates=zip(month,hours)\n",
    "dates_pairs=list(zipped_dates)"
   ]
  },
  {
   "cell_type": "code",
   "execution_count": 71,
   "id": "30889d76-7008-4e56-9800-c608a85ce4b9",
   "metadata": {},
   "outputs": [],
   "source": [
    "zeros=np.zeros((12,24))"
   ]
  },
  {
   "cell_type": "code",
   "execution_count": 72,
   "id": "1d97c513-240a-41d2-a2c7-39e7df0f9e30",
   "metadata": {},
   "outputs": [],
   "source": [
    "for k in range (len(dates_pairs)):\n",
    "    zeros[dates_pairs[k][0]-1,dates_pairs[k][1]-1]+=1"
   ]
  },
  {
   "cell_type": "code",
   "execution_count": 73,
   "id": "080afb3c-fbf5-4845-ab1e-44a7e183ae01",
   "metadata": {},
   "outputs": [
    {
     "data": {
      "image/png": "[encoded data removed]",
      "text/plain": [
       "<Figure size 432x288 with 2 Axes>"
      ]
     },
     "metadata": {
      "needs_background": "light"
     },
     "output_type": "display_data"
    }
   ],
   "source": [
    "sns.heatmap(zeros, norm = LogNorm())\n",
    "plt.show()"
   ]
  },
  {
   "cell_type": "markdown",
   "id": "02e3e353-80d9-4071-8b35-7ac9c23e3cba",
   "metadata": {},
   "source": [
    "We can see that almost every products have been created on april, around 9 a.m."
   ]
  },
  {
   "cell_type": "code",
   "execution_count": 74,
   "id": "5677f3ec-2b0a-4452-a997-2f8ef6e1af0b",
   "metadata": {},
   "outputs": [],
   "source": [
    "def to_period(dates):\n",
    "    periods=pd.Period(dates, freq=\"M\")\n",
    "    return periods\n",
    "\n",
    "period=sorted(pd.Series([to_period(dates) for dates in date_column]).unique())"
   ]
  },
  {
   "cell_type": "code",
   "execution_count": 75,
   "id": "8d1f5745-08bd-4598-a68f-31812698c186",
   "metadata": {},
   "outputs": [
    {
     "data": {
      "text/plain": [
       "array([0., 0., 0., 0., 0., 0., 0., 0., 0., 0., 0., 0., 0., 0., 0., 0., 0.,\n",
       "       0., 0., 0., 0., 0., 0., 0., 0., 0., 0., 0., 0., 0., 0., 0., 0., 0.,\n",
       "       0., 0., 0., 0., 0., 0., 0., 0., 0., 0., 0., 0., 0., 0., 0., 0., 0.,\n",
       "       0., 0., 0., 0., 0., 0., 0., 0., 0., 0., 0.])"
      ]
     },
     "execution_count": 75,
     "metadata": {},
     "output_type": "execute_result"
    }
   ],
   "source": [
    "CH_matrix=np.zeros((len(period)))\n",
    "DE_matrix=np.zeros((len(period)))\n",
    "FR_matrix=np.zeros((len(period)))\n",
    "IT_matrix=np.zeros((len(period)))\n",
    "US_matrix=np.zeros((len(period)))\n",
    "matrix_list=[CH_matrix,DE_matrix,FR_matrix,IT_matrix,US_matrix]\n",
    "matrix_list[3]"
   ]
  },
  {
   "cell_type": "code",
   "execution_count": 76,
   "id": "1f3dc11b-ee00-4f30-b3d8-8897cab2d79a",
   "metadata": {},
   "outputs": [
    {
     "data": {
      "text/plain": [
       "array(['CH', 'FR', 'IT', 'DE', 'US'], dtype=object)"
      ]
     },
     "execution_count": 76,
     "metadata": {},
     "output_type": "execute_result"
    }
   ],
   "source": [
    "country_array=np.delete(df['country'].unique(),[4,5])\n",
    "country_array"
   ]
  },
  {
   "cell_type": "code",
   "execution_count": 77,
   "id": "ce32d6b2-f507-44e6-ae0d-036e274c1c8c",
   "metadata": {},
   "outputs": [
    {
     "data": {
      "text/plain": [
       "22325     2018-03-14T08:04:20.636Z\n",
       "22327     2018-03-14T08:18:43.016Z\n",
       "22328     2018-03-14T08:33:35.042Z\n",
       "22329     2018-03-14T08:43:45.439Z\n",
       "22330     2018-03-14T08:48:38.379Z\n",
       "                    ...           \n",
       "374734    2021-09-24T06:51:03.593Z\n",
       "374747    2021-09-24T10:08:16.351Z\n",
       "374748    2021-09-24T10:57:31.761Z\n",
       "374760    2021-09-24T18:48:19.370Z\n",
       "374773    2021-09-26T18:33:11.546Z\n",
       "Name: created_at, Length: 118, dtype: object"
      ]
     },
     "execution_count": 77,
     "metadata": {},
     "output_type": "execute_result"
    }
   ],
   "source": [
    "df['created_at'].groupby(df['country']).get_group('FR')"
   ]
  },
  {
   "cell_type": "code",
   "execution_count": 120,
   "id": "bf8eab7b-9b82-4ac4-92e6-a9fd154aef35",
   "metadata": {},
   "outputs": [],
   "source": [
    "numbers=[0,1,2,3,4]\n",
    "\n",
    "for pays,n in zip(country_array,numbers):\n",
    "    group_country=pd.to_datetime(df['created_at'].groupby(df['country']).get_group(pays+'').str.replace('T',' ').str.replace('Z',''))\n",
    "    group_country.reset_index(drop=True,inplace=True)\n",
    "    for i in range (len(group_country)):\n",
    "        date=pd.Period(group_country[i], freq=\"M\")\n",
    "        for j in range (len(period)):\n",
    "            if period[j]==date:\n",
    "                matrix_list[n][j]+=1"
   ]
  },
  {
   "cell_type": "code",
   "execution_count": 128,
   "id": "151d0fca-ed8d-4aaa-99a3-d710cb5b92c9",
   "metadata": {},
   "outputs": [
    {
     "name": "stderr",
     "output_type": "stream",
     "text": [
      "No handles with labels found to put in legend.\n"
     ]
    },
    {
     "data": {
      "image/png": "[encoded data removed]",
      "text/plain": [
       "<Figure size 1872x432 with 1 Axes>"
      ]
     },
     "metadata": {
      "needs_background": "light"
     },
     "output_type": "display_data"
    }
   ],
   "source": [
    "plt.figure(figsize=(26,6))\n",
    "plt.yscale(\"log\")\n",
    "plt.bar(np.arange(len(period)), matrix_list[0])\n",
    "plt.bar(np.arange(len(period)), matrix_list[3], color=\"orange\", bottom=matrix_list[0])\n",
    "plt.bar(np.arange(len(period)), matrix_list[1], color=\"green\", bottom=matrix_list[3] + matrix_list[0])\n",
    "plt.bar(np.arange(len(period)), matrix_list[2], color=\"red\", bottom=matrix_list[1] + matrix_list[3] + matrix_list[0])\n",
    "plt.bar(np.arange(len(period)), matrix_list[4], color=\"blueviolet\", bottom=matrix_list[2] + matrix_list[1] + matrix_list[3] + matrix_list[0])\n",
    "plt.xticks(np.arange(len(period)),period, rotation=90)\n",
    "plt.title('Timeline of number of poduct created')\n",
    "plt.legend(loc='upper left')\n",
    "plt.show()"
   ]
  },
  {
   "cell_type": "markdown",
   "id": "0c47ae46-195f-4e10-acc6-456b48c05bd0",
   "metadata": {},
   "source": [
    "F. Correlation analysis"
   ]
  },
  {
   "cell_type": "markdown",
   "id": "0c8fe6c5-1b8a-44f2-9887-9b2d66f44637",
   "metadata": {},
   "source": [
    "Now our task will be to find the correlation between the numerical columns and the energy per hundred column."
   ]
  },
  {
   "cell_type": "code",
   "execution_count": 80,
   "id": "9f82d325-d8cf-4b7e-85f4-14aeb5c8dd23",
   "metadata": {},
   "outputs": [
    {
     "data": {
      "text/html": [
       "<div>\n",
       "<style scoped>\n",
       "    .dataframe tbody tr th:only-of-type {\n",
       "        vertical-align: middle;\n",
       "    }\n",
       "\n",
       "    .dataframe tbody tr th {\n",
       "        vertical-align: top;\n",
       "    }\n",
       "\n",
       "    .dataframe thead th {\n",
       "        text-align: right;\n",
       "    }\n",
       "</style>\n",
       "<table border=\"1\" class=\"dataframe\">\n",
       "  <thead>\n",
       "    <tr style=\"text-align: right;\">\n",
       "      <th></th>\n",
       "      <th>calcium_per_hundred</th>\n",
       "      <th>carbohydrates_per_hundred</th>\n",
       "      <th>cholesterol_per_hundred</th>\n",
       "      <th>copper_cu_per_hundred</th>\n",
       "      <th>energy_kcal_per_hundred</th>\n",
       "      <th>energy_per_hundred</th>\n",
       "      <th>fat_per_hundred</th>\n",
       "      <th>fatty_acids_total_saturated_per_hundred</th>\n",
       "      <th>fatty_acids_total_trans_per_hundred</th>\n",
       "      <th>fiber_insoluble_per_hundred</th>\n",
       "      <th>...</th>\n",
       "      <th>vitamin_a_iu_per_hundred</th>\n",
       "      <th>vitamin_b12_cobalamin_per_hundred</th>\n",
       "      <th>vitamin_b1_thiamin_per_hundred</th>\n",
       "      <th>vitamin_b2_riboflavin_per_hundred</th>\n",
       "      <th>vitamin_b3_niacin_per_hundred</th>\n",
       "      <th>vitamin_b5_panthothenic_acid_per_hundred</th>\n",
       "      <th>vitamin_b6_pyridoxin_per_hundred</th>\n",
       "      <th>vitamin_c_ascorbic_acid_per_hundred</th>\n",
       "      <th>vitamin_d_d2_d3_international_units_per_hundred</th>\n",
       "      <th>zinc_per_hundred</th>\n",
       "    </tr>\n",
       "  </thead>\n",
       "  <tbody>\n",
       "    <tr>\n",
       "      <th>0</th>\n",
       "      <td>36.0</td>\n",
       "      <td>75.00</td>\n",
       "      <td>0.0</td>\n",
       "      <td>0.48</td>\n",
       "      <td>359.0</td>\n",
       "      <td>1500.00</td>\n",
       "      <td>0.42</td>\n",
       "      <td>2.0</td>\n",
       "      <td>0.0</td>\n",
       "      <td>3.0</td>\n",
       "      <td>...</td>\n",
       "      <td>0.0</td>\n",
       "      <td>1.62</td>\n",
       "      <td>0.00</td>\n",
       "      <td>0.33</td>\n",
       "      <td>4.88</td>\n",
       "      <td>1.43</td>\n",
       "      <td>0.52</td>\n",
       "      <td>0.0</td>\n",
       "      <td>0.0</td>\n",
       "      <td>2.73</td>\n",
       "    </tr>\n",
       "    <tr>\n",
       "      <th>1</th>\n",
       "      <td>36.0</td>\n",
       "      <td>1.50</td>\n",
       "      <td>0.0</td>\n",
       "      <td>0.48</td>\n",
       "      <td>242.0</td>\n",
       "      <td>1010.00</td>\n",
       "      <td>18.00</td>\n",
       "      <td>2.0</td>\n",
       "      <td>0.0</td>\n",
       "      <td>3.0</td>\n",
       "      <td>...</td>\n",
       "      <td>0.0</td>\n",
       "      <td>1.62</td>\n",
       "      <td>0.00</td>\n",
       "      <td>0.33</td>\n",
       "      <td>4.88</td>\n",
       "      <td>1.43</td>\n",
       "      <td>0.52</td>\n",
       "      <td>0.0</td>\n",
       "      <td>0.0</td>\n",
       "      <td>2.73</td>\n",
       "    </tr>\n",
       "    <tr>\n",
       "      <th>2</th>\n",
       "      <td>36.0</td>\n",
       "      <td>52.68</td>\n",
       "      <td>0.0</td>\n",
       "      <td>0.48</td>\n",
       "      <td>325.0</td>\n",
       "      <td>1358.30</td>\n",
       "      <td>12.08</td>\n",
       "      <td>2.0</td>\n",
       "      <td>0.0</td>\n",
       "      <td>3.0</td>\n",
       "      <td>...</td>\n",
       "      <td>0.0</td>\n",
       "      <td>1.62</td>\n",
       "      <td>0.00</td>\n",
       "      <td>0.33</td>\n",
       "      <td>4.88</td>\n",
       "      <td>1.43</td>\n",
       "      <td>0.52</td>\n",
       "      <td>0.0</td>\n",
       "      <td>0.0</td>\n",
       "      <td>2.73</td>\n",
       "    </tr>\n",
       "    <tr>\n",
       "      <th>3</th>\n",
       "      <td>36.0</td>\n",
       "      <td>70.40</td>\n",
       "      <td>0.0</td>\n",
       "      <td>0.48</td>\n",
       "      <td>402.0</td>\n",
       "      <td>1679.00</td>\n",
       "      <td>7.90</td>\n",
       "      <td>2.0</td>\n",
       "      <td>0.0</td>\n",
       "      <td>3.0</td>\n",
       "      <td>...</td>\n",
       "      <td>0.0</td>\n",
       "      <td>1.62</td>\n",
       "      <td>0.00</td>\n",
       "      <td>0.33</td>\n",
       "      <td>4.88</td>\n",
       "      <td>1.43</td>\n",
       "      <td>0.52</td>\n",
       "      <td>0.0</td>\n",
       "      <td>0.0</td>\n",
       "      <td>2.73</td>\n",
       "    </tr>\n",
       "    <tr>\n",
       "      <th>4</th>\n",
       "      <td>36.0</td>\n",
       "      <td>37.00</td>\n",
       "      <td>0.0</td>\n",
       "      <td>0.48</td>\n",
       "      <td>591.0</td>\n",
       "      <td>2470.00</td>\n",
       "      <td>44.00</td>\n",
       "      <td>2.0</td>\n",
       "      <td>0.0</td>\n",
       "      <td>3.0</td>\n",
       "      <td>...</td>\n",
       "      <td>0.0</td>\n",
       "      <td>1.62</td>\n",
       "      <td>0.00</td>\n",
       "      <td>0.33</td>\n",
       "      <td>4.88</td>\n",
       "      <td>1.43</td>\n",
       "      <td>0.52</td>\n",
       "      <td>0.0</td>\n",
       "      <td>0.0</td>\n",
       "      <td>2.73</td>\n",
       "    </tr>\n",
       "    <tr>\n",
       "      <th>...</th>\n",
       "      <td>...</td>\n",
       "      <td>...</td>\n",
       "      <td>...</td>\n",
       "      <td>...</td>\n",
       "      <td>...</td>\n",
       "      <td>...</td>\n",
       "      <td>...</td>\n",
       "      <td>...</td>\n",
       "      <td>...</td>\n",
       "      <td>...</td>\n",
       "      <td>...</td>\n",
       "      <td>...</td>\n",
       "      <td>...</td>\n",
       "      <td>...</td>\n",
       "      <td>...</td>\n",
       "      <td>...</td>\n",
       "      <td>...</td>\n",
       "      <td>...</td>\n",
       "      <td>...</td>\n",
       "      <td>...</td>\n",
       "      <td>...</td>\n",
       "    </tr>\n",
       "    <tr>\n",
       "      <th>374879</th>\n",
       "      <td>36.0</td>\n",
       "      <td>23.53</td>\n",
       "      <td>0.0</td>\n",
       "      <td>0.48</td>\n",
       "      <td>267.0</td>\n",
       "      <td>1117.13</td>\n",
       "      <td>5.45</td>\n",
       "      <td>2.0</td>\n",
       "      <td>0.0</td>\n",
       "      <td>3.0</td>\n",
       "      <td>...</td>\n",
       "      <td>0.0</td>\n",
       "      <td>1.62</td>\n",
       "      <td>0.00</td>\n",
       "      <td>0.33</td>\n",
       "      <td>4.88</td>\n",
       "      <td>1.43</td>\n",
       "      <td>0.52</td>\n",
       "      <td>0.0</td>\n",
       "      <td>0.0</td>\n",
       "      <td>2.73</td>\n",
       "    </tr>\n",
       "    <tr>\n",
       "      <th>374880</th>\n",
       "      <td>850.0</td>\n",
       "      <td>48.60</td>\n",
       "      <td>0.0</td>\n",
       "      <td>0.48</td>\n",
       "      <td>285.0</td>\n",
       "      <td>1210.00</td>\n",
       "      <td>0.05</td>\n",
       "      <td>2.0</td>\n",
       "      <td>0.0</td>\n",
       "      <td>3.0</td>\n",
       "      <td>...</td>\n",
       "      <td>0.0</td>\n",
       "      <td>18.75</td>\n",
       "      <td>8.25</td>\n",
       "      <td>10.50</td>\n",
       "      <td>120.00</td>\n",
       "      <td>45.00</td>\n",
       "      <td>10.50</td>\n",
       "      <td>500.0</td>\n",
       "      <td>0.0</td>\n",
       "      <td>37.50</td>\n",
       "    </tr>\n",
       "    <tr>\n",
       "      <th>374881</th>\n",
       "      <td>36.0</td>\n",
       "      <td>22.00</td>\n",
       "      <td>0.0</td>\n",
       "      <td>0.48</td>\n",
       "      <td>584.0</td>\n",
       "      <td>2418.00</td>\n",
       "      <td>46.00</td>\n",
       "      <td>2.0</td>\n",
       "      <td>0.0</td>\n",
       "      <td>3.0</td>\n",
       "      <td>...</td>\n",
       "      <td>0.0</td>\n",
       "      <td>1.62</td>\n",
       "      <td>0.00</td>\n",
       "      <td>0.33</td>\n",
       "      <td>4.88</td>\n",
       "      <td>1.43</td>\n",
       "      <td>0.52</td>\n",
       "      <td>0.0</td>\n",
       "      <td>0.0</td>\n",
       "      <td>2.73</td>\n",
       "    </tr>\n",
       "    <tr>\n",
       "      <th>374882</th>\n",
       "      <td>36.0</td>\n",
       "      <td>23.53</td>\n",
       "      <td>0.0</td>\n",
       "      <td>0.48</td>\n",
       "      <td>267.0</td>\n",
       "      <td>1117.13</td>\n",
       "      <td>5.45</td>\n",
       "      <td>2.0</td>\n",
       "      <td>0.0</td>\n",
       "      <td>3.0</td>\n",
       "      <td>...</td>\n",
       "      <td>0.0</td>\n",
       "      <td>1.62</td>\n",
       "      <td>0.00</td>\n",
       "      <td>0.33</td>\n",
       "      <td>4.88</td>\n",
       "      <td>1.43</td>\n",
       "      <td>0.52</td>\n",
       "      <td>0.0</td>\n",
       "      <td>0.0</td>\n",
       "      <td>2.73</td>\n",
       "    </tr>\n",
       "    <tr>\n",
       "      <th>374883</th>\n",
       "      <td>36.0</td>\n",
       "      <td>23.53</td>\n",
       "      <td>0.0</td>\n",
       "      <td>0.48</td>\n",
       "      <td>267.0</td>\n",
       "      <td>1117.13</td>\n",
       "      <td>5.45</td>\n",
       "      <td>2.0</td>\n",
       "      <td>0.0</td>\n",
       "      <td>3.0</td>\n",
       "      <td>...</td>\n",
       "      <td>0.0</td>\n",
       "      <td>1.62</td>\n",
       "      <td>0.00</td>\n",
       "      <td>0.33</td>\n",
       "      <td>4.88</td>\n",
       "      <td>1.43</td>\n",
       "      <td>0.52</td>\n",
       "      <td>0.0</td>\n",
       "      <td>0.0</td>\n",
       "      <td>2.73</td>\n",
       "    </tr>\n",
       "  </tbody>\n",
       "</table>\n",
       "<p>374884 rows × 37 columns</p>\n",
       "</div>"
      ],
      "text/plain": [
       "        calcium_per_hundred  carbohydrates_per_hundred  \\\n",
       "0                      36.0                      75.00   \n",
       "1                      36.0                       1.50   \n",
       "2                      36.0                      52.68   \n",
       "3                      36.0                      70.40   \n",
       "4                      36.0                      37.00   \n",
       "...                     ...                        ...   \n",
       "374879                 36.0                      23.53   \n",
       "374880                850.0                      48.60   \n",
       "374881                 36.0                      22.00   \n",
       "374882                 36.0                      23.53   \n",
       "374883                 36.0                      23.53   \n",
       "\n",
       "        cholesterol_per_hundred  copper_cu_per_hundred  \\\n",
       "0                           0.0                   0.48   \n",
       "1                           0.0                   0.48   \n",
       "2                           0.0                   0.48   \n",
       "3                           0.0                   0.48   \n",
       "4                           0.0                   0.48   \n",
       "...                         ...                    ...   \n",
       "374879                      0.0                   0.48   \n",
       "374880                      0.0                   0.48   \n",
       "374881                      0.0                   0.48   \n",
       "374882                      0.0                   0.48   \n",
       "374883                      0.0                   0.48   \n",
       "\n",
       "        energy_kcal_per_hundred  energy_per_hundred  fat_per_hundred  \\\n",
       "0                         359.0             1500.00             0.42   \n",
       "1                         242.0             1010.00            18.00   \n",
       "2                         325.0             1358.30            12.08   \n",
       "3                         402.0             1679.00             7.90   \n",
       "4                         591.0             2470.00            44.00   \n",
       "...                         ...                 ...              ...   \n",
       "374879                    267.0             1117.13             5.45   \n",
       "374880                    285.0             1210.00             0.05   \n",
       "374881                    584.0             2418.00            46.00   \n",
       "374882                    267.0             1117.13             5.45   \n",
       "374883                    267.0             1117.13             5.45   \n",
       "\n",
       "        fatty_acids_total_saturated_per_hundred  \\\n",
       "0                                           2.0   \n",
       "1                                           2.0   \n",
       "2                                           2.0   \n",
       "3                                           2.0   \n",
       "4                                           2.0   \n",
       "...                                         ...   \n",
       "374879                                      2.0   \n",
       "374880                                      2.0   \n",
       "374881                                      2.0   \n",
       "374882                                      2.0   \n",
       "374883                                      2.0   \n",
       "\n",
       "        fatty_acids_total_trans_per_hundred  fiber_insoluble_per_hundred  ...  \\\n",
       "0                                       0.0                          3.0  ...   \n",
       "1                                       0.0                          3.0  ...   \n",
       "2                                       0.0                          3.0  ...   \n",
       "3                                       0.0                          3.0  ...   \n",
       "4                                       0.0                          3.0  ...   \n",
       "...                                     ...                          ...  ...   \n",
       "374879                                  0.0                          3.0  ...   \n",
       "374880                                  0.0                          3.0  ...   \n",
       "374881                                  0.0                          3.0  ...   \n",
       "374882                                  0.0                          3.0  ...   \n",
       "374883                                  0.0                          3.0  ...   \n",
       "\n",
       "        vitamin_a_iu_per_hundred  vitamin_b12_cobalamin_per_hundred  \\\n",
       "0                            0.0                               1.62   \n",
       "1                            0.0                               1.62   \n",
       "2                            0.0                               1.62   \n",
       "3                            0.0                               1.62   \n",
       "4                            0.0                               1.62   \n",
       "...                          ...                                ...   \n",
       "374879                       0.0                               1.62   \n",
       "374880                       0.0                              18.75   \n",
       "374881                       0.0                               1.62   \n",
       "374882                       0.0                               1.62   \n",
       "374883                       0.0                               1.62   \n",
       "\n",
       "        vitamin_b1_thiamin_per_hundred  vitamin_b2_riboflavin_per_hundred  \\\n",
       "0                                 0.00                               0.33   \n",
       "1                                 0.00                               0.33   \n",
       "2                                 0.00                               0.33   \n",
       "3                                 0.00                               0.33   \n",
       "4                                 0.00                               0.33   \n",
       "...                                ...                                ...   \n",
       "374879                            0.00                               0.33   \n",
       "374880                            8.25                              10.50   \n",
       "374881                            0.00                               0.33   \n",
       "374882                            0.00                               0.33   \n",
       "374883                            0.00                               0.33   \n",
       "\n",
       "        vitamin_b3_niacin_per_hundred  \\\n",
       "0                                4.88   \n",
       "1                                4.88   \n",
       "2                                4.88   \n",
       "3                                4.88   \n",
       "4                                4.88   \n",
       "...                               ...   \n",
       "374879                           4.88   \n",
       "374880                         120.00   \n",
       "374881                           4.88   \n",
       "374882                           4.88   \n",
       "374883                           4.88   \n",
       "\n",
       "        vitamin_b5_panthothenic_acid_per_hundred  \\\n",
       "0                                           1.43   \n",
       "1                                           1.43   \n",
       "2                                           1.43   \n",
       "3                                           1.43   \n",
       "4                                           1.43   \n",
       "...                                          ...   \n",
       "374879                                      1.43   \n",
       "374880                                     45.00   \n",
       "374881                                      1.43   \n",
       "374882                                      1.43   \n",
       "374883                                      1.43   \n",
       "\n",
       "        vitamin_b6_pyridoxin_per_hundred  vitamin_c_ascorbic_acid_per_hundred  \\\n",
       "0                                   0.52                                  0.0   \n",
       "1                                   0.52                                  0.0   \n",
       "2                                   0.52                                  0.0   \n",
       "3                                   0.52                                  0.0   \n",
       "4                                   0.52                                  0.0   \n",
       "...                                  ...                                  ...   \n",
       "374879                              0.52                                  0.0   \n",
       "374880                             10.50                                500.0   \n",
       "374881                              0.52                                  0.0   \n",
       "374882                              0.52                                  0.0   \n",
       "374883                              0.52                                  0.0   \n",
       "\n",
       "        vitamin_d_d2_d3_international_units_per_hundred  zinc_per_hundred  \n",
       "0                                                   0.0              2.73  \n",
       "1                                                   0.0              2.73  \n",
       "2                                                   0.0              2.73  \n",
       "3                                                   0.0              2.73  \n",
       "4                                                   0.0              2.73  \n",
       "...                                                 ...               ...  \n",
       "374879                                              0.0              2.73  \n",
       "374880                                              0.0             37.50  \n",
       "374881                                              0.0              2.73  \n",
       "374882                                              0.0              2.73  \n",
       "374883                                              0.0              2.73  \n",
       "\n",
       "[374884 rows x 37 columns]"
      ]
     },
     "execution_count": 80,
     "metadata": {},
     "output_type": "execute_result"
    }
   ],
   "source": [
    "df[per_hundred_list]"
   ]
  },
  {
   "cell_type": "code",
   "execution_count": 81,
   "id": "156db9d9-f30e-4432-87c5-172bc561f435",
   "metadata": {},
   "outputs": [],
   "source": [
    "correlation_list=[]\n",
    "\n",
    "for column in per_hundred_list:\n",
    "    correlation=abs(df['energy_per_hundred'].corr(df[column]))\n",
    "    correlation_list.append(correlation)"
   ]
  },
  {
   "cell_type": "markdown",
   "id": "65159210-65ed-450b-a1ab-4ee756979b15",
   "metadata": {},
   "source": [
    "Now let's create a dataframe holding all the correlations."
   ]
  },
  {
   "cell_type": "code",
   "execution_count": 82,
   "id": "f5404c8d-e1f9-412a-bb21-3fb5172711f2",
   "metadata": {},
   "outputs": [],
   "source": [
    "DATA=np.asarray(correlation_list).reshape(1,37)\n",
    "corr_df=pd.DataFrame(DATA, index=['correlation_with_energy_per_hundred'], columns=[per_hundred_list])"
   ]
  },
  {
   "cell_type": "code",
   "execution_count": 83,
   "id": "eecf5880-96d0-4625-8f19-27b8ea98326d",
   "metadata": {},
   "outputs": [
    {
     "data": {
      "text/html": [
       "<div>\n",
       "<style scoped>\n",
       "    .dataframe tbody tr th:only-of-type {\n",
       "        vertical-align: middle;\n",
       "    }\n",
       "\n",
       "    .dataframe tbody tr th {\n",
       "        vertical-align: top;\n",
       "    }\n",
       "\n",
       "    .dataframe thead tr th {\n",
       "        text-align: left;\n",
       "    }\n",
       "</style>\n",
       "<table border=\"1\" class=\"dataframe\">\n",
       "  <thead>\n",
       "    <tr>\n",
       "      <th></th>\n",
       "      <th>calcium_per_hundred</th>\n",
       "      <th>carbohydrates_per_hundred</th>\n",
       "      <th>cholesterol_per_hundred</th>\n",
       "      <th>copper_cu_per_hundred</th>\n",
       "      <th>energy_kcal_per_hundred</th>\n",
       "      <th>energy_per_hundred</th>\n",
       "      <th>fat_per_hundred</th>\n",
       "      <th>fatty_acids_total_saturated_per_hundred</th>\n",
       "      <th>fatty_acids_total_trans_per_hundred</th>\n",
       "      <th>fiber_insoluble_per_hundred</th>\n",
       "      <th>...</th>\n",
       "      <th>vitamin_a_iu_per_hundred</th>\n",
       "      <th>vitamin_b12_cobalamin_per_hundred</th>\n",
       "      <th>vitamin_b1_thiamin_per_hundred</th>\n",
       "      <th>vitamin_b2_riboflavin_per_hundred</th>\n",
       "      <th>vitamin_b3_niacin_per_hundred</th>\n",
       "      <th>vitamin_b5_panthothenic_acid_per_hundred</th>\n",
       "      <th>vitamin_b6_pyridoxin_per_hundred</th>\n",
       "      <th>vitamin_c_ascorbic_acid_per_hundred</th>\n",
       "      <th>vitamin_d_d2_d3_international_units_per_hundred</th>\n",
       "      <th>zinc_per_hundred</th>\n",
       "    </tr>\n",
       "  </thead>\n",
       "  <tbody>\n",
       "    <tr>\n",
       "      <th>correlation_with_energy_per_hundred</th>\n",
       "      <td>0.0384</td>\n",
       "      <td>0.506816</td>\n",
       "      <td>0.007862</td>\n",
       "      <td>0.000241</td>\n",
       "      <td>0.725782</td>\n",
       "      <td>1.0</td>\n",
       "      <td>0.747531</td>\n",
       "      <td>0.499583</td>\n",
       "      <td>0.042554</td>\n",
       "      <td>0.015892</td>\n",
       "      <td>...</td>\n",
       "      <td>0.019694</td>\n",
       "      <td>0.002696</td>\n",
       "      <td>0.003706</td>\n",
       "      <td>0.001093</td>\n",
       "      <td>0.001097</td>\n",
       "      <td>0.003018</td>\n",
       "      <td>0.003326</td>\n",
       "      <td>0.01462</td>\n",
       "      <td>0.001911</td>\n",
       "      <td>0.004605</td>\n",
       "    </tr>\n",
       "  </tbody>\n",
       "</table>\n",
       "<p>1 rows × 37 columns</p>\n",
       "</div>"
      ],
      "text/plain": [
       "                                    calcium_per_hundred  \\\n",
       "correlation_with_energy_per_hundred              0.0384   \n",
       "\n",
       "                                    carbohydrates_per_hundred  \\\n",
       "correlation_with_energy_per_hundred                  0.506816   \n",
       "\n",
       "                                    cholesterol_per_hundred  \\\n",
       "correlation_with_energy_per_hundred                0.007862   \n",
       "\n",
       "                                    copper_cu_per_hundred  \\\n",
       "correlation_with_energy_per_hundred              0.000241   \n",
       "\n",
       "                                    energy_kcal_per_hundred  \\\n",
       "correlation_with_energy_per_hundred                0.725782   \n",
       "\n",
       "                                    energy_per_hundred fat_per_hundred  \\\n",
       "correlation_with_energy_per_hundred                1.0        0.747531   \n",
       "\n",
       "                                    fatty_acids_total_saturated_per_hundred  \\\n",
       "correlation_with_energy_per_hundred                                0.499583   \n",
       "\n",
       "                                    fatty_acids_total_trans_per_hundred  \\\n",
       "correlation_with_energy_per_hundred                            0.042554   \n",
       "\n",
       "                                    fiber_insoluble_per_hundred  ...  \\\n",
       "correlation_with_energy_per_hundred                    0.015892  ...   \n",
       "\n",
       "                                    vitamin_a_iu_per_hundred  \\\n",
       "correlation_with_energy_per_hundred                 0.019694   \n",
       "\n",
       "                                    vitamin_b12_cobalamin_per_hundred  \\\n",
       "correlation_with_energy_per_hundred                          0.002696   \n",
       "\n",
       "                                    vitamin_b1_thiamin_per_hundred  \\\n",
       "correlation_with_energy_per_hundred                       0.003706   \n",
       "\n",
       "                                    vitamin_b2_riboflavin_per_hundred  \\\n",
       "correlation_with_energy_per_hundred                          0.001093   \n",
       "\n",
       "                                    vitamin_b3_niacin_per_hundred  \\\n",
       "correlation_with_energy_per_hundred                      0.001097   \n",
       "\n",
       "                                    vitamin_b5_panthothenic_acid_per_hundred  \\\n",
       "correlation_with_energy_per_hundred                                 0.003018   \n",
       "\n",
       "                                    vitamin_b6_pyridoxin_per_hundred  \\\n",
       "correlation_with_energy_per_hundred                         0.003326   \n",
       "\n",
       "                                    vitamin_c_ascorbic_acid_per_hundred  \\\n",
       "correlation_with_energy_per_hundred                             0.01462   \n",
       "\n",
       "                                    vitamin_d_d2_d3_international_units_per_hundred  \\\n",
       "correlation_with_energy_per_hundred                                        0.001911   \n",
       "\n",
       "                                    zinc_per_hundred  \n",
       "correlation_with_energy_per_hundred         0.004605  \n",
       "\n",
       "[1 rows x 37 columns]"
      ]
     },
     "execution_count": 83,
     "metadata": {},
     "output_type": "execute_result"
    }
   ],
   "source": [
    "corr_df # Displaying he dataframe"
   ]
  },
  {
   "cell_type": "markdown",
   "id": "c7f5fc29-7b9a-42ca-8916-982bb68ad301",
   "metadata": {},
   "source": [
    "Great, now we will try to show the real relationship, so we will therefore plot the three most correlated and the three least correlated."
   ]
  },
  {
   "cell_type": "markdown",
   "id": "e47ff144-f2fd-4373-89de-14a630467e75",
   "metadata": {},
   "source": [
    "But first we are going to drop the column that shows the correlation with energy per hundred, as we know that the value is 1."
   ]
  },
  {
   "cell_type": "code",
   "execution_count": 84,
   "id": "b000c12c-4c31-4dbb-b9e9-40c796457bcf",
   "metadata": {},
   "outputs": [],
   "source": [
    "corr_df.drop('energy_per_hundred', axis=1, inplace=True)"
   ]
  },
  {
   "cell_type": "code",
   "execution_count": 85,
   "id": "672e713a-093f-4ca4-8edc-c15450e76223",
   "metadata": {},
   "outputs": [],
   "source": [
    "corr_df.drop('energy_kcal_per_hundred', axis=1, inplace=True)"
   ]
  },
  {
   "cell_type": "code",
   "execution_count": 86,
   "id": "adfc3ebe-3430-44eb-9a17-ff350ec0624e",
   "metadata": {},
   "outputs": [
    {
     "data": {
      "text/html": [
       "<div>\n",
       "<style scoped>\n",
       "    .dataframe tbody tr th:only-of-type {\n",
       "        vertical-align: middle;\n",
       "    }\n",
       "\n",
       "    .dataframe tbody tr th {\n",
       "        vertical-align: top;\n",
       "    }\n",
       "\n",
       "    .dataframe thead th {\n",
       "        text-align: right;\n",
       "    }\n",
       "</style>\n",
       "<table border=\"1\" class=\"dataframe\">\n",
       "  <thead>\n",
       "    <tr style=\"text-align: right;\">\n",
       "      <th></th>\n",
       "      <th>correlation_with_energy_per_hundred</th>\n",
       "    </tr>\n",
       "  </thead>\n",
       "  <tbody>\n",
       "    <tr>\n",
       "      <th>fat_per_hundred</th>\n",
       "      <td>0.747531</td>\n",
       "    </tr>\n",
       "    <tr>\n",
       "      <th>carbohydrates_per_hundred</th>\n",
       "      <td>0.506816</td>\n",
       "    </tr>\n",
       "    <tr>\n",
       "      <th>fatty_acids_total_saturated_per_hundred</th>\n",
       "      <td>0.499583</td>\n",
       "    </tr>\n",
       "  </tbody>\n",
       "</table>\n",
       "</div>"
      ],
      "text/plain": [
       "                                         correlation_with_energy_per_hundred\n",
       "fat_per_hundred                                                     0.747531\n",
       "carbohydrates_per_hundred                                           0.506816\n",
       "fatty_acids_total_saturated_per_hundred                             0.499583"
      ]
     },
     "execution_count": 86,
     "metadata": {},
     "output_type": "execute_result"
    }
   ],
   "source": [
    "most_correlated=corr_df.T.sort_values(by=['correlation_with_energy_per_hundred'], ascending=False).head(3) # Displaying the most corralated\n",
    "most_correlated"
   ]
  },
  {
   "cell_type": "code",
   "execution_count": 87,
   "id": "98eb2790-6334-4cac-beb1-9d8c49ace1d6",
   "metadata": {},
   "outputs": [
    {
     "data": {
      "text/html": [
       "<div>\n",
       "<style scoped>\n",
       "    .dataframe tbody tr th:only-of-type {\n",
       "        vertical-align: middle;\n",
       "    }\n",
       "\n",
       "    .dataframe tbody tr th {\n",
       "        vertical-align: top;\n",
       "    }\n",
       "\n",
       "    .dataframe thead th {\n",
       "        text-align: right;\n",
       "    }\n",
       "</style>\n",
       "<table border=\"1\" class=\"dataframe\">\n",
       "  <thead>\n",
       "    <tr style=\"text-align: right;\">\n",
       "      <th></th>\n",
       "      <th>correlation_with_energy_per_hundred</th>\n",
       "    </tr>\n",
       "  </thead>\n",
       "  <tbody>\n",
       "    <tr>\n",
       "      <th>copper_cu_per_hundred</th>\n",
       "      <td>0.000241</td>\n",
       "    </tr>\n",
       "    <tr>\n",
       "      <th>vitamin_b2_riboflavin_per_hundred</th>\n",
       "      <td>0.001093</td>\n",
       "    </tr>\n",
       "    <tr>\n",
       "      <th>vitamin_b3_niacin_per_hundred</th>\n",
       "      <td>0.001097</td>\n",
       "    </tr>\n",
       "  </tbody>\n",
       "</table>\n",
       "</div>"
      ],
      "text/plain": [
       "                                   correlation_with_energy_per_hundred\n",
       "copper_cu_per_hundred                                         0.000241\n",
       "vitamin_b2_riboflavin_per_hundred                             0.001093\n",
       "vitamin_b3_niacin_per_hundred                                 0.001097"
      ]
     },
     "execution_count": 87,
     "metadata": {},
     "output_type": "execute_result"
    }
   ],
   "source": [
    "least_correlated=corr_df.T.sort_values(by=['correlation_with_energy_per_hundred'], ascending=True).head(3) # Displaying the least corralated\n",
    "least_correlated"
   ]
  },
  {
   "cell_type": "markdown",
   "id": "b2db72b1-33a4-475f-a76d-d90bd7d96284",
   "metadata": {},
   "source": [
    "Now let's plot those correlation using scatter plot"
   ]
  },
  {
   "cell_type": "code",
   "execution_count": 102,
   "id": "6b336cf9-a987-4776-a364-a553db1a824a",
   "metadata": {},
   "outputs": [
    {
     "name": "stderr",
     "output_type": "stream",
     "text": [
      "/Users/etienneleguay/opt/anaconda3/envs/adsml/lib/python3.9/site-packages/seaborn/_decorators.py:36: FutureWarning: Pass the following variables as keyword args: x, y. From version 0.12, the only valid positional argument will be `data`, and passing other arguments without an explicit keyword will result in an error or misinterpretation.\n",
      "  warnings.warn(\n",
      "/Users/etienneleguay/opt/anaconda3/envs/adsml/lib/python3.9/site-packages/seaborn/_decorators.py:36: FutureWarning: Pass the following variables as keyword args: x, y. From version 0.12, the only valid positional argument will be `data`, and passing other arguments without an explicit keyword will result in an error or misinterpretation.\n",
      "  warnings.warn(\n",
      "/Users/etienneleguay/opt/anaconda3/envs/adsml/lib/python3.9/site-packages/seaborn/_decorators.py:36: FutureWarning: Pass the following variables as keyword args: x, y. From version 0.12, the only valid positional argument will be `data`, and passing other arguments without an explicit keyword will result in an error or misinterpretation.\n",
      "  warnings.warn(\n",
      "/Users/etienneleguay/opt/anaconda3/envs/adsml/lib/python3.9/site-packages/seaborn/_decorators.py:36: FutureWarning: Pass the following variables as keyword args: x, y. From version 0.12, the only valid positional argument will be `data`, and passing other arguments without an explicit keyword will result in an error or misinterpretation.\n",
      "  warnings.warn(\n",
      "/Users/etienneleguay/opt/anaconda3/envs/adsml/lib/python3.9/site-packages/seaborn/_decorators.py:36: FutureWarning: Pass the following variables as keyword args: x, y. From version 0.12, the only valid positional argument will be `data`, and passing other arguments without an explicit keyword will result in an error or misinterpretation.\n",
      "  warnings.warn(\n",
      "/Users/etienneleguay/opt/anaconda3/envs/adsml/lib/python3.9/site-packages/seaborn/_decorators.py:36: FutureWarning: Pass the following variables as keyword args: x, y. From version 0.12, the only valid positional argument will be `data`, and passing other arguments without an explicit keyword will result in an error or misinterpretation.\n",
      "  warnings.warn(\n"
     ]
    },
    {
     "data": {
      "image/png": "[encoded data removed]",
      "text/plain": [
       "<Figure size 1296x720 with 6 Axes>"
      ]
     },
     "metadata": {
      "needs_background": "light"
     },
     "output_type": "display_data"
    }
   ],
   "source": [
    "correlations_list=['fat_per_hundred','carbohydrates_per_hundred','sugars_per_hundred','vitamin_b6_pyridoxin_per_hundred',\n",
    "                   'copper_cu_per_hundred','vitamin_b2_riboflavin_per_hundred']\n",
    "fig = plt.figure(figsize=(18, 10))\n",
    "\n",
    "for corr in (correlations_list):\n",
    "    subplot = fig.add_subplot(2, 3, correlations_list.index(corr)+1)\n",
    "    sns.scatterplot(df.energy_per_hundred,df[corr],data=corr_df)\n",
    "\n",
    "plt.suptitle(\n",
    "    \"Most and least correlated variables in a scatter plot\",\n",
    "    fontsize=20,\n",
    ")\n",
    "fig.tight_layout()\n",
    "\n",
    "plt.show()"
   ]
  },
  {
   "cell_type": "markdown",
   "id": "2d58d4f3-26c0-4a04-99c8-8791ebcc98aa",
   "metadata": {},
   "source": [
    "Indeed, they're not all linear, as we can see above. We can spot extremes values on the three plot of the least correlated variables, but even once removed it would not change anything."
   ]
  },
  {
   "cell_type": "code",
   "execution_count": 90,
   "id": "a04ab143-0bd4-4931-bdff-f599ef1b8158",
   "metadata": {},
   "outputs": [
    {
     "data": {
      "text/plain": [
       "1117.13"
      ]
     },
     "execution_count": 90,
     "metadata": {},
     "output_type": "execute_result"
    }
   ],
   "source": [
    "df['energy_per_hundred'].median()"
   ]
  },
  {
   "cell_type": "markdown",
   "id": "1d310be4-cdd7-43ae-9158-83c55d95bcd0",
   "metadata": {},
   "source": [
    "We will now try to test the independance of two categorical variables, by trying to turn the energy per hundred column into a categorical variables. To do that, we are going to create three different levels: low energy, medium energy and high energy."
   ]
  },
  {
   "cell_type": "markdown",
   "id": "ef99761f-7661-455b-9b45-a0d6565f23a7",
   "metadata": {},
   "source": [
    "In order to determine which values correspond to which level, let's focus on the energy_per_hundred column."
   ]
  },
  {
   "cell_type": "code",
   "execution_count": 91,
   "id": "20e75334-2712-489b-ba13-3b4e8b455814",
   "metadata": {},
   "outputs": [
    {
     "data": {
      "text/plain": [
       "count    374884.000000\n",
       "mean       1121.203320\n",
       "std         745.930953\n",
       "min           0.000000\n",
       "25%         435.140000\n",
       "50%        1117.130000\n",
       "75%        1644.310000\n",
       "max        3700.000000\n",
       "Name: energy_per_hundred, dtype: float64"
      ]
     },
     "execution_count": 91,
     "metadata": {},
     "output_type": "execute_result"
    }
   ],
   "source": [
    "df['energy_per_hundred'].describe()"
   ]
  },
  {
   "cell_type": "markdown",
   "id": "8e23da05-dafc-41a3-a8b8-bbdcfde67817",
   "metadata": {},
   "source": [
    "First, we can see that the median and the mean values are pretty much close. We can imagine 3 different levels that are 0 to 800, 800 to 1200 to 1600"
   ]
  },
  {
   "cell_type": "code",
   "execution_count": 112,
   "id": "0756b754-1612-4146-9f3c-49d0f95419fa",
   "metadata": {},
   "outputs": [],
   "source": [
    "def energy_function(energy):\n",
    "    if energy<=800:\n",
    "        energy='low energy'\n",
    "    else:\n",
    "        if energy<=1200:\n",
    "            energy ='medium energy'\n",
    "        else:\n",
    "            if energy>1200:\n",
    "                energy='high energy'\n",
    "            \n",
    "    return energy"
   ]
  },
  {
   "cell_type": "code",
   "execution_count": 113,
   "id": "a1b102f2-d5f7-4be6-918b-a74a82df24de",
   "metadata": {},
   "outputs": [],
   "source": [
    "energy_df=[energy_function(energy) for energy in df['energy_per_hundred']]"
   ]
  },
  {
   "cell_type": "code",
   "execution_count": 114,
   "id": "41061cc2-0001-4d7e-9fce-031ac9410572",
   "metadata": {},
   "outputs": [],
   "source": [
    "df['energy_str']=energy_df"
   ]
  },
  {
   "cell_type": "code",
   "execution_count": 115,
   "id": "1fdab7c7-a8eb-4226-b2dc-ce66da6af071",
   "metadata": {},
   "outputs": [
    {
     "data": {
      "text/html": [
       "<div>\n",
       "<style scoped>\n",
       "    .dataframe tbody tr th:only-of-type {\n",
       "        vertical-align: middle;\n",
       "    }\n",
       "\n",
       "    .dataframe tbody tr th {\n",
       "        vertical-align: top;\n",
       "    }\n",
       "\n",
       "    .dataframe thead th {\n",
       "        text-align: right;\n",
       "    }\n",
       "</style>\n",
       "<table border=\"1\" class=\"dataframe\">\n",
       "  <thead>\n",
       "    <tr style=\"text-align: right;\">\n",
       "      <th></th>\n",
       "      <th>count</th>\n",
       "      <th>unique</th>\n",
       "      <th>top</th>\n",
       "      <th>freq</th>\n",
       "    </tr>\n",
       "    <tr>\n",
       "      <th>country</th>\n",
       "      <th></th>\n",
       "      <th></th>\n",
       "      <th></th>\n",
       "      <th></th>\n",
       "    </tr>\n",
       "  </thead>\n",
       "  <tbody>\n",
       "    <tr>\n",
       "      <th>AT</th>\n",
       "      <td>1</td>\n",
       "      <td>1</td>\n",
       "      <td>low energy</td>\n",
       "      <td>1</td>\n",
       "    </tr>\n",
       "    <tr>\n",
       "      <th>CH</th>\n",
       "      <td>33117</td>\n",
       "      <td>3</td>\n",
       "      <td>medium energy</td>\n",
       "      <td>13898</td>\n",
       "    </tr>\n",
       "    <tr>\n",
       "      <th>DE</th>\n",
       "      <td>10639</td>\n",
       "      <td>3</td>\n",
       "      <td>medium energy</td>\n",
       "      <td>9743</td>\n",
       "    </tr>\n",
       "    <tr>\n",
       "      <th>FR</th>\n",
       "      <td>118</td>\n",
       "      <td>3</td>\n",
       "      <td>medium energy</td>\n",
       "      <td>76</td>\n",
       "    </tr>\n",
       "    <tr>\n",
       "      <th>IT</th>\n",
       "      <td>2719</td>\n",
       "      <td>3</td>\n",
       "      <td>medium energy</td>\n",
       "      <td>2470</td>\n",
       "    </tr>\n",
       "    <tr>\n",
       "      <th>UK</th>\n",
       "      <td>1</td>\n",
       "      <td>1</td>\n",
       "      <td>low energy</td>\n",
       "      <td>1</td>\n",
       "    </tr>\n",
       "    <tr>\n",
       "      <th>US</th>\n",
       "      <td>328289</td>\n",
       "      <td>3</td>\n",
       "      <td>high energy</td>\n",
       "      <td>146729</td>\n",
       "    </tr>\n",
       "  </tbody>\n",
       "</table>\n",
       "</div>"
      ],
      "text/plain": [
       "          count unique            top    freq\n",
       "country                                      \n",
       "AT            1      1     low energy       1\n",
       "CH        33117      3  medium energy   13898\n",
       "DE        10639      3  medium energy    9743\n",
       "FR          118      3  medium energy      76\n",
       "IT         2719      3  medium energy    2470\n",
       "UK            1      1     low energy       1\n",
       "US       328289      3    high energy  146729"
      ]
     },
     "execution_count": 115,
     "metadata": {},
     "output_type": "execute_result"
    }
   ],
   "source": [
    "energy_grouped=df['energy_str'].groupby(df.country)\n",
    "energy_grouped.describe()"
   ]
  },
  {
   "cell_type": "markdown",
   "id": "0c11dcf0-94ed-4c02-8dd2-0f3607877788",
   "metadata": {},
   "source": [
    "Now, that we have replaced the number by those categories, let's investigate on if the level of energy in the product is associated with the country where the product is produced. To do that we could have find the percentage of product that comes from any country, but that would not be the best way, because some country have way more product that other countries. Therefore we are going to plot the proportion of low, meidum and high energy product in each country."
   ]
  },
  {
   "cell_type": "code",
   "execution_count": 116,
   "id": "3ae4dca5-7c3c-4479-9510-591bf5977b8a",
   "metadata": {},
   "outputs": [],
   "source": [
    "grouped_country=df.groupby('country')"
   ]
  },
  {
   "cell_type": "code",
   "execution_count": 117,
   "id": "7620e081-d8eb-4fde-aeb6-5f09fa3bd8de",
   "metadata": {},
   "outputs": [
    {
     "data": {
      "text/plain": [
       "['high energy', 'low energy', 'medium energy']"
      ]
     },
     "execution_count": 117,
     "metadata": {},
     "output_type": "execute_result"
    }
   ],
   "source": [
    "grouped_country.get_group('US').groupby('energy_str').count()['index'].index.tolist()"
   ]
  },
  {
   "cell_type": "code",
   "execution_count": 118,
   "id": "c6a9f518-d2d5-44ab-9727-d76614c71650",
   "metadata": {},
   "outputs": [
    {
     "data": {
      "text/plain": [
       "energy_str\n",
       "high energy      10333\n",
       "low energy        8886\n",
       "medium energy    13898\n",
       "Name: index, dtype: int64"
      ]
     },
     "execution_count": 118,
     "metadata": {},
     "output_type": "execute_result"
    }
   ],
   "source": [
    "grouped_country.get_group(country).groupby('energy_str').count()['index']"
   ]
  },
  {
   "cell_type": "code",
   "execution_count": 119,
   "id": "76db2ffc-8f01-46b7-be96-2994ee7a0daf",
   "metadata": {},
   "outputs": [
    {
     "data": {
      "image/png": "[encoded data removed]",
      "text/plain": [
       "<Figure size 1296x720 with 5 Axes>"
      ]
     },
     "metadata": {
      "needs_background": "light"
     },
     "output_type": "display_data"
    }
   ],
   "source": [
    "figure=plt.figure(figsize=(18, 10))\n",
    "\n",
    "for country in country_list:\n",
    "    subplot = figure.add_subplot(2, 3, country_list.index(country)+1)\n",
    "    plt.bar(grouped_country.get_group(country).groupby('energy_str').count()['index'].index.tolist(),\n",
    "            grouped_country.get_group(country).groupby('energy_str').count()['index'])\n",
    "    plt.title('Distribution of levels of energy in the '+country)\n",
    "\n",
    "figure.tight_layout()"
   ]
  },
  {
   "cell_type": "markdown",
   "id": "857bdb5f-4318-4293-bb84-056383a16e5c",
   "metadata": {},
   "source": [
    "Finally, we can see that if a product comes from Germany or Italie, it is very probable that this is a medium energy level product. However, if it comes from United states, it is less probable, as the major proportion of product are high and low energy level product."
   ]
  },
  {
   "cell_type": "code",
   "execution_count": null,
   "id": "8c3d85ee-05d6-4821-88ea-1b1f4e7cccfd",
   "metadata": {},
   "outputs": [],
   "source": []
  }
 ],
 "metadata": {
  "kernelspec": {
   "display_name": "Python [conda env:adsml] *",
   "language": "python",
   "name": "conda-env-adsml-py"
  },
  "language_info": {
   "codemirror_mode": {
    "name": "ipython",
    "version": 3
   },
   "file_extension": ".py",
   "mimetype": "text/x-python",
   "name": "python",
   "nbconvert_exporter": "python",
   "pygments_lexer": "ipython3",
   "version": "3.9.7"
  }
 },
 "nbformat": 4,
 "nbformat_minor": 5
}
